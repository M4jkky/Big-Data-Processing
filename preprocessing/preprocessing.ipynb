{
 "cells": [
  {
   "cell_type": "markdown",
   "id": "ecadab993fdae237",
   "metadata": {},
   "source": [
    "# Predspracovanie dát"
   ]
  },
  {
   "cell_type": "code",
   "execution_count": 1,
   "id": "initial_id",
   "metadata": {
    "ExecuteTime": {
     "end_time": "2025-04-14T16:16:36.818845Z",
     "start_time": "2025-04-14T16:16:36.809031Z"
    },
    "collapsed": true
   },
   "outputs": [],
   "source": [
    "import sys\n",
    "import os\n",
    "\n",
    "sys.path.append(os.path.dirname(os.path.dirname(os.path.abspath(\"__file__\"))))\n",
    "\n",
    "from pyspark.ml.feature import StringIndexer , OneHotEncoder, Bucketizer, VectorAssembler, StandardScaler\n",
    "from pyspark.sql.functions import col, log2, sum, count, when\n",
    "from integration.integration import integration\n",
    "from pyspark.sql.functions import median\n",
    "from pyspark.sql import SparkSession\n",
    "from collections import Counter"
   ]
  },
  {
   "cell_type": "code",
   "execution_count": 2,
   "id": "9942c5b24fa3aa2f",
   "metadata": {
    "ExecuteTime": {
     "end_time": "2025-04-14T16:16:36.862212Z",
     "start_time": "2025-04-14T16:16:36.838451Z"
    }
   },
   "outputs": [],
   "source": [
    "spark = SparkSession.builder.appName(\"preprocessing\").getOrCreate()\n",
    "spark.sparkContext.setLogLevel(\"ERROR\")"
   ]
  },
  {
   "cell_type": "code",
   "execution_count": 3,
   "id": "56d34e2b63d29496",
   "metadata": {
    "ExecuteTime": {
     "end_time": "2025-04-14T16:16:43.154231Z",
     "start_time": "2025-04-14T16:16:36.869643Z"
    }
   },
   "outputs": [],
   "source": [
    "df_train, df_test = integration()\n",
    "df_train = df_train.drop(\"Accident_Index\", \"Date\")\n",
    "df_test = df_test.drop(\"Accident_Index\",\"Date\")"
   ]
  },
  {
   "cell_type": "markdown",
   "id": "bc654fb2dc0db681",
   "metadata": {},
   "source": [
    "#### Zistenie, ktoré stĺpce sú kvantitatívne a kategorické"
   ]
  },
  {
   "cell_type": "code",
   "execution_count": 4,
   "id": "f5da9e3607bcd637",
   "metadata": {
    "ExecuteTime": {
     "end_time": "2025-04-14T16:16:43.216931Z",
     "start_time": "2025-04-14T16:16:43.213318Z"
    }
   },
   "outputs": [
    {
     "name": "stdout",
     "output_type": "stream",
     "text": [
      "[('Location_Easting_OSGR', 'int'), ('Location_Northing_OSGR', 'int'), ('Longitude', 'double'), ('Latitude', 'double'), ('Police_Force', 'int'), ('Accident_Severity', 'int'), ('Number_of_Vehicles', 'int'), ('Number_of_Casualties', 'int'), ('Day_of_Week', 'int'), ('Time', 'timestamp'), ('Local_Authority_(District)', 'int'), ('Local_Authority_(Highway)', 'string'), ('1st_Road_Class', 'int'), ('1st_Road_Number', 'int'), ('Road_Type', 'int'), ('Speed_limit', 'int'), ('Junction_Detail', 'int'), ('Junction_Control', 'int'), ('2nd_Road_Class', 'int'), ('2nd_Road_Number', 'int'), ('Pedestrian_Crossing-Human_Control', 'int'), ('Pedestrian_Crossing-Physical_Facilities', 'int'), ('Light_Conditions', 'int'), ('Weather_Conditions', 'int'), ('Road_Surface_Conditions', 'int'), ('Special_Conditions_at_Site', 'int'), ('Carriageway_Hazards', 'int'), ('Urban_or_Rural_Area', 'int'), ('Did_Police_Officer_Attend_Scene_of_Accident', 'int'), ('LSOA_of_Accident_Location', 'string'), ('Vehicle_Reference', 'int'), ('Casualty_Reference', 'int'), ('Casualty_Class', 'int'), ('Sex_of_Casualty', 'int'), ('Age_of_Casualty', 'int'), ('Age_Band_of_Casualty', 'int'), ('Casualty_Severity', 'int'), ('Pedestrian_Location', 'int'), ('Pedestrian_Movement', 'int'), ('Car_Passenger', 'int'), ('Bus_or_Coach_Passenger', 'int'), ('Pedestrian_Road_Maintenance_Worker', 'int'), ('Casualty_Type', 'int'), ('Casualty_Home_Area_Type', 'int'), ('Vehicle_Type', 'int'), ('Towing_and_Articulation', 'int'), ('Vehicle_Manoeuvre', 'int'), ('Vehicle_Location-Restricted_Lane', 'int'), ('Junction_Location', 'int'), ('Skidding_and_Overturning', 'int'), ('Hit_Object_in_Carriageway', 'int'), ('Vehicle_Leaving_Carriageway', 'int'), ('Hit_Object_off_Carriageway', 'int'), ('1st_Point_of_Impact', 'int'), ('Was_Vehicle_Left_Hand_Drive?', 'int'), ('Journey_Purpose_of_Driver', 'int'), ('Sex_of_Driver', 'int'), ('Age_of_Driver', 'int'), ('Age_Band_of_Driver', 'int'), ('Engine_Capacity_(CC)', 'int'), ('Propulsion_Code', 'int'), ('Age_of_Vehicle', 'int'), ('Driver_IMD_Decile', 'int'), ('Driver_Home_Area_Type', 'int')]\n"
     ]
    }
   ],
   "source": [
    "types = df_train.dtypes\n",
    "print(types)"
   ]
  },
  {
   "cell_type": "code",
   "execution_count": 5,
   "id": "b70fc1d4c7b90c08",
   "metadata": {
    "ExecuteTime": {
     "end_time": "2025-04-14T16:16:43.253228Z",
     "start_time": "2025-04-14T16:16:43.249694Z"
    }
   },
   "outputs": [
    {
     "name": "stdout",
     "output_type": "stream",
     "text": [
      "Counter({'int': 59, 'double': 2, 'string': 2, 'timestamp': 1})\n"
     ]
    }
   ],
   "source": [
    "counts = Counter()\n",
    "\n",
    "for dtype in types:\n",
    "    counts[dtype[1]] += 1\n",
    "\n",
    "print(counts)"
   ]
  },
  {
   "cell_type": "markdown",
   "id": "dafe45440e848f14",
   "metadata": {},
   "source": [
    "#### Vypočítanie základných štatistík pre kvantitatívne stĺpce"
   ]
  },
  {
   "cell_type": "code",
   "execution_count": 6,
   "id": "f7ad9ec3b9a4201c",
   "metadata": {
    "ExecuteTime": {
     "end_time": "2025-04-14T16:16:43.274875Z",
     "start_time": "2025-04-14T16:16:43.272446Z"
    }
   },
   "outputs": [],
   "source": [
    "def get_int(df):\n",
    "    int_columns = []\n",
    "\n",
    "    for column, data_type in df.dtypes:\n",
    "        if data_type == \"int\":\n",
    "            int_columns.append(column)\n",
    "    return int_columns"
   ]
  },
  {
   "cell_type": "code",
   "execution_count": 7,
   "id": "6692c2640ac8733e",
   "metadata": {
    "ExecuteTime": {
     "end_time": "2025-04-14T16:20:16.863093Z",
     "start_time": "2025-04-14T16:16:43.324620Z"
    }
   },
   "outputs": [
    {
     "name": "stdout",
     "output_type": "stream",
     "text": [
      "+-------+---------------------+----------------------+------------------+------------------+\n",
      "|summary|Location_Easting_OSGR|Location_Northing_OSGR|      Police_Force| Accident_Severity|\n",
      "+-------+---------------------+----------------------+------------------+------------------+\n",
      "|  count|               300425|                300425|            300444|            300444|\n",
      "|   mean|    437797.4930148956|     300084.8771074311| 30.72257392392592| 2.820778581033404|\n",
      "| stddev|     94714.5631986685|    157098.30058820423|24.698435822188504|0.4323533806577295|\n",
      "|    min|                65950|                 10560|                 1|                 1|\n",
      "|    max|               655280|               1205100|                98|                 3|\n",
      "+-------+---------------------+----------------------+------------------+------------------+\n",
      "\n",
      "+-------+------------------+--------------------+-----------------+--------------------------+\n",
      "|summary|Number_of_Vehicles|Number_of_Casualties|      Day_of_Week|Local_Authority_(District)|\n",
      "+-------+------------------+--------------------+-----------------+--------------------------+\n",
      "|  count|            300444|              300444|           300444|                    300444|\n",
      "|   mean|2.3534102861098907|  2.1317150617086713|4.120455059844763|        354.77661394469516|\n",
      "| stddev|2.5317171029369865|    3.37490980752693|1.941481315446108|        251.87277880050536|\n",
      "|    min|                 1|                   1|                1|                         1|\n",
      "|    max|                67|                  93|                7|                       941|\n",
      "+-------+------------------+--------------------+-----------------+--------------------------+\n",
      "\n",
      "+-------+------------------+------------------+------------------+------------------+\n",
      "|summary|    1st_Road_Class|   1st_Road_Number|         Road_Type|       Speed_limit|\n",
      "+-------+------------------+------------------+------------------+------------------+\n",
      "|  count|            300444|            300444|            300444|            300444|\n",
      "|   mean| 3.911627458028784|1006.9606082997165|5.0940807604744975|41.084428379331925|\n",
      "| stddev|1.4484005739521777|1816.6851226184913|1.6498412830144507| 15.10309929465374|\n",
      "|    min|                 1|                 0|                 1|                10|\n",
      "|    max|                 6|              9999|                 9|                70|\n",
      "+-------+------------------+------------------+------------------+------------------+\n",
      "\n",
      "+-------+------------------+------------------+-----------------+------------------+\n",
      "|summary|   Junction_Detail|  Junction_Control|   2nd_Road_Class|   2nd_Road_Number|\n",
      "+-------+------------------+------------------+-----------------+------------------+\n",
      "|  count|            300444|            300444|           300444|            300444|\n",
      "|   mean|2.3787461224055066|1.7976727776224521|2.631082664323468|385.37271171998776|\n",
      "| stddev| 2.616514779225035|2.3010716911944895|3.209070736537006|1309.6332130161436|\n",
      "|    min|                -1|                -1|               -1|                -1|\n",
      "|    max|                 9|                 4|                6|              9999|\n",
      "+-------+------------------+------------------+-----------------+------------------+\n",
      "\n",
      "+-------+---------------------------------+---------------------------------------+------------------+------------------+\n",
      "|summary|Pedestrian_Crossing-Human_Control|Pedestrian_Crossing-Physical_Facilities|  Light_Conditions|Weather_Conditions|\n",
      "+-------+---------------------------------+---------------------------------------+------------------+------------------+\n",
      "|  count|                           300444|                                 300444|            300444|            300444|\n",
      "|   mean|             0.007875011649425516|                     0.6636677716978872|1.9296574403216573|  1.57228634953602|\n",
      "| stddev|              0.11732107180474782|                     1.7445025914818635|1.6379609768287757| 1.622328707976395|\n",
      "|    min|                               -1|                                     -1|                 1|                -1|\n",
      "|    max|                                2|                                      8|                 7|                 9|\n",
      "+-------+---------------------------------+---------------------------------------+------------------+------------------+\n",
      "\n",
      "+-------+-----------------------+--------------------------+-------------------+-------------------+\n",
      "|summary|Road_Surface_Conditions|Special_Conditions_at_Site|Carriageway_Hazards|Urban_or_Rural_Area|\n",
      "+-------+-----------------------+--------------------------+-------------------+-------------------+\n",
      "|  count|                 300444|                    300444|             300444|             300444|\n",
      "|   mean|      1.366337820026361|       0.11400793492298066|0.06484735924165569| 1.4047809242321365|\n",
      "| stddev|     0.6181804026094462|        0.7322075787834111| 0.5591454127754859| 0.4909995722452897|\n",
      "|    min|                     -1|                        -1|                 -1|                  1|\n",
      "|    max|                      5|                         7|                  7|                  3|\n",
      "+-------+-----------------------+--------------------------+-------------------+-------------------+\n",
      "\n"
     ]
    },
    {
     "name": "stderr",
     "output_type": "stream",
     "text": [
      "ERROR:root:KeyboardInterrupt while sending command.\n",
      "Traceback (most recent call last):\n",
      "  File \"c:\\Users\\Filip\\AppData\\Local\\Programs\\Python\\Python312\\Lib\\site-packages\\py4j\\java_gateway.py\", line 1038, in send_command\n",
      "    response = connection.send_command(command)\n",
      "               ^^^^^^^^^^^^^^^^^^^^^^^^^^^^^^^^\n",
      "  File \"c:\\Users\\Filip\\AppData\\Local\\Programs\\Python\\Python312\\Lib\\site-packages\\py4j\\clientserver.py\", line 511, in send_command\n",
      "    answer = smart_decode(self.stream.readline()[:-1])\n",
      "                          ^^^^^^^^^^^^^^^^^^^^^^\n",
      "  File \"c:\\Users\\Filip\\AppData\\Local\\Programs\\Python\\Python312\\Lib\\socket.py\", line 708, in readinto\n",
      "    return self._sock.recv_into(b)\n",
      "           ^^^^^^^^^^^^^^^^^^^^^^^\n",
      "KeyboardInterrupt\n"
     ]
    },
    {
     "ename": "KeyboardInterrupt",
     "evalue": "",
     "output_type": "error",
     "traceback": [
      "\u001b[1;31m---------------------------------------------------------------------------\u001b[0m",
      "\u001b[1;31mKeyboardInterrupt\u001b[0m                         Traceback (most recent call last)",
      "Cell \u001b[1;32mIn[7], line 5\u001b[0m\n\u001b[0;32m      2\u001b[0m     \u001b[38;5;28;01mfor\u001b[39;00m i \u001b[38;5;129;01min\u001b[39;00m \u001b[38;5;28mrange\u001b[39m(\u001b[38;5;241m0\u001b[39m, \u001b[38;5;28mlen\u001b[39m(columns), batch_size):\n\u001b[0;32m      3\u001b[0m         df\u001b[38;5;241m.\u001b[39mdescribe(columns[i:i\u001b[38;5;241m+\u001b[39mbatch_size])\u001b[38;5;241m.\u001b[39mshow()\n\u001b[1;32m----> 5\u001b[0m \u001b[43mshow_stats\u001b[49m\u001b[43m(\u001b[49m\u001b[43mdf_train\u001b[49m\u001b[43m,\u001b[49m\u001b[43m \u001b[49m\u001b[43mget_int\u001b[49m\u001b[43m(\u001b[49m\u001b[43mdf_train\u001b[49m\u001b[43m)\u001b[49m\u001b[43m)\u001b[49m\n",
      "Cell \u001b[1;32mIn[7], line 3\u001b[0m, in \u001b[0;36mshow_stats\u001b[1;34m(df, columns, batch_size)\u001b[0m\n\u001b[0;32m      1\u001b[0m \u001b[38;5;28;01mdef\u001b[39;00m \u001b[38;5;21mshow_stats\u001b[39m(df, columns, batch_size\u001b[38;5;241m=\u001b[39m\u001b[38;5;241m4\u001b[39m):\n\u001b[0;32m      2\u001b[0m     \u001b[38;5;28;01mfor\u001b[39;00m i \u001b[38;5;129;01min\u001b[39;00m \u001b[38;5;28mrange\u001b[39m(\u001b[38;5;241m0\u001b[39m, \u001b[38;5;28mlen\u001b[39m(columns), batch_size):\n\u001b[1;32m----> 3\u001b[0m         \u001b[43mdf\u001b[49m\u001b[38;5;241;43m.\u001b[39;49m\u001b[43mdescribe\u001b[49m\u001b[43m(\u001b[49m\u001b[43mcolumns\u001b[49m\u001b[43m[\u001b[49m\u001b[43mi\u001b[49m\u001b[43m:\u001b[49m\u001b[43mi\u001b[49m\u001b[38;5;241;43m+\u001b[39;49m\u001b[43mbatch_size\u001b[49m\u001b[43m]\u001b[49m\u001b[43m)\u001b[49m\u001b[38;5;241;43m.\u001b[39;49m\u001b[43mshow\u001b[49m\u001b[43m(\u001b[49m\u001b[43m)\u001b[49m\n",
      "File \u001b[1;32mc:\\Users\\Filip\\AppData\\Local\\Programs\\Python\\Python312\\Lib\\site-packages\\pyspark\\sql\\dataframe.py:947\u001b[0m, in \u001b[0;36mDataFrame.show\u001b[1;34m(self, n, truncate, vertical)\u001b[0m\n\u001b[0;32m    887\u001b[0m \u001b[38;5;28;01mdef\u001b[39;00m \u001b[38;5;21mshow\u001b[39m(\u001b[38;5;28mself\u001b[39m, n: \u001b[38;5;28mint\u001b[39m \u001b[38;5;241m=\u001b[39m \u001b[38;5;241m20\u001b[39m, truncate: Union[\u001b[38;5;28mbool\u001b[39m, \u001b[38;5;28mint\u001b[39m] \u001b[38;5;241m=\u001b[39m \u001b[38;5;28;01mTrue\u001b[39;00m, vertical: \u001b[38;5;28mbool\u001b[39m \u001b[38;5;241m=\u001b[39m \u001b[38;5;28;01mFalse\u001b[39;00m) \u001b[38;5;241m-\u001b[39m\u001b[38;5;241m>\u001b[39m \u001b[38;5;28;01mNone\u001b[39;00m:\n\u001b[0;32m    888\u001b[0m \u001b[38;5;250m    \u001b[39m\u001b[38;5;124;03m\"\"\"Prints the first ``n`` rows to the console.\u001b[39;00m\n\u001b[0;32m    889\u001b[0m \n\u001b[0;32m    890\u001b[0m \u001b[38;5;124;03m    .. versionadded:: 1.3.0\u001b[39;00m\n\u001b[1;32m   (...)\u001b[0m\n\u001b[0;32m    945\u001b[0m \u001b[38;5;124;03m    name | Bob\u001b[39;00m\n\u001b[0;32m    946\u001b[0m \u001b[38;5;124;03m    \"\"\"\u001b[39;00m\n\u001b[1;32m--> 947\u001b[0m     \u001b[38;5;28mprint\u001b[39m(\u001b[38;5;28;43mself\u001b[39;49m\u001b[38;5;241;43m.\u001b[39;49m\u001b[43m_show_string\u001b[49m\u001b[43m(\u001b[49m\u001b[43mn\u001b[49m\u001b[43m,\u001b[49m\u001b[43m \u001b[49m\u001b[43mtruncate\u001b[49m\u001b[43m,\u001b[49m\u001b[43m \u001b[49m\u001b[43mvertical\u001b[49m\u001b[43m)\u001b[49m)\n",
      "File \u001b[1;32mc:\\Users\\Filip\\AppData\\Local\\Programs\\Python\\Python312\\Lib\\site-packages\\pyspark\\sql\\dataframe.py:965\u001b[0m, in \u001b[0;36mDataFrame._show_string\u001b[1;34m(self, n, truncate, vertical)\u001b[0m\n\u001b[0;32m    959\u001b[0m     \u001b[38;5;28;01mraise\u001b[39;00m PySparkTypeError(\n\u001b[0;32m    960\u001b[0m         error_class\u001b[38;5;241m=\u001b[39m\u001b[38;5;124m\"\u001b[39m\u001b[38;5;124mNOT_BOOL\u001b[39m\u001b[38;5;124m\"\u001b[39m,\n\u001b[0;32m    961\u001b[0m         message_parameters\u001b[38;5;241m=\u001b[39m{\u001b[38;5;124m\"\u001b[39m\u001b[38;5;124marg_name\u001b[39m\u001b[38;5;124m\"\u001b[39m: \u001b[38;5;124m\"\u001b[39m\u001b[38;5;124mvertical\u001b[39m\u001b[38;5;124m\"\u001b[39m, \u001b[38;5;124m\"\u001b[39m\u001b[38;5;124marg_type\u001b[39m\u001b[38;5;124m\"\u001b[39m: \u001b[38;5;28mtype\u001b[39m(vertical)\u001b[38;5;241m.\u001b[39m\u001b[38;5;18m__name__\u001b[39m},\n\u001b[0;32m    962\u001b[0m     )\n\u001b[0;32m    964\u001b[0m \u001b[38;5;28;01mif\u001b[39;00m \u001b[38;5;28misinstance\u001b[39m(truncate, \u001b[38;5;28mbool\u001b[39m) \u001b[38;5;129;01mand\u001b[39;00m truncate:\n\u001b[1;32m--> 965\u001b[0m     \u001b[38;5;28;01mreturn\u001b[39;00m \u001b[38;5;28;43mself\u001b[39;49m\u001b[38;5;241;43m.\u001b[39;49m\u001b[43m_jdf\u001b[49m\u001b[38;5;241;43m.\u001b[39;49m\u001b[43mshowString\u001b[49m\u001b[43m(\u001b[49m\u001b[43mn\u001b[49m\u001b[43m,\u001b[49m\u001b[43m \u001b[49m\u001b[38;5;241;43m20\u001b[39;49m\u001b[43m,\u001b[49m\u001b[43m \u001b[49m\u001b[43mvertical\u001b[49m\u001b[43m)\u001b[49m\n\u001b[0;32m    966\u001b[0m \u001b[38;5;28;01melse\u001b[39;00m:\n\u001b[0;32m    967\u001b[0m     \u001b[38;5;28;01mtry\u001b[39;00m:\n",
      "File \u001b[1;32mc:\\Users\\Filip\\AppData\\Local\\Programs\\Python\\Python312\\Lib\\site-packages\\py4j\\java_gateway.py:1321\u001b[0m, in \u001b[0;36mJavaMember.__call__\u001b[1;34m(self, *args)\u001b[0m\n\u001b[0;32m   1314\u001b[0m args_command, temp_args \u001b[38;5;241m=\u001b[39m \u001b[38;5;28mself\u001b[39m\u001b[38;5;241m.\u001b[39m_build_args(\u001b[38;5;241m*\u001b[39margs)\n\u001b[0;32m   1316\u001b[0m command \u001b[38;5;241m=\u001b[39m proto\u001b[38;5;241m.\u001b[39mCALL_COMMAND_NAME \u001b[38;5;241m+\u001b[39m\\\n\u001b[0;32m   1317\u001b[0m     \u001b[38;5;28mself\u001b[39m\u001b[38;5;241m.\u001b[39mcommand_header \u001b[38;5;241m+\u001b[39m\\\n\u001b[0;32m   1318\u001b[0m     args_command \u001b[38;5;241m+\u001b[39m\\\n\u001b[0;32m   1319\u001b[0m     proto\u001b[38;5;241m.\u001b[39mEND_COMMAND_PART\n\u001b[1;32m-> 1321\u001b[0m answer \u001b[38;5;241m=\u001b[39m \u001b[38;5;28;43mself\u001b[39;49m\u001b[38;5;241;43m.\u001b[39;49m\u001b[43mgateway_client\u001b[49m\u001b[38;5;241;43m.\u001b[39;49m\u001b[43msend_command\u001b[49m\u001b[43m(\u001b[49m\u001b[43mcommand\u001b[49m\u001b[43m)\u001b[49m\n\u001b[0;32m   1322\u001b[0m return_value \u001b[38;5;241m=\u001b[39m get_return_value(\n\u001b[0;32m   1323\u001b[0m     answer, \u001b[38;5;28mself\u001b[39m\u001b[38;5;241m.\u001b[39mgateway_client, \u001b[38;5;28mself\u001b[39m\u001b[38;5;241m.\u001b[39mtarget_id, \u001b[38;5;28mself\u001b[39m\u001b[38;5;241m.\u001b[39mname)\n\u001b[0;32m   1325\u001b[0m \u001b[38;5;28;01mfor\u001b[39;00m temp_arg \u001b[38;5;129;01min\u001b[39;00m temp_args:\n",
      "File \u001b[1;32mc:\\Users\\Filip\\AppData\\Local\\Programs\\Python\\Python312\\Lib\\site-packages\\py4j\\java_gateway.py:1038\u001b[0m, in \u001b[0;36mGatewayClient.send_command\u001b[1;34m(self, command, retry, binary)\u001b[0m\n\u001b[0;32m   1036\u001b[0m connection \u001b[38;5;241m=\u001b[39m \u001b[38;5;28mself\u001b[39m\u001b[38;5;241m.\u001b[39m_get_connection()\n\u001b[0;32m   1037\u001b[0m \u001b[38;5;28;01mtry\u001b[39;00m:\n\u001b[1;32m-> 1038\u001b[0m     response \u001b[38;5;241m=\u001b[39m \u001b[43mconnection\u001b[49m\u001b[38;5;241;43m.\u001b[39;49m\u001b[43msend_command\u001b[49m\u001b[43m(\u001b[49m\u001b[43mcommand\u001b[49m\u001b[43m)\u001b[49m\n\u001b[0;32m   1039\u001b[0m     \u001b[38;5;28;01mif\u001b[39;00m binary:\n\u001b[0;32m   1040\u001b[0m         \u001b[38;5;28;01mreturn\u001b[39;00m response, \u001b[38;5;28mself\u001b[39m\u001b[38;5;241m.\u001b[39m_create_connection_guard(connection)\n",
      "File \u001b[1;32mc:\\Users\\Filip\\AppData\\Local\\Programs\\Python\\Python312\\Lib\\site-packages\\py4j\\clientserver.py:511\u001b[0m, in \u001b[0;36mClientServerConnection.send_command\u001b[1;34m(self, command)\u001b[0m\n\u001b[0;32m    509\u001b[0m \u001b[38;5;28;01mtry\u001b[39;00m:\n\u001b[0;32m    510\u001b[0m     \u001b[38;5;28;01mwhile\u001b[39;00m \u001b[38;5;28;01mTrue\u001b[39;00m:\n\u001b[1;32m--> 511\u001b[0m         answer \u001b[38;5;241m=\u001b[39m smart_decode(\u001b[38;5;28;43mself\u001b[39;49m\u001b[38;5;241;43m.\u001b[39;49m\u001b[43mstream\u001b[49m\u001b[38;5;241;43m.\u001b[39;49m\u001b[43mreadline\u001b[49m\u001b[43m(\u001b[49m\u001b[43m)\u001b[49m[:\u001b[38;5;241m-\u001b[39m\u001b[38;5;241m1\u001b[39m])\n\u001b[0;32m    512\u001b[0m         logger\u001b[38;5;241m.\u001b[39mdebug(\u001b[38;5;124m\"\u001b[39m\u001b[38;5;124mAnswer received: \u001b[39m\u001b[38;5;132;01m{0}\u001b[39;00m\u001b[38;5;124m\"\u001b[39m\u001b[38;5;241m.\u001b[39mformat(answer))\n\u001b[0;32m    513\u001b[0m         \u001b[38;5;66;03m# Happens when a the other end is dead. There might be an empty\u001b[39;00m\n\u001b[0;32m    514\u001b[0m         \u001b[38;5;66;03m# answer before the socket raises an error.\u001b[39;00m\n",
      "File \u001b[1;32mc:\\Users\\Filip\\AppData\\Local\\Programs\\Python\\Python312\\Lib\\socket.py:708\u001b[0m, in \u001b[0;36mSocketIO.readinto\u001b[1;34m(self, b)\u001b[0m\n\u001b[0;32m    706\u001b[0m \u001b[38;5;28;01mwhile\u001b[39;00m \u001b[38;5;28;01mTrue\u001b[39;00m:\n\u001b[0;32m    707\u001b[0m     \u001b[38;5;28;01mtry\u001b[39;00m:\n\u001b[1;32m--> 708\u001b[0m         \u001b[38;5;28;01mreturn\u001b[39;00m \u001b[38;5;28;43mself\u001b[39;49m\u001b[38;5;241;43m.\u001b[39;49m\u001b[43m_sock\u001b[49m\u001b[38;5;241;43m.\u001b[39;49m\u001b[43mrecv_into\u001b[49m\u001b[43m(\u001b[49m\u001b[43mb\u001b[49m\u001b[43m)\u001b[49m\n\u001b[0;32m    709\u001b[0m     \u001b[38;5;28;01mexcept\u001b[39;00m timeout:\n\u001b[0;32m    710\u001b[0m         \u001b[38;5;28mself\u001b[39m\u001b[38;5;241m.\u001b[39m_timeout_occurred \u001b[38;5;241m=\u001b[39m \u001b[38;5;28;01mTrue\u001b[39;00m\n",
      "\u001b[1;31mKeyboardInterrupt\u001b[0m: "
     ]
    }
   ],
   "source": [
    "def show_stats(df, columns, batch_size=4):\n",
    "    for i in range(0, len(columns), batch_size):\n",
    "        df.describe(columns[i:i+batch_size]).show()\n",
    "\n",
    "show_stats(df_train, get_int(df_train))"
   ]
  },
  {
   "cell_type": "markdown",
   "id": "2bc6f8e9b7ede45f",
   "metadata": {},
   "source": [
    "#### Zobrazenie histogramu pre kategorické atribúty"
   ]
  },
  {
   "cell_type": "code",
   "execution_count": 25,
   "id": "4dd86c96a4215ee7",
   "metadata": {
    "ExecuteTime": {
     "end_time": "2025-04-14T16:20:32.249878Z",
     "start_time": "2025-04-14T16:20:20.051964Z"
    }
   },
   "outputs": [
    {
     "name": "stderr",
     "output_type": "stream",
     "text": [
      "[Stage 690:============>                                            (2 + 7) / 9]\r"
     ]
    },
    {
     "name": "stdout",
     "output_type": "stream",
     "text": [
      "+-------------------------+-----+\n",
      "|Local_Authority_(Highway)|count|\n",
      "+-------------------------+-----+\n",
      "|                E10000016| 9067|\n",
      "|                E10000030| 8536|\n",
      "|                E10000017| 7218|\n",
      "|                E10000012| 6495|\n",
      "|                E10000015| 6219|\n",
      "|                E08000025| 5805|\n",
      "|                E10000014| 5748|\n",
      "|                E10000028| 5051|\n",
      "|                E10000019| 4289|\n",
      "|                E08000035| 4230|\n",
      "|                E10000024| 4218|\n",
      "|                E10000007| 4170|\n",
      "|                E10000020| 3831|\n",
      "|                E10000032| 3822|\n",
      "|                E10000023| 3772|\n",
      "|                E10000008| 3671|\n",
      "|                E10000029| 3628|\n",
      "|                E10000003| 3550|\n",
      "|                E10000025| 3258|\n",
      "|                E08000032| 3116|\n",
      "+-------------------------+-----+\n",
      "only showing top 20 rows\n",
      "\n"
     ]
    },
    {
     "name": "stderr",
     "output_type": "stream",
     "text": [
      "                                                                                \r"
     ]
    }
   ],
   "source": [
    "df_train.groupby(\"Local_Authority_(Highway)\").count().orderBy(\"count\", ascending=False).show()"
   ]
  },
  {
   "cell_type": "code",
   "execution_count": 26,
   "id": "6bebabdc67a17bf0",
   "metadata": {
    "ExecuteTime": {
     "end_time": "2025-04-14T16:20:45.891307Z",
     "start_time": "2025-04-14T16:20:33.889697Z"
    }
   },
   "outputs": [
    {
     "name": "stderr",
     "output_type": "stream",
     "text": [
      "[Stage 707:>                                                        (0 + 8) / 9]\r"
     ]
    },
    {
     "name": "stdout",
     "output_type": "stream",
     "text": [
      "[1556.298s][warning][gc,alloc] Executor task launch worker for task 1.0 in stage 707.0 (TID 1833): Retried waiting for GCLocker too often allocating 1048578 words\n",
      "[1556.354s][warning][gc,alloc] Executor task launch worker for task 5.0 in stage 707.0 (TID 1837): Retried waiting for GCLocker too often allocating 1048578 words\n"
     ]
    },
    {
     "name": "stderr",
     "output_type": "stream",
     "text": [
      "[Stage 707:============>                                            (2 + 7) / 9]\r"
     ]
    },
    {
     "name": "stdout",
     "output_type": "stream",
     "text": [
      "+-------------------------+-----+\n",
      "|LSOA_of_Accident_Location|count|\n",
      "+-------------------------+-----+\n",
      "|                     NULL|19875|\n",
      "|                E01024597|  335|\n",
      "|                E01000004|  308|\n",
      "|                E01018648|  252|\n",
      "|                E01023722|  251|\n",
      "|                E01011365|  244|\n",
      "|                E01023584|  211|\n",
      "|                E01030458|  190|\n",
      "|                E01023725|  170|\n",
      "|                E01004736|  164|\n",
      "|                E01005131|  160|\n",
      "|                E01018465|  154|\n",
      "|                E01016481|  153|\n",
      "|                E01002444|  152|\n",
      "|                E01029317|  148|\n",
      "|                E01023732|  135|\n",
      "|                E01018337|  130|\n",
      "|                E01006650|  128|\n",
      "|                E01017620|  128|\n",
      "|                E01008440|  127|\n",
      "+-------------------------+-----+\n",
      "only showing top 20 rows\n",
      "\n"
     ]
    },
    {
     "name": "stderr",
     "output_type": "stream",
     "text": [
      "                                                                                \r"
     ]
    }
   ],
   "source": [
    "df_train.groupby(\"LSOA_of_Accident_Location\").count().orderBy(\"count\", ascending=False).show()"
   ]
  },
  {
   "cell_type": "markdown",
   "id": "2a5e0892c5c7f990",
   "metadata": {},
   "source": [
    "## Chýbajúce hodnoty"
   ]
  },
  {
   "cell_type": "code",
   "execution_count": null,
   "id": "c7a34b07419e9a45",
   "metadata": {
    "ExecuteTime": {
     "end_time": "2025-04-14T16:21:01.823288Z",
     "start_time": "2025-04-14T16:20:46.690042Z"
    }
   },
   "outputs": [],
   "source": [
    "df_train.select([count(when(col(c).isNull(), c)).alias(c) for c in df_train.columns]).show()"
   ]
  },
  {
   "cell_type": "markdown",
   "id": "8aef005ebb885616",
   "metadata": {},
   "source": [
    "## Odstranenie atribútov"
   ]
  },
  {
   "cell_type": "code",
   "execution_count": 12,
   "id": "4dbe17215be8821d",
   "metadata": {
    "ExecuteTime": {
     "end_time": "2025-04-14T16:21:02.291183Z",
     "start_time": "2025-04-14T16:21:02.256211Z"
    }
   },
   "outputs": [],
   "source": [
    "df_train = df_train.drop(\"Accident_Index\", \"Date\", \"Time\", \"Longitude\", \"Latitude\", \"LSOA_of_Accident_Location\")\n",
    "df_test = df_test.drop(\"Accident_Index\",\"Date\", \"Time\", \"Longitude\", \"Latitude\", \"LSOA_of_Accident_Location\")"
   ]
  },
  {
   "cell_type": "markdown",
   "id": "a7f512fabd7150c3",
   "metadata": {},
   "source": [
    "## Nahradenie chýbajúcich hodnôt mediánom"
   ]
  },
  {
   "cell_type": "code",
   "execution_count": 13,
   "id": "4683b61faac2876b",
   "metadata": {
    "ExecuteTime": {
     "end_time": "2025-04-14T16:21:38.058382Z",
     "start_time": "2025-04-14T16:21:02.499887Z"
    }
   },
   "outputs": [],
   "source": [
    "def fillna_median(df, include=None):\n",
    "    if include is None:\n",
    "        include = set()\n",
    "    medians = df.agg(*(median(x).alias(x) for x in df.columns if x in include))\n",
    "    return df.fillna(medians.first().asDict())\n",
    "\n",
    "\n",
    "df_train = fillna_median(df_train, ['Location_Easting_OSGR', 'Location_Northing_OSGR'])\n",
    "df_test  = fillna_median(df_test, ['Location_Easting_OSGR', 'Location_Northing_OSGR'])"
   ]
  },
  {
   "cell_type": "code",
   "execution_count": 14,
   "id": "3b6de8f2d0f1d6e7",
   "metadata": {
    "ExecuteTime": {
     "end_time": "2025-04-14T16:21:49.997066Z",
     "start_time": "2025-04-14T16:21:38.106520Z"
    }
   },
   "outputs": [
    {
     "name": "stdout",
     "output_type": "stream",
     "text": [
      "+---------------------+----------------------+------------+-----------------+------------------+--------------------+-----------+--------------------------+-------------------------+--------------+---------------+---------+-----------+---------------+----------------+--------------+---------------+---------------------------------+---------------------------------------+----------------+------------------+-----------------------+--------------------------+-------------------+-------------------+-------------------------------------------+-----------------+------------------+--------------+---------------+---------------+--------------------+-----------------+-------------------+-------------------+-------------+----------------------+----------------------------------+-------------+-----------------------+------------+-----------------------+-----------------+--------------------------------+-----------------+------------------------+-------------------------+---------------------------+--------------------------+-------------------+----------------------------+-------------------------+-------------+-------------+------------------+--------------------+---------------+--------------+-----------------+---------------------+\n",
      "|Location_Easting_OSGR|Location_Northing_OSGR|Police_Force|Accident_Severity|Number_of_Vehicles|Number_of_Casualties|Day_of_Week|Local_Authority_(District)|Local_Authority_(Highway)|1st_Road_Class|1st_Road_Number|Road_Type|Speed_limit|Junction_Detail|Junction_Control|2nd_Road_Class|2nd_Road_Number|Pedestrian_Crossing-Human_Control|Pedestrian_Crossing-Physical_Facilities|Light_Conditions|Weather_Conditions|Road_Surface_Conditions|Special_Conditions_at_Site|Carriageway_Hazards|Urban_or_Rural_Area|Did_Police_Officer_Attend_Scene_of_Accident|Vehicle_Reference|Casualty_Reference|Casualty_Class|Sex_of_Casualty|Age_of_Casualty|Age_Band_of_Casualty|Casualty_Severity|Pedestrian_Location|Pedestrian_Movement|Car_Passenger|Bus_or_Coach_Passenger|Pedestrian_Road_Maintenance_Worker|Casualty_Type|Casualty_Home_Area_Type|Vehicle_Type|Towing_and_Articulation|Vehicle_Manoeuvre|Vehicle_Location-Restricted_Lane|Junction_Location|Skidding_and_Overturning|Hit_Object_in_Carriageway|Vehicle_Leaving_Carriageway|Hit_Object_off_Carriageway|1st_Point_of_Impact|Was_Vehicle_Left_Hand_Drive?|Journey_Purpose_of_Driver|Sex_of_Driver|Age_of_Driver|Age_Band_of_Driver|Engine_Capacity_(CC)|Propulsion_Code|Age_of_Vehicle|Driver_IMD_Decile|Driver_Home_Area_Type|\n",
      "+---------------------+----------------------+------------+-----------------+------------------+--------------------+-----------+--------------------------+-------------------------+--------------+---------------+---------+-----------+---------------+----------------+--------------+---------------+---------------------------------+---------------------------------------+----------------+------------------+-----------------------+--------------------------+-------------------+-------------------+-------------------------------------------+-----------------+------------------+--------------+---------------+---------------+--------------------+-----------------+-------------------+-------------------+-------------+----------------------+----------------------------------+-------------+-----------------------+------------+-----------------------+-----------------+--------------------------------+-----------------+------------------------+-------------------------+---------------------------+--------------------------+-------------------+----------------------------+-------------------------+-------------+-------------+------------------+--------------------+---------------+--------------+-----------------+---------------------+\n",
      "|                    0|                     0|           0|                0|                 0|                   0|          0|                         0|                        0|             0|              0|        0|          0|              0|               0|             0|              0|                                0|                                      0|               0|                 0|                      0|                         0|                  0|                  0|                                          0|                0|                 0|             0|              0|              0|                   0|                0|                  0|                  0|            0|                     0|                                 0|            0|                      0|           0|                      0|                0|                               0|                0|                       0|                        0|                          0|                         0|                  0|                           0|                        0|            0|            0|                 0|                   0|              0|             0|                0|                    0|\n",
      "+---------------------+----------------------+------------+-----------------+------------------+--------------------+-----------+--------------------------+-------------------------+--------------+---------------+---------+-----------+---------------+----------------+--------------+---------------+---------------------------------+---------------------------------------+----------------+------------------+-----------------------+--------------------------+-------------------+-------------------+-------------------------------------------+-----------------+------------------+--------------+---------------+---------------+--------------------+-----------------+-------------------+-------------------+-------------+----------------------+----------------------------------+-------------+-----------------------+------------+-----------------------+-----------------+--------------------------------+-----------------+------------------------+-------------------------+---------------------------+--------------------------+-------------------+----------------------------+-------------------------+-------------+-------------+------------------+--------------------+---------------+--------------+-----------------+---------------------+\n",
      "\n"
     ]
    }
   ],
   "source": [
    "df_train.select([count(when(col(c).isNull(), c)).alias(c) for c in df_train.columns]).show()"
   ]
  },
  {
   "cell_type": "markdown",
   "id": "2c6ac17437ca808a",
   "metadata": {},
   "source": [
    "## Nominálne na kvantitatívne pomocou One-hot encoding"
   ]
  },
  {
   "cell_type": "code",
   "execution_count": 15,
   "id": "b257e302d7c9c455",
   "metadata": {},
   "outputs": [],
   "source": [
    "categorical_attributes = [x for x, y in df_train.dtypes if y == 'string']\n",
    "index_output_cols = [x + \"_SI\" for x in categorical_attributes]\n",
    "ohe_output_cols  = [x + \"_OHE\" for x in categorical_attributes]\n",
    "\n",
    "indexer = StringIndexer(inputCols=categorical_attributes , outputCols=index_output_cols, handleInvalid=\"skip\")\n",
    "df_train = indexer.fit(df_train).transform(df_train)\n",
    "\n",
    "ohe = OneHotEncoder(inputCols=index_output_cols ,outputCols =ohe_output_cols)\n",
    "df_train = ohe.fit(df_train).transform(df_train)"
   ]
  },
  {
   "cell_type": "code",
   "execution_count": 16,
   "id": "70a175242034b65a",
   "metadata": {
    "ExecuteTime": {
     "end_time": "2025-04-14T16:23:56.889282Z",
     "start_time": "2025-04-14T16:23:45.053669Z"
    }
   },
   "outputs": [
    {
     "name": "stdout",
     "output_type": "stream",
     "text": [
      "+---------------------+----------------------+------------+-----------------+------------------+--------------------+-----------+--------------------------+--------------+---------------+---------+-----------+---------------+----------------+--------------+---------------+---------------------------------+---------------------------------------+----------------+------------------+-----------------------+--------------------------+-------------------+-------------------+-------------------------------------------+-----------------+------------------+--------------+---------------+---------------+--------------------+-----------------+-------------------+-------------------+-------------+----------------------+----------------------------------+-------------+-----------------------+------------+-----------------------+-----------------+--------------------------------+-----------------+------------------------+-------------------------+---------------------------+--------------------------+-------------------+----------------------------+-------------------------+-------------+-------------+------------------+--------------------+---------------+--------------+-----------------+---------------------+-----------------------------+\n",
      "|Location_Easting_OSGR|Location_Northing_OSGR|Police_Force|Accident_Severity|Number_of_Vehicles|Number_of_Casualties|Day_of_Week|Local_Authority_(District)|1st_Road_Class|1st_Road_Number|Road_Type|Speed_limit|Junction_Detail|Junction_Control|2nd_Road_Class|2nd_Road_Number|Pedestrian_Crossing-Human_Control|Pedestrian_Crossing-Physical_Facilities|Light_Conditions|Weather_Conditions|Road_Surface_Conditions|Special_Conditions_at_Site|Carriageway_Hazards|Urban_or_Rural_Area|Did_Police_Officer_Attend_Scene_of_Accident|Vehicle_Reference|Casualty_Reference|Casualty_Class|Sex_of_Casualty|Age_of_Casualty|Age_Band_of_Casualty|Casualty_Severity|Pedestrian_Location|Pedestrian_Movement|Car_Passenger|Bus_or_Coach_Passenger|Pedestrian_Road_Maintenance_Worker|Casualty_Type|Casualty_Home_Area_Type|Vehicle_Type|Towing_and_Articulation|Vehicle_Manoeuvre|Vehicle_Location-Restricted_Lane|Junction_Location|Skidding_and_Overturning|Hit_Object_in_Carriageway|Vehicle_Leaving_Carriageway|Hit_Object_off_Carriageway|1st_Point_of_Impact|Was_Vehicle_Left_Hand_Drive?|Journey_Purpose_of_Driver|Sex_of_Driver|Age_of_Driver|Age_Band_of_Driver|Engine_Capacity_(CC)|Propulsion_Code|Age_of_Vehicle|Driver_IMD_Decile|Driver_Home_Area_Type|Local_Authority_(Highway)_OHE|\n",
      "+---------------------+----------------------+------------+-----------------+------------------+--------------------+-----------+--------------------------+--------------+---------------+---------+-----------+---------------+----------------+--------------+---------------+---------------------------------+---------------------------------------+----------------+------------------+-----------------------+--------------------------+-------------------+-------------------+-------------------------------------------+-----------------+------------------+--------------+---------------+---------------+--------------------+-----------------+-------------------+-------------------+-------------+----------------------+----------------------------------+-------------+-----------------------+------------+-----------------------+-----------------+--------------------------------+-----------------+------------------------+-------------------------+---------------------------+--------------------------+-------------------+----------------------------+-------------------------+-------------+-------------+------------------+--------------------+---------------+--------------+-----------------+---------------------+-----------------------------+\n",
      "|               524730|                179100|           1|                3|                 2|                   1|          3|                        12|             3|           3220|        6|         30|              6|               2|             3|            315|                                0|                                      5|               1|                 1|                      1|                         0|                  0|                  1|                                          1|                2|                 1|             1|              2|             46|                   8|                3|                  0|                  0|            0|                     0|                                -1|            1|                     -1|           9|                      0|                7|                               0|                8|                       0|                        0|                          0|                         0|                  1|                           1|                       15|            2|           19|                 4|                1149|              1|            -1|                5|                    1|            (206,[109],[1.0])|\n",
      "|               524290|                181350|           1|                2|                 1|                   1|          5|                        12|             4|            450|        6|         30|              0|              -1|            -1|              0|                                0|                                      0|               4|                 1|                      1|                         0|                  0|                  1|                                          1|                1|                 1|             2|              2|             53|                   8|                2|                  0|                  0|            0|                     2|                                -1|           11|                     -1|          11|                      0|                2|                               0|                0|                       0|                        0|                          0|                         0|                  4|                           1|                        1|            1|           38|                 7|                8300|              2|             5|                1|                    1|            (206,[109],[1.0])|\n",
      "|               524540|                181380|           1|                3|                 2|                   2|          4|                        12|             6|              0|        2|         30|              6|               4|             6|              0|                                0|                                      0|               1|                 2|                      2|                         0|                  0|                  1|                                          1|                1|                 1|             1|              1|             25|                   5|                3|                  0|                  0|            0|                     0|                                -1|            3|                      1|           1|                      0|               18|                               0|                1|                       0|                        0|                          0|                         0|                  1|                           1|                       15|            1|           24|                 5|                  -1|             -1|            -1|                3|                    1|            (206,[109],[1.0])|\n",
      "|               527760|                179160|           1|                3|                 2|                   1|          5|                        12|             4|            319|        6|         30|              3|               4|             6|              0|                                0|                                      0|               1|                 1|                      1|                         0|                  0|                  1|                                          1|                1|                 1|             1|              1|             59|                   9|                3|                  0|                  0|            0|                     0|                                -1|            8|                     -1|           8|                      0|               18|                               0|                8|                       0|                        0|                          0|                         0|                  3|                           1|                       15|            1|           59|                 9|                2664|              2|            10|               -1|                   -1|            (206,[109],[1.0])|\n",
      "|               527270|                178660|           1|                3|                 2|                   1|          5|                        12|             6|              0|        6|         30|              6|               4|             6|              0|                                0|                                      0|               1|                 1|                      1|                         0|                  0|                  1|                                          2|                1|                 1|             1|              1|             42|                   7|                3|                  0|                  0|            0|                     0|                                -1|            9|                      1|           9|                      0|               18|                               0|                8|                       0|                        0|                          0|                         0|                  1|                           1|                       15|            1|           42|                 7|                2496|              2|             2|                4|                    1|            (206,[109],[1.0])|\n",
      "+---------------------+----------------------+------------+-----------------+------------------+--------------------+-----------+--------------------------+--------------+---------------+---------+-----------+---------------+----------------+--------------+---------------+---------------------------------+---------------------------------------+----------------+------------------+-----------------------+--------------------------+-------------------+-------------------+-------------------------------------------+-----------------+------------------+--------------+---------------+---------------+--------------------+-----------------+-------------------+-------------------+-------------+----------------------+----------------------------------+-------------+-----------------------+------------+-----------------------+-----------------+--------------------------------+-----------------+------------------------+-------------------------+---------------------------+--------------------------+-------------------+----------------------------+-------------------------+-------------+-------------+------------------+--------------------+---------------+--------------+-----------------+---------------------+-----------------------------+\n",
      "only showing top 5 rows\n",
      "\n"
     ]
    }
   ],
   "source": [
    "df_train = df_train.drop(*index_output_cols)\n",
    "df_train = df_train.drop(*categorical_attributes)\n",
    "\n",
    "df_train.show(5)"
   ]
  },
  {
   "cell_type": "markdown",
   "id": "3f94bcfe",
   "metadata": {},
   "source": [
    "## Náhrada numerických atribútov nominálnymi"
   ]
  },
  {
   "cell_type": "code",
   "execution_count": 8,
   "id": "6b72051b",
   "metadata": {},
   "outputs": [
    {
     "name": "stdout",
     "output_type": "stream",
     "text": [
      "===== Vehicle_Type Distribution =====\n",
      "+------------+\n",
      "|Vehicle_Type|\n",
      "+------------+\n",
      "|          -1|\n",
      "|           1|\n",
      "|           2|\n",
      "|           3|\n",
      "|           4|\n",
      "|           5|\n",
      "|           8|\n",
      "|           9|\n",
      "|          10|\n",
      "|          11|\n",
      "|          16|\n",
      "|          17|\n",
      "|          18|\n",
      "|          19|\n",
      "|          20|\n",
      "|          21|\n",
      "|          22|\n",
      "|          23|\n",
      "|          90|\n",
      "|          97|\n",
      "|          98|\n",
      "+------------+\n",
      "\n",
      "Count of distinct Vehicle_Type values: 21\n",
      "Top 20 most common Vehicle_Type values:\n",
      "+------------+------+\n",
      "|Vehicle_Type| count|\n",
      "+------------+------+\n",
      "|           9|229738|\n",
      "|          19| 13870|\n",
      "|           1| 13396|\n",
      "|          11|  7725|\n",
      "|           5|  7410|\n",
      "|          21|  6257|\n",
      "|           3|  5330|\n",
      "|           8|  5221|\n",
      "|           2|  2854|\n",
      "|          20|  2289|\n",
      "|          90|  2274|\n",
      "|           4|  2069|\n",
      "|          10|  1104|\n",
      "|          17|   634|\n",
      "|          16|   112|\n",
      "|          98|    37|\n",
      "|          -1|    36|\n",
      "|          22|    33|\n",
      "|          18|    32|\n",
      "|          97|    22|\n",
      "+------------+------+\n",
      "only showing top 20 rows\n",
      "\n",
      "\n",
      "===== Engine_Capacity_(CC) Distribution =====\n",
      "+-------+--------------------+\n",
      "|summary|Engine_Capacity_(CC)|\n",
      "+-------+--------------------+\n",
      "|    min|                  -1|\n",
      "|    25%|                 124|\n",
      "|    50%|                1392|\n",
      "|    75%|                1896|\n",
      "|    max|               82700|\n",
      "+-------+--------------------+\n",
      "\n",
      "Engine capacity distribution by ranges:\n",
      "  -1--1 cc: 72160 vehicles\n",
      "  0-999 cc: 22377 vehicles\n",
      "  1000-1499 cc: 66929 vehicles\n",
      "  1500-1999 cc: 99447 vehicles\n",
      "  2000-2499 cc: 18340 vehicles\n",
      "  2500-2999 cc: 7699 vehicles\n",
      "  3000-4999 cc: 4819 vehicles\n",
      "  5000+ cc: 8673 vehicles\n",
      "\n",
      "Top 20 most common Engine_Capacity_(CC) values:\n",
      "+--------------------+-----+\n",
      "|Engine_Capacity_(CC)|count|\n",
      "+--------------------+-----+\n",
      "|                  -1|72160|\n",
      "|                1598|13236|\n",
      "|                1242| 7652|\n",
      "|                1998| 7279|\n",
      "|                1796| 7235|\n",
      "|                1896| 6742|\n",
      "|                1997| 5869|\n",
      "|                1299| 5385|\n",
      "|                 998| 5344|\n",
      "|                1596| 5114|\n",
      "|                1995| 4662|\n",
      "|                1390| 4450|\n",
      "|                1360| 4376|\n",
      "|                1124| 3900|\n",
      "|                1149| 3885|\n",
      "|                1753| 3500|\n",
      "|                1587| 3314|\n",
      "|                1560| 3141|\n",
      "|                1396| 3008|\n",
      "|                 124| 2645|\n",
      "|                1968| 2629|\n",
      "|                1199| 2592|\n",
      "|                1686| 2388|\n",
      "|                1388| 2322|\n",
      "|                1597| 2062|\n",
      "|                1389| 2011|\n",
      "|                1910| 1979|\n",
      "|                  49| 1928|\n",
      "|                2402| 1892|\n",
      "|                1905| 1738|\n",
      "|                1781| 1726|\n",
      "|                1229| 1710|\n",
      "|                1870| 1706|\n",
      "|                 599| 1682|\n",
      "|                1198| 1649|\n",
      "|                 125| 1649|\n",
      "|                1461| 1643|\n",
      "|                1984| 1532|\n",
      "|                1248| 1488|\n",
      "|                2198| 1453|\n",
      "|                1398| 1433|\n",
      "|                1590| 1360|\n",
      "|                1364| 1343|\n",
      "|                 973| 1335|\n",
      "|                1994| 1269|\n",
      "|                1988| 1250|\n",
      "|                2148| 1178|\n",
      "|                1798| 1169|\n",
      "|                1999| 1015|\n",
      "|                2496| 1007|\n",
      "|                1399|  983|\n",
      "|                2495|  974|\n",
      "|                2000|  961|\n",
      "|                1794|  942|\n",
      "|                2993|  909|\n",
      "|                1595|  906|\n",
      "|                 999|  902|\n",
      "|                1339|  898|\n",
      "|                1769|  834|\n",
      "|                2494|  815|\n",
      "|                1391|  775|\n",
      "|                1196|  774|\n",
      "|                7300|  774|\n",
      "|                1799|  747|\n",
      "|                1397|  732|\n",
      "|                1240|  729|\n",
      "|                1497|  728|\n",
      "|                1991|  695|\n",
      "|                1108|  684|\n",
      "|                1900|  677|\n",
      "|                1868|  644|\n",
      "|                1600|  638|\n",
      "|                2151|  612|\n",
      "|                1762|  607|\n",
      "|                1332|  573|\n",
      "|                1783|  565|\n",
      "|                1951|  561|\n",
      "|                1493|  541|\n",
      "|                1589|  534|\n",
      "|                1895|  531|\n",
      "|                2497|  511|\n",
      "|                2204|  509|\n",
      "|                1392|  507|\n",
      "|                2664|  506|\n",
      "|                2500|  487|\n",
      "|                1400|  485|\n",
      "|                2499|  483|\n",
      "|                4250|  481|\n",
      "|                2143|  475|\n",
      "|                1298|  466|\n",
      "|                9600|  466|\n",
      "|                1599|  463|\n",
      "|                1956|  451|\n",
      "|                1527|  442|\n",
      "|                2179|  438|\n",
      "|                2401|  437|\n",
      "|                2967|  417|\n",
      "|                2987|  412|\n",
      "|                1275|  410|\n",
      "|                1086|  409|\n",
      "+--------------------+-----+\n",
      "only showing top 100 rows\n",
      "\n"
     ]
    }
   ],
   "source": [
    "# Add this code to a new cell after the \"Náhrada numerických atribútov nominálnymi\" section\n",
    "# This will show the distinct values and their frequencies\n",
    "\n",
    "# For Vehicle_Type\n",
    "print(\"===== Vehicle_Type Distribution =====\")\n",
    "df_train.select(\"Vehicle_Type\").distinct().orderBy(\"Vehicle_Type\").show(100)\n",
    "print(\"Count of distinct Vehicle_Type values:\", df_train.select(\"Vehicle_Type\").distinct().count())\n",
    "\n",
    "vehicle_type_counts = df_train.groupBy(\"Vehicle_Type\") \\\n",
    "                             .count() \\\n",
    "                             .orderBy(\"count\", ascending=False)\n",
    "print(\"Top 20 most common Vehicle_Type values:\")\n",
    "vehicle_type_counts.show(20)\n",
    "\n",
    "# For Engine_Capacity_(CC)\n",
    "print(\"\\n===== Engine_Capacity_(CC) Distribution =====\")\n",
    "# Show some basic statistics\n",
    "df_train.select(\"Engine_Capacity_(CC)\").summary(\"min\", \"25%\", \"50%\", \"75%\", \"max\").show()\n",
    "\n",
    "# Show histogram-like distribution by binning\n",
    "print(\"Engine capacity distribution by ranges:\")\n",
    "ranges = [(-1, -1), (0, 999), (1000, 1499), (1500, 1999), (2000, 2499), \n",
    "          (2500, 2999), (3000, 4999), (5000, float(\"inf\"))]\n",
    "\n",
    "for start, end in ranges:\n",
    "    if end == float(\"inf\"):\n",
    "        count = df_train.filter(col(\"Engine_Capacity_(CC)\") >= start).count()\n",
    "        print(f\"  {start}+ cc: {count} vehicles\")\n",
    "    else:\n",
    "        count = df_train.filter((col(\"Engine_Capacity_(CC)\") >= start) & \n",
    "                                (col(\"Engine_Capacity_(CC)\") <= end)).count()\n",
    "        print(f\"  {start}-{end} cc: {count} vehicles\")\n",
    "\n",
    "# Common engine capacity values\n",
    "engine_capacity_counts = df_train.groupBy(\"Engine_Capacity_(CC)\") \\\n",
    "                                .count() \\\n",
    "                                .orderBy(\"count\", ascending=False)\n",
    "print(\"\\nTop 20 most common Engine_Capacity_(CC) values:\")\n",
    "engine_capacity_counts.show(100)"
   ]
  },
  {
   "cell_type": "code",
   "execution_count": null,
   "id": "a764b509",
   "metadata": {},
   "outputs": [
    {
     "name": "stdout",
     "output_type": "stream",
     "text": [
      "DataFrame schema after binning:\n",
      "root\n",
      " |-- Location_Easting_OSGR: integer (nullable = true)\n",
      " |-- Location_Northing_OSGR: integer (nullable = true)\n",
      " |-- Longitude: double (nullable = true)\n",
      " |-- Latitude: double (nullable = true)\n",
      " |-- Police_Force: integer (nullable = true)\n",
      " |-- Accident_Severity: integer (nullable = true)\n",
      " |-- Number_of_Vehicles: integer (nullable = true)\n",
      " |-- Number_of_Casualties: integer (nullable = true)\n",
      " |-- Day_of_Week: integer (nullable = true)\n",
      " |-- Time: timestamp (nullable = true)\n",
      " |-- Local_Authority_(District): integer (nullable = true)\n",
      " |-- Local_Authority_(Highway): string (nullable = true)\n",
      " |-- 1st_Road_Class: integer (nullable = true)\n",
      " |-- 1st_Road_Number: integer (nullable = true)\n",
      " |-- Road_Type: integer (nullable = true)\n",
      " |-- Speed_limit: integer (nullable = true)\n",
      " |-- Junction_Detail: integer (nullable = true)\n",
      " |-- Junction_Control: integer (nullable = true)\n",
      " |-- 2nd_Road_Class: integer (nullable = true)\n",
      " |-- 2nd_Road_Number: integer (nullable = true)\n",
      " |-- Pedestrian_Crossing-Human_Control: integer (nullable = true)\n",
      " |-- Pedestrian_Crossing-Physical_Facilities: integer (nullable = true)\n",
      " |-- Light_Conditions: integer (nullable = true)\n",
      " |-- Weather_Conditions: integer (nullable = true)\n",
      " |-- Road_Surface_Conditions: integer (nullable = true)\n",
      " |-- Special_Conditions_at_Site: integer (nullable = true)\n",
      " |-- Carriageway_Hazards: integer (nullable = true)\n",
      " |-- Urban_or_Rural_Area: integer (nullable = true)\n",
      " |-- Did_Police_Officer_Attend_Scene_of_Accident: integer (nullable = true)\n",
      " |-- LSOA_of_Accident_Location: string (nullable = true)\n",
      " |-- Vehicle_Reference: integer (nullable = true)\n",
      " |-- Casualty_Reference: integer (nullable = true)\n",
      " |-- Casualty_Class: integer (nullable = true)\n",
      " |-- Sex_of_Casualty: integer (nullable = true)\n",
      " |-- Age_of_Casualty: integer (nullable = true)\n",
      " |-- Age_Band_of_Casualty: integer (nullable = true)\n",
      " |-- Casualty_Severity: integer (nullable = true)\n",
      " |-- Pedestrian_Location: integer (nullable = true)\n",
      " |-- Pedestrian_Movement: integer (nullable = true)\n",
      " |-- Car_Passenger: integer (nullable = true)\n",
      " |-- Bus_or_Coach_Passenger: integer (nullable = true)\n",
      " |-- Pedestrian_Road_Maintenance_Worker: integer (nullable = true)\n",
      " |-- Casualty_Type: integer (nullable = true)\n",
      " |-- Casualty_Home_Area_Type: integer (nullable = true)\n",
      " |-- Vehicle_Type: integer (nullable = true)\n",
      " |-- Towing_and_Articulation: integer (nullable = true)\n",
      " |-- Vehicle_Manoeuvre: integer (nullable = true)\n",
      " |-- Vehicle_Location-Restricted_Lane: integer (nullable = true)\n",
      " |-- Junction_Location: integer (nullable = true)\n",
      " |-- Skidding_and_Overturning: integer (nullable = true)\n",
      " |-- Hit_Object_in_Carriageway: integer (nullable = true)\n",
      " |-- Vehicle_Leaving_Carriageway: integer (nullable = true)\n",
      " |-- Hit_Object_off_Carriageway: integer (nullable = true)\n",
      " |-- 1st_Point_of_Impact: integer (nullable = true)\n",
      " |-- Was_Vehicle_Left_Hand_Drive?: integer (nullable = true)\n",
      " |-- Journey_Purpose_of_Driver: integer (nullable = true)\n",
      " |-- Sex_of_Driver: integer (nullable = true)\n",
      " |-- Age_of_Driver: integer (nullable = true)\n",
      " |-- Age_Band_of_Driver: integer (nullable = true)\n",
      " |-- Engine_Capacity_(CC): integer (nullable = true)\n",
      " |-- Propulsion_Code: integer (nullable = true)\n",
      " |-- Age_of_Vehicle: integer (nullable = true)\n",
      " |-- Driver_IMD_Decile: integer (nullable = true)\n",
      " |-- Driver_Home_Area_Type: integer (nullable = true)\n",
      " |-- Age_of_Driver_Cat: double (nullable = true)\n",
      " |-- Age_of_Vehicle_Cat: double (nullable = true)\n",
      " |-- Engine_Size_Cat: double (nullable = true)\n",
      " |-- Vehicle_Type_Cat: double (nullable = true)\n",
      "\n",
      "Example data after binning:\n",
      "+-------------+-----------------+--------------+------------------+--------------------+---------------+------------+----------------+\n",
      "|Age_of_Driver|Age_of_Driver_Cat|Age_of_Vehicle|Age_of_Vehicle_Cat|Engine_Capacity_(CC)|Engine_Size_Cat|Vehicle_Type|Vehicle_Type_Cat|\n",
      "+-------------+-----------------+--------------+------------------+--------------------+---------------+------------+----------------+\n",
      "|           19|              1.0|            -1|               0.0|                1149|            3.0|           9|             2.0|\n",
      "|           38|              2.0|             5|               2.0|                8300|            7.0|          11|             3.0|\n",
      "|           24|              1.0|            -1|               0.0|                  -1|            1.0|           1|             2.0|\n",
      "|           59|              3.0|            10|               3.0|                2664|            4.0|           8|             2.0|\n",
      "|           42|              3.0|             2|               2.0|                2496|            4.0|           9|             2.0|\n",
      "+-------------+-----------------+--------------+------------------+--------------------+---------------+------------+----------------+\n",
      "only showing top 5 rows\n",
      "\n"
     ]
    }
   ],
   "source": [
    "driver_age_splits = [-float(\"inf\"), 18, 25, 40, 60, float(\"inf\")]\n",
    "driver_age_bucketizer = Bucketizer(splits=driver_age_splits, inputCol=\"Age_of_Driver\", outputCol=\"Age_of_Driver_Cat\", handleInvalid=\"skip\")\n",
    "\n",
    "vehicle_age_splits = [-float(\"inf\"), 0, 2, 6, 11, float(\"inf\")]\n",
    "vehicle_age_bucketizer = Bucketizer(splits=vehicle_age_splits, inputCol=\"Age_of_Vehicle\", outputCol=\"Age_of_Vehicle_Cat\", handleInvalid=\"skip\")\n",
    "\n",
    "engine_capacity_splits = [-float(\"inf\"), -1, 0, 1000, 2000, 3000, 5000, 8000, float(\"inf\")]\n",
    "engine_bucketizer = Bucketizer(splits=engine_capacity_splits, inputCol=\"Engine_Capacity_(CC)\", outputCol=\"Engine_Size_Cat\", handleInvalid=\"skip\")\n",
    "\n",
    "# - Cars (1-10)\n",
    "# - Motorcycles (11-15)\n",
    "# - Heavy vehicles (16-20)\n",
    "# - Others (21+)\n",
    "# TODO: FIX FIX FIX\n",
    "vehicle_type_splits = [-float(\"inf\"), -1, 1, 11, 16, 21, float(\"inf\")]\n",
    "vehicle_type_bucketizer = Bucketizer(splits=vehicle_type_splits, inputCol=\"Vehicle_Type\", outputCol=\"Vehicle_Type_Cat\", handleInvalid=\"keep\")\n",
    "\n",
    "df_train = driver_age_bucketizer.transform(df_train)\n",
    "df_train = vehicle_age_bucketizer.transform(df_train)\n",
    "df_train = engine_bucketizer.transform(df_train)\n",
    "df_train = vehicle_type_bucketizer.transform(df_train)\n",
    "\n",
    "df_test = driver_age_bucketizer.transform(df_test)\n",
    "df_test = vehicle_age_bucketizer.transform(df_test)\n",
    "df_test = engine_bucketizer.transform(df_test)\n",
    "df_test = vehicle_type_bucketizer.transform(df_test)\n",
    "\n",
    "print(\"DataFrame schema after binning:\")\n",
    "df_train.printSchema()\n",
    "print(\"Example data after binning:\")\n",
    "df_train.select(\n",
    "    \"Age_of_Driver\", \"Age_of_Driver_Cat\", \n",
    "    \"Age_of_Vehicle\", \"Age_of_Vehicle_Cat\",\n",
    "    \"Engine_Capacity_(CC)\", \"Engine_Size_Cat\",\n",
    "    \"Vehicle_Type\", \"Vehicle_Type_Cat\"\n",
    ").show(5)"
   ]
  },
  {
   "cell_type": "markdown",
   "id": "31984c1f",
   "metadata": {},
   "source": [
    "## Informačný zisk"
   ]
  },
  {
   "cell_type": "code",
   "execution_count": 11,
   "id": "bf2afacd",
   "metadata": {},
   "outputs": [
    {
     "name": "stdout",
     "output_type": "stream",
     "text": [
      "Calculating Information Gain with respect to 'Accident_Severity':\n",
      "  IG(Age_of_Driver_Cat): 0.0023\n",
      "  IG(Age_of_Vehicle_Cat): 0.0002\n",
      "  IG(Engine_Size_Cat): 0.0038\n",
      "  IG(Vehicle_Type_Cat): 0.0017\n"
     ]
    }
   ],
   "source": [
    "from pyspark.sql import functions as F\n",
    "\n",
    "def calculate_entropy(df, group_col):\n",
    "    \"\"\"Calculates the entropy for a given column.\"\"\"\n",
    "    total_count = df.count()\n",
    "    entropy = df.groupBy(group_col) \\\n",
    "                .agg((F.count(\"*\") / total_count).alias(\"prob\")) \\\n",
    "                .select(F.sum(when(col(\"prob\") > 0, -col(\"prob\") * log2(col(\"prob\")))).alias(\"entropy\")) \\\n",
    "                .first()[\"entropy\"]\n",
    "    if entropy is None:\n",
    "        return 0.0\n",
    "    return entropy\n",
    "\n",
    "def calculate_information_gain(df, attribute_col, target_col):\n",
    "    \"\"\"Calculates the Information Gain of an attribute column with respect to a target column.\"\"\"\n",
    "    total_count = df.count()\n",
    "\n",
    "    total_entropy = calculate_entropy(df, target_col)\n",
    "\n",
    "    conditional_entropy_df = df.groupBy(attribute_col, target_col) \\\n",
    "                               .agg(F.count(\"*\").alias(\"attr_target_count\")) \\\n",
    "                               .join(df.groupBy(attribute_col).agg(F.count(\"*\").alias(\"attr_count\")), on=attribute_col) \\\n",
    "                               .withColumn(\"cond_prob\", col(\"attr_target_count\") / col(\"attr_count\")) \\\n",
    "                               .select(attribute_col, \"attr_count\",\n",
    "                                       when(col(\"cond_prob\") > 0, -col(\"cond_prob\") * log2(col(\"cond_prob\"))).alias(\"term\")) \\\n",
    "                               .groupBy(attribute_col, \"attr_count\") \\\n",
    "                               .agg(F.sum(\"term\").alias(\"entropy_attr_val\")) \\\n",
    "                               .withColumn(\"attr_prob\", col(\"attr_count\") / total_count) \\\n",
    "                               .select(F.sum(col(\"attr_prob\") * col(\"entropy_attr_val\")).alias(\"conditional_entropy\"))\n",
    "\n",
    "    conditional_entropy = conditional_entropy_df.first()[\"conditional_entropy\"]\n",
    "    if conditional_entropy is None:\n",
    "        conditional_entropy = 0.0\n",
    "\n",
    "    information_gain = total_entropy - conditional_entropy\n",
    "    return information_gain\n",
    "\n",
    "target_column = \"Accident_Severity\"\n",
    "\n",
    "nominal_cols_for_ig = [\"Age_of_Driver_Cat\", \"Age_of_Vehicle_Cat\", \"Engine_Size_Cat\", \"Vehicle_Type_Cat\"]\n",
    "\n",
    "print(f\"Calculating Information Gain with respect to '{target_column}':\")\n",
    "\n",
    "ig_results = {}\n",
    "for attr_col in nominal_cols_for_ig:\n",
    "    if attr_col in df_train.columns:\n",
    "        ig = calculate_information_gain(df_train, attr_col, target_column)\n",
    "        ig_results[attr_col] = ig\n",
    "        print(f\"  IG({attr_col}): {ig:.4f}\")\n",
    "    else:\n",
    "        print(f\"  Column '{attr_col}' not found in df_train. Skipping.\")"
   ]
  },
  {
   "cell_type": "markdown",
   "id": "0be7c98a",
   "metadata": {},
   "source": [
    "## Normalizácia pomocou StandardScaler - Vypočítanie štatistík pre numerické atribúty"
   ]
  },
  {
   "cell_type": "code",
   "execution_count": null,
   "id": "3892ef09",
   "metadata": {},
   "outputs": [
    {
     "name": "stdout",
     "output_type": "stream",
     "text": [
      "Numerical columns selected for scaling: ['Location_Easting_OSGR', 'Location_Northing_OSGR', 'Police_Force', 'Accident_Severity', 'Number_of_Vehicles', 'Number_of_Casualties', 'Day_of_Week', 'Local_Authority_(District)', '1st_Road_Class', '1st_Road_Number', 'Road_Type', 'Speed_limit', 'Junction_Detail', 'Junction_Control', '2nd_Road_Class', '2nd_Road_Number', 'Pedestrian_Crossing-Human_Control', 'Pedestrian_Crossing-Physical_Facilities', 'Light_Conditions', 'Weather_Conditions', 'Road_Surface_Conditions', 'Special_Conditions_at_Site', 'Carriageway_Hazards', 'Urban_or_Rural_Area', 'Did_Police_Officer_Attend_Scene_of_Accident', 'Vehicle_Reference', 'Casualty_Reference', 'Casualty_Class', 'Sex_of_Casualty', 'Age_of_Casualty', 'Age_Band_of_Casualty', 'Casualty_Severity', 'Pedestrian_Location', 'Pedestrian_Movement', 'Car_Passenger', 'Bus_or_Coach_Passenger', 'Pedestrian_Road_Maintenance_Worker', 'Casualty_Type', 'Casualty_Home_Area_Type', 'Towing_and_Articulation', 'Vehicle_Manoeuvre', 'Vehicle_Location-Restricted_Lane', 'Junction_Location', 'Skidding_and_Overturning', 'Hit_Object_in_Carriageway', 'Vehicle_Leaving_Carriageway', 'Hit_Object_off_Carriageway', '1st_Point_of_Impact', 'Was_Vehicle_Left_Hand_Drive?', 'Journey_Purpose_of_Driver', 'Sex_of_Driver', 'Age_Band_of_Driver', 'Propulsion_Code', 'Driver_IMD_Decile', 'Driver_Home_Area_Type']\n",
      "Numerical features scaled using StandardScaler.\n",
      "+--------------------------------------------------------------------------------------------------------------------------------------------------------------------------------------------------------------------------------------------------+---------------------------------------------------------------------------------------------------------------------------------------------------------------------------------------------------------------------------------------------------------------------------------------------------------------------------------------------------------------------------------------------------------------------------------------------------------------------------------------------------------------------------------------------------------------------------------------------------------------------------------------------------------------------------------------------------------------------------------------------------------------------------------------------------------------------------------------------------------------------------------------------------------------------------------------------------------------------------------------------------------------------------------------------------------------------------------------------------------------+\n",
      "|numerical_features_vec                                                                                                                                                                                                                            |scaled_numerical_features                                                                                                                                                                                                                                                                                                                                                                                                                                                                                                                                                                                                                                                                                                                                                                                                                                                                                                                                                                                                                                                                                      |\n",
      "+--------------------------------------------------------------------------------------------------------------------------------------------------------------------------------------------------------------------------------------------------+---------------------------------------------------------------------------------------------------------------------------------------------------------------------------------------------------------------------------------------------------------------------------------------------------------------------------------------------------------------------------------------------------------------------------------------------------------------------------------------------------------------------------------------------------------------------------------------------------------------------------------------------------------------------------------------------------------------------------------------------------------------------------------------------------------------------------------------------------------------------------------------------------------------------------------------------------------------------------------------------------------------------------------------------------------------------------------------------------------------+\n",
      "|[524730.0,179100.0,1.0,3.0,2.0,1.0,3.0,12.0,3.0,3220.0,6.0,30.0,6.0,2.0,3.0,315.0,0.0,5.0,1.0,1.0,1.0,0.0,0.0,1.0,1.0,2.0,1.0,1.0,2.0,46.0,8.0,3.0,0.0,0.0,0.0,0.0,-1.0,1.0,-1.0,0.0,7.0,0.0,8.0,0.0,0.0,0.0,0.0,1.0,1.0,15.0,2.0,4.0,1.0,5.0,1.0]|[NaN,NaN,-1.203419282820488,0.4145253095834502,-0.1395931187176903,-0.335331942555815,-0.577113491090852,-1.3609117093840044,-0.629402856104423,1.2181744453934358,0.5490947819358036,-0.7339174670761477,1.3839990151582648,0.08792738755241489,0.11496079892419107,-0.05373467244154275,-0.06712359108457117,2.4857126893796235,-0.5675699564720711,-0.352756100981447,-0.5926066541093625,-0.15570439070353362,-0.11597584055955378,-0.8244017858938621,-0.4260732265500217,0.21348884893412887,-0.27954582532554,-0.6414808424136902,1.168658743156037,0.6081666509102913,0.8112046770383469,0.33934871497468355,-0.24902650267305795,-0.21243038031946862,-0.4972101657024079,-0.14477703082872684,-0.7008496249797371,-0.998774762076392,-1.9550757615790446,-0.10384421217109405,-0.9250106333969237,-0.12386388834466328,1.7730585535329864,-0.31334494005885444,-0.18954054445262974,-0.2808825310359007,-0.2794270203227054,-0.6567182252123103,0.059115443265813236,1.034073006339323,1.0486225533891567,-0.7043261899645642,0.16766167665388376,0.36710032471137305,0.0715652645555011]            |\n",
      "|[524290.0,181350.0,1.0,2.0,1.0,1.0,5.0,12.0,4.0,450.0,6.0,30.0,0.0,-1.0,-1.0,0.0,0.0,0.0,4.0,1.0,1.0,0.0,0.0,1.0,1.0,1.0,1.0,2.0,2.0,53.0,8.0,2.0,0.0,0.0,0.0,2.0,-1.0,11.0,-1.0,0.0,2.0,0.0,0.0,0.0,0.0,0.0,0.0,4.0,1.0,1.0,1.0,7.0,2.0,1.0,1.0] |[NaN,NaN,-1.203419282820488,-1.8983975094279852,-0.534581958047299,-0.335331942555815,0.45302776450008647,-1.3609117093840044,0.06101388218183047,-0.306580706455578,0.5490947819358036,-0.7339174670761477,-0.9091277226074186,-1.2158129572095921,-1.1315059599595683,-0.29426003241965504,-0.06712359108457117,-0.3804338124451485,1.2639755091642602,-0.352756100981447,-0.5926066541093625,-0.15570439070353362,-0.11597584055955378,-0.8244017858938621,-0.4260732265500217,-0.43190119100354096,-0.27954582532554,0.9842251425053681,1.168658743156037,0.9883348437094491,0.8112046770383469,-2.47997726245675,-0.24902650267305795,-0.21243038031946862,-0.4972101657024079,3.6483243644453967,-0.7008496249797371,0.4216476623183957,-1.9550757615790446,-0.10384421217109405,-1.7336666750861816,-0.12386388834466328,-0.7783700458828744,-0.31334494005885444,-0.18954054445262974,-0.2808825310359007,-0.2794270203227054,2.0235499793441196,0.059115443265813236,-1.306652838649601,-0.6722133303478319,0.3657526012728617,1.0514595709025982,-0.7072894115214413,0.0715652645555011]             |\n",
      "|[524540.0,181380.0,1.0,3.0,2.0,2.0,4.0,12.0,6.0,0.0,2.0,30.0,6.0,4.0,6.0,0.0,0.0,0.0,1.0,2.0,2.0,0.0,0.0,1.0,1.0,1.0,1.0,1.0,1.0,25.0,5.0,3.0,0.0,0.0,0.0,0.0,-1.0,3.0,1.0,0.0,18.0,0.0,1.0,0.0,0.0,0.0,0.0,1.0,1.0,15.0,1.0,5.0,-1.0,3.0,1.0]    |[NaN,NaN,-1.203419282820488,0.4145253095834502,-0.1395931187176903,-0.03902772791584477,-0.06204286329538273,-1.3609117093840044,1.4418473587543374,-0.5542846119906163,-1.8753808577399955,-0.7339174670761477,1.3839990151582648,0.9570876173937529,1.0498108680870104,-0.29426003241965504,-0.06712359108457117,-0.3804338124451485,-0.5675699564720711,0.2636417936519692,1.025044108966962,-0.15570439070353362,-0.11597584055955378,-0.8244017858938621,-0.4260732265500217,-0.43190119100354096,-0.27954582532554,-0.6414808424136902,-0.8495537910661555,-0.5323379274871821,-0.4640655966108876,0.33934871497468355,-0.24902650267305795,-0.21243038031946862,-0.4972101657024079,-0.14477703082872684,-0.7008496249797371,-0.7146902771974345,-0.001674191876683807,-0.10384421217109405,0.8540326583194439,-0.12386388834466328,-0.4594414709558918,-0.31334494005885444,-0.18954054445262974,-0.2808825310359007,-0.2794270203227054,-0.6567182252123103,0.059115443265813236,1.034073006339323,-0.6722133303478319,-0.3476332595520889,-1.5999341118435448,-0.1700945434050341,0.0715652645555011]|\n",
      "|[527760.0,179160.0,1.0,3.0,2.0,1.0,5.0,12.0,4.0,319.0,6.0,30.0,3.0,4.0,6.0,0.0,0.0,0.0,1.0,1.0,1.0,0.0,0.0,1.0,1.0,1.0,1.0,1.0,1.0,59.0,9.0,3.0,0.0,0.0,0.0,0.0,-1.0,8.0,-1.0,0.0,18.0,0.0,8.0,0.0,0.0,0.0,0.0,3.0,1.0,15.0,1.0,9.0,2.0,-1.0,-1.0]|[NaN,NaN,-1.203419282820488,0.4145253095834502,-0.1395931187176903,-0.335331942555815,0.45302776450008647,-1.3609117093840044,0.06101388218183047,-0.37869006562244467,0.5490947819358036,-0.7339174670761477,0.23743564627542313,0.9570876173937529,1.0498108680870104,-0.29426003241965504,-0.06712359108457117,-0.3804338124451485,-0.5675699564720711,-0.352756100981447,-0.5926066541093625,-0.15570439070353362,-0.11597584055955378,-0.8244017858938621,-0.4260732265500217,-0.43190119100354096,-0.27954582532554,-0.6414808424136902,-0.8495537910661555,1.3141932946801558,1.2362947682547585,0.33934871497468355,-0.24902650267305795,-0.21243038031946862,-0.4972101657024079,-0.14477703082872684,-0.7008496249797371,-0.004479065000040619,-1.9550757615790446,-0.10384421217109405,0.8540326583194439,-0.12386388834466328,1.7730585535329864,-0.31334494005885444,-0.18954054445262974,-0.2808825310359007,-0.2794270203227054,1.1301272444919763,0.059115443265813236,1.034073006339323,-0.6722133303478319,1.0791384620978122,1.0514595709025982,-1.2444842796378484,-1.7393038426254406]    |\n",
      "|[527270.0,178660.0,1.0,3.0,2.0,1.0,5.0,12.0,6.0,0.0,6.0,30.0,6.0,4.0,6.0,0.0,0.0,0.0,1.0,1.0,1.0,0.0,0.0,1.0,2.0,1.0,1.0,1.0,1.0,42.0,7.0,3.0,0.0,0.0,0.0,0.0,-1.0,9.0,1.0,0.0,18.0,0.0,8.0,0.0,0.0,0.0,0.0,1.0,1.0,15.0,1.0,7.0,2.0,4.0,1.0]     |[NaN,NaN,-1.203419282820488,0.4145253095834502,-0.1395931187176903,-0.335331942555815,0.45302776450008647,-1.3609117093840044,1.4418473587543374,-0.5542846119906163,0.5490947819358036,-0.7339174670761477,1.3839990151582648,0.9570876173937529,1.0498108680870104,-0.29426003241965504,-0.06712359108457117,-0.3804338124451485,-0.5675699564720711,-0.352756100981447,-0.5926066541093625,-0.15570439070353362,-0.11597584055955378,-0.8244017858938621,2.269579243075857,-0.43190119100354096,-0.27954582532554,-0.6414808424136902,-0.8495537910661555,0.39092768359648683,0.3861145858219354,0.33934871497468355,-0.24902650267305795,-0.21243038031946862,-0.4972101657024079,-0.14477703082872684,-0.7008496249797371,0.13756317743943816,-0.001674191876683807,-0.10384421217109405,0.8540326583194439,-0.12386388834466328,1.7730585535329864,-0.31334494005885444,-0.18954054445262974,-0.2808825310359007,-0.2794270203227054,-0.6567182252123103,0.059115443265813236,1.034073006339323,-0.6722133303478319,0.3657526012728617,1.0514595709025982,0.09850289065316947,0.0715652645555011]        |\n",
      "+--------------------------------------------------------------------------------------------------------------------------------------------------------------------------------------------------------------------------------------------------+---------------------------------------------------------------------------------------------------------------------------------------------------------------------------------------------------------------------------------------------------------------------------------------------------------------------------------------------------------------------------------------------------------------------------------------------------------------------------------------------------------------------------------------------------------------------------------------------------------------------------------------------------------------------------------------------------------------------------------------------------------------------------------------------------------------------------------------------------------------------------------------------------------------------------------------------------------------------------------------------------------------------------------------------------------------------------------------------------------------+\n",
      "only showing top 5 rows\n",
      "\n"
     ]
    }
   ],
   "source": [
    "numerical_cols_to_scale = [\n",
    "    'Location_Easting_OSGR',\n",
    "    'Location_Northing_OSGR',\n",
    "    'Police_Force',\n",
    "    'Accident_Severity',\n",
    "    'Number_of_Vehicles',\n",
    "    'Number_of_Casualties',\n",
    "    'Day_of_Week',\n",
    "    'Local_Authority_(District)',\n",
    "    '1st_Road_Class',\n",
    "    '1st_Road_Number',\n",
    "    'Road_Type',\n",
    "    'Speed_limit',\n",
    "    'Junction_Detail',\n",
    "    'Junction_Control',\n",
    "    '2nd_Road_Class',\n",
    "    '2nd_Road_Number',\n",
    "    'Pedestrian_Crossing-Human_Control',\n",
    "    'Pedestrian_Crossing-Physical_Facilities',\n",
    "    'Light_Conditions',\n",
    "    'Weather_Conditions',\n",
    "    'Road_Surface_Conditions',\n",
    "    'Special_Conditions_at_Site',\n",
    "    'Carriageway_Hazards',\n",
    "    'Urban_or_Rural_Area',\n",
    "    'Did_Police_Officer_Attend_Scene_of_Accident',\n",
    "    'Vehicle_Reference',\n",
    "    'Casualty_Reference',\n",
    "    'Casualty_Class',\n",
    "    'Sex_of_Casualty',\n",
    "    'Age_of_Casualty',\n",
    "    'Age_Band_of_Casualty',\n",
    "    'Casualty_Severity',\n",
    "    'Pedestrian_Location',\n",
    "    'Pedestrian_Movement',\n",
    "    'Car_Passenger',\n",
    "    'Bus_or_Coach_Passenger',\n",
    "    'Pedestrian_Road_Maintenance_Worker',\n",
    "    'Casualty_Type',\n",
    "    'Casualty_Home_Area_Type',\n",
    "    'Towing_and_Articulation',\n",
    "    'Vehicle_Manoeuvre',\n",
    "    'Vehicle_Location-Restricted_Lane',\n",
    "    'Junction_Location',\n",
    "    'Skidding_and_Overturning',\n",
    "    'Hit_Object_in_Carriageway',\n",
    "    'Vehicle_Leaving_Carriageway',\n",
    "    'Hit_Object_off_Carriageway',\n",
    "    '1st_Point_of_Impact',\n",
    "    'Was_Vehicle_Left_Hand_Drive?',\n",
    "    'Journey_Purpose_of_Driver',\n",
    "    'Sex_of_Driver',\n",
    "    'Age_Band_of_Driver',\n",
    "    'Propulsion_Code',\n",
    "    'Driver_IMD_Decile',\n",
    "    'Driver_Home_Area_Type'\n",
    "]\n",
    "\n",
    "# Filter out columns that might not be present in the DataFrame at this stage\n",
    "existing_numerical_cols = [col_name for col_name, dtype in df_train.dtypes \n",
    "                          if col_name in numerical_cols_to_scale and dtype in ['int', 'double']]\n",
    "\n",
    "if not existing_numerical_cols:\n",
    "    print(\"No numerical columns found for scaling.\")\n",
    "else:\n",
    "    print(f\"Numerical columns selected for scaling: {existing_numerical_cols}\")\n",
    "\n",
    "    assembler_numerical = VectorAssembler(\n",
    "        inputCols=existing_numerical_cols,\n",
    "        outputCol=\"numerical_features_vec\",\n",
    "        handleInvalid=\"skip\" \n",
    "    )\n",
    "    df_train = assembler_numerical.transform(df_train)\n",
    "    df_test = assembler_numerical.transform(df_test)\n",
    "\n",
    "    scaler = StandardScaler(\n",
    "        inputCol=\"numerical_features_vec\",\n",
    "        outputCol=\"scaled_numerical_features\",\n",
    "        withStd=True, \n",
    "        withMean=True \n",
    "    )\n",
    "\n",
    "    scaler_model = scaler.fit(df_train)\n",
    "\n",
    "    df_train = scaler_model.transform(df_train)\n",
    "    df_test = scaler_model.transform(df_test)\n",
    "\n",
    "    print(\"Numerical features scaled using StandardScaler.\")\n",
    "    df_train.select(\"numerical_features_vec\", \"scaled_numerical_features\").show(5, truncate=False)"
   ]
  },
  {
   "cell_type": "markdown",
   "id": "a5cd4ed4",
   "metadata": {},
   "source": [
    "## Odstránenie irelevantných atribútov"
   ]
  },
  {
   "cell_type": "code",
   "execution_count": null,
   "id": "604f28fe",
   "metadata": {},
   "outputs": [],
   "source": [
    "df_train = df_train.drop(\"Age_of_Driver\", \"Age_of_Vehicle\", \"Engine_Capacity_(CC)\", \"Vehicle_Type\")\n",
    "df_test = df_test.drop(\"Age_of_Driver\", \"Age_of_Vehicle\", \"Engine_Capacity_(CC)\", \"Vehicle_Type\")"
   ]
  },
  {
   "cell_type": "markdown",
   "id": "e7112484caa7d5cc",
   "metadata": {},
   "source": [
    "# TOTO BY MALO BYT AKO POSLEDNE - PASS DO MODELU"
   ]
  },
  {
   "cell_type": "code",
   "execution_count": null,
   "id": "43b8b744a2a27b07",
   "metadata": {},
   "outputs": [],
   "source": [
    "assembler = VectorAssembler(inputCols=[\"color_ohe\", \"other_feature1\", \"other_feature2\"], outputCol=\"features\")\n",
    "df_model = assembler.transform(df_encoded)"
   ]
  },
  {
   "cell_type": "markdown",
   "id": "73d4fc74edf03928",
   "metadata": {},
   "source": [
    "# TODO:\n",
    "- [x] Informačný zisk - F\n",
    "- [x] Nahradiť chýbajúce hodnoty - M\n",
    "- [x] Kvantitívne atribúty na nominálne (neviem prečo) - F\n",
    "- [x] Normalizácia - StandardScaler - F\n",
    "- [x] One-hot encoding - M\n",
    "- [ ] Odstrániť irelevantné atribúty - J"
   ]
  },
  {
   "attachments": {
    "image.png": {
     "image/png": "[encoded data removed]"
    }
   },
   "cell_type": "markdown",
   "id": "ff6adb2f",
   "metadata": {},
   "source": [
    "![image.png](attachment:image.png)"
   ]
  }
 ],
 "metadata": {
  "kernelspec": {
   "display_name": "Python 3",
   "language": "python",
   "name": "python3"
  },
  "language_info": {
   "codemirror_mode": {
    "name": "ipython",
    "version": 3
   },
   "file_extension": ".py",
   "mimetype": "text/x-python",
   "name": "python",
   "nbconvert_exporter": "python",
   "pygments_lexer": "ipython3",
   "version": "3.12.4"
  }
 },
 "nbformat": 4,
 "nbformat_minor": 5
}
