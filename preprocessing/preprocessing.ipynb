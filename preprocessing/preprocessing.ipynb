{
 "cells": [
  {
   "metadata": {},
   "cell_type": "markdown",
   "source": "# Predspracovanie dát",
   "id": "ecadab993fdae237"
  },
  {
   "cell_type": "code",
   "id": "initial_id",
   "metadata": {
    "collapsed": true,
    "ExecuteTime": {
     "end_time": "2025-04-14T16:16:36.818845Z",
     "start_time": "2025-04-14T16:16:36.809031Z"
    }
   },
   "source": [
    "import sys\n",
    "import os\n",
    "\n",
    "sys.path.append(os.path.dirname(os.path.dirname(os.path.abspath(\"__file__\"))))\n",
    "\n",
    "from pyspark.ml.feature import StringIndexer , OneHotEncoder, VectorAssembler\n",
    "from pyspark.sql.functions import when, count, col\n",
    "from integration.integration import integration\n",
    "from pyspark.sql.functions import median\n",
    "from pyspark.sql import SparkSession\n",
    "from collections import Counter"
   ],
   "outputs": [],
   "execution_count": 18
  },
  {
   "metadata": {
    "ExecuteTime": {
     "end_time": "2025-04-14T16:16:36.862212Z",
     "start_time": "2025-04-14T16:16:36.838451Z"
    }
   },
   "cell_type": "code",
   "source": [
    "spark = SparkSession.builder.appName(\"preprocessing\").getOrCreate()\n",
    "spark.sparkContext.setLogLevel(\"ERROR\")"
   ],
   "id": "9942c5b24fa3aa2f",
   "outputs": [],
   "execution_count": 19
  },
  {
   "metadata": {
    "ExecuteTime": {
     "end_time": "2025-04-14T16:16:43.154231Z",
     "start_time": "2025-04-14T16:16:36.869643Z"
    }
   },
   "cell_type": "code",
   "source": [
    "df_train, df_test = integration()\n",
    "df_train = df_train.drop(\"Accident_Index\", \"Date\")\n",
    "df_test = df_test.drop(\"Accident_Index\",\"Date\")"
   ],
   "id": "56d34e2b63d29496",
   "outputs": [
    {
     "name": "stderr",
     "output_type": "stream",
     "text": [
      "                                                                                \r"
     ]
    }
   ],
   "execution_count": 20
  },
  {
   "metadata": {},
   "cell_type": "markdown",
   "source": "#### Zistenie, ktoré stĺpce sú kvantitatívne a kategorické",
   "id": "bc654fb2dc0db681"
  },
  {
   "metadata": {
    "ExecuteTime": {
     "end_time": "2025-04-14T16:16:43.216931Z",
     "start_time": "2025-04-14T16:16:43.213318Z"
    }
   },
   "cell_type": "code",
   "source": [
    "types = df_train.dtypes\n",
    "print(types)"
   ],
   "id": "f5da9e3607bcd637",
   "outputs": [
    {
     "name": "stdout",
     "output_type": "stream",
     "text": [
      "[('Location_Easting_OSGR', 'int'), ('Location_Northing_OSGR', 'int'), ('Longitude', 'double'), ('Latitude', 'double'), ('Police_Force', 'int'), ('Accident_Severity', 'int'), ('Number_of_Vehicles', 'int'), ('Number_of_Casualties', 'int'), ('Day_of_Week', 'int'), ('Time', 'timestamp'), ('Local_Authority_(District)', 'int'), ('Local_Authority_(Highway)', 'string'), ('1st_Road_Class', 'int'), ('1st_Road_Number', 'int'), ('Road_Type', 'int'), ('Speed_limit', 'int'), ('Junction_Detail', 'int'), ('Junction_Control', 'int'), ('2nd_Road_Class', 'int'), ('2nd_Road_Number', 'int'), ('Pedestrian_Crossing-Human_Control', 'int'), ('Pedestrian_Crossing-Physical_Facilities', 'int'), ('Light_Conditions', 'int'), ('Weather_Conditions', 'int'), ('Road_Surface_Conditions', 'int'), ('Special_Conditions_at_Site', 'int'), ('Carriageway_Hazards', 'int'), ('Urban_or_Rural_Area', 'int'), ('Did_Police_Officer_Attend_Scene_of_Accident', 'int'), ('LSOA_of_Accident_Location', 'string'), ('Vehicle_Reference', 'int'), ('Casualty_Reference', 'int'), ('Casualty_Class', 'int'), ('Sex_of_Casualty', 'int'), ('Age_of_Casualty', 'int'), ('Age_Band_of_Casualty', 'int'), ('Casualty_Severity', 'int'), ('Pedestrian_Location', 'int'), ('Pedestrian_Movement', 'int'), ('Car_Passenger', 'int'), ('Bus_or_Coach_Passenger', 'int'), ('Pedestrian_Road_Maintenance_Worker', 'int'), ('Casualty_Type', 'int'), ('Casualty_Home_Area_Type', 'int'), ('Vehicle_Type', 'int'), ('Towing_and_Articulation', 'int'), ('Vehicle_Manoeuvre', 'int'), ('Vehicle_Location-Restricted_Lane', 'int'), ('Junction_Location', 'int'), ('Skidding_and_Overturning', 'int'), ('Hit_Object_in_Carriageway', 'int'), ('Vehicle_Leaving_Carriageway', 'int'), ('Hit_Object_off_Carriageway', 'int'), ('1st_Point_of_Impact', 'int'), ('Was_Vehicle_Left_Hand_Drive?', 'int'), ('Journey_Purpose_of_Driver', 'int'), ('Sex_of_Driver', 'int'), ('Age_of_Driver', 'int'), ('Age_Band_of_Driver', 'int'), ('Engine_Capacity_(CC)', 'int'), ('Propulsion_Code', 'int'), ('Age_of_Vehicle', 'int'), ('Driver_IMD_Decile', 'int'), ('Driver_Home_Area_Type', 'int')]\n"
     ]
    }
   ],
   "execution_count": 21
  },
  {
   "metadata": {
    "ExecuteTime": {
     "end_time": "2025-04-14T16:16:43.253228Z",
     "start_time": "2025-04-14T16:16:43.249694Z"
    }
   },
   "cell_type": "code",
   "source": [
    "counts = Counter()\n",
    "\n",
    "for dtype in types:\n",
    "    counts[dtype[1]] += 1\n",
    "\n",
    "print(counts)"
   ],
   "id": "b70fc1d4c7b90c08",
   "outputs": [
    {
     "name": "stdout",
     "output_type": "stream",
     "text": [
      "Counter({'int': 59, 'double': 2, 'string': 2, 'timestamp': 1})\n"
     ]
    }
   ],
   "execution_count": 22
  },
  {
   "metadata": {},
   "cell_type": "markdown",
   "source": "#### Vypočítanie základných štatistík pre kvantitatívne stĺpce",
   "id": "dafe45440e848f14"
  },
  {
   "metadata": {
    "ExecuteTime": {
     "end_time": "2025-04-14T16:16:43.274875Z",
     "start_time": "2025-04-14T16:16:43.272446Z"
    }
   },
   "cell_type": "code",
   "source": [
    "def get_int(df):\n",
    "    int_columns = []\n",
    "\n",
    "    for column, data_type in df.dtypes:\n",
    "        if data_type == \"int\":\n",
    "            int_columns.append(column)\n",
    "    return int_columns"
   ],
   "id": "f7ad9ec3b9a4201c",
   "outputs": [],
   "execution_count": 23
  },
  {
   "metadata": {
    "ExecuteTime": {
     "end_time": "2025-04-14T16:20:16.863093Z",
     "start_time": "2025-04-14T16:16:43.324620Z"
    }
   },
   "cell_type": "code",
   "source": [
    "def show_stats(df, columns, batch_size=4):\n",
    "    for i in range(0, len(columns), batch_size):\n",
    "        df.describe(columns[i:i+batch_size]).show()\n",
    "\n",
    "show_stats(df_train, get_int(df_train))"
   ],
   "id": "6692c2640ac8733e",
   "outputs": [
    {
     "name": "stderr",
     "output_type": "stream",
     "text": [
      "                                                                                \r"
     ]
    },
    {
     "name": "stdout",
     "output_type": "stream",
     "text": [
      "+-------+---------------------+----------------------+------------------+------------------+\n",
      "|summary|Location_Easting_OSGR|Location_Northing_OSGR|      Police_Force| Accident_Severity|\n",
      "+-------+---------------------+----------------------+------------------+------------------+\n",
      "|  count|               300276|                300276|            300293|            300293|\n",
      "|   mean|      438255.11356885|    300105.18741757586| 30.78688480916971|2.8231294102759636|\n",
      "| stddev|    94748.83907367043|    157397.67714086492|24.743146328252084|0.4288013609691326|\n",
      "|    min|                65860|                 10560|                 1|                 1|\n",
      "|    max|               655370|               1191500|                98|                 3|\n",
      "+-------+---------------------+----------------------+------------------+------------------+\n",
      "\n"
     ]
    },
    {
     "name": "stderr",
     "output_type": "stream",
     "text": [
      "                                                                                \r"
     ]
    },
    {
     "name": "stdout",
     "output_type": "stream",
     "text": [
      "+-------+------------------+--------------------+------------------+--------------------------+\n",
      "|summary|Number_of_Vehicles|Number_of_Casualties|       Day_of_Week|Local_Authority_(District)|\n",
      "+-------+------------------+--------------------+------------------+--------------------------+\n",
      "|  count|            300293|              300293|            300293|                    300293|\n",
      "|   mean|2.3571978034786025|   2.121068423173367| 4.110751832377045|          355.383961664108|\n",
      "| stddev|  2.50916130396624|  3.2845832805738686|1.9431281459177299|        252.13048697950327|\n",
      "|    min|                 1|                   1|                 1|                         1|\n",
      "|    max|                67|                  93|                 7|                       941|\n",
      "+-------+------------------+--------------------+------------------+--------------------------+\n",
      "\n"
     ]
    },
    {
     "name": "stderr",
     "output_type": "stream",
     "text": [
      "                                                                                \r"
     ]
    },
    {
     "name": "stdout",
     "output_type": "stream",
     "text": [
      "+-------+------------------+------------------+------------------+------------------+\n",
      "|summary|    1st_Road_Class|   1st_Road_Number|         Road_Type|       Speed_limit|\n",
      "+-------+------------------+------------------+------------------+------------------+\n",
      "|  count|            300293|            300293|            300293|            300293|\n",
      "|   mean| 3.912422200983706| 998.2143373305405|5.0935453040863425| 41.09957608069452|\n",
      "| stddev|1.4508332728073978|1808.0544016265796| 1.647924197132397|15.104004572455908|\n",
      "|    min|                 1|                -1|                 1|                10|\n",
      "|    max|                 6|              9999|                 9|                70|\n",
      "+-------+------------------+------------------+------------------+------------------+\n",
      "\n"
     ]
    },
    {
     "name": "stderr",
     "output_type": "stream",
     "text": [
      "                                                                                \r"
     ]
    },
    {
     "name": "stdout",
     "output_type": "stream",
     "text": [
      "+-------+------------------+------------------+-----------------+------------------+\n",
      "|summary|   Junction_Detail|  Junction_Control|   2nd_Road_Class|   2nd_Road_Number|\n",
      "+-------+------------------+------------------+-----------------+------------------+\n",
      "|  count|            300293|            300293|           300293|            300293|\n",
      "|   mean|2.3728924750160676|1.7908076445338386|2.622718478286207| 386.6823202672057|\n",
      "| stddev|2.6134518815478947| 2.303394959580854|3.211294477117478|1312.3022275267308|\n",
      "|    min|                -1|                -1|               -1|                -1|\n",
      "|    max|                 9|                 4|                6|              9999|\n",
      "+-------+------------------+------------------+-----------------+------------------+\n",
      "\n"
     ]
    },
    {
     "name": "stderr",
     "output_type": "stream",
     "text": [
      "                                                                                \r"
     ]
    },
    {
     "name": "stdout",
     "output_type": "stream",
     "text": [
      "+-------+---------------------------------+---------------------------------------+------------------+------------------+\n",
      "|summary|Pedestrian_Crossing-Human_Control|Pedestrian_Crossing-Physical_Facilities|  Light_Conditions|Weather_Conditions|\n",
      "+-------+---------------------------------+---------------------------------------+------------------+------------------+\n",
      "|  count|                           300293|                                 300293|            300293|            300293|\n",
      "|   mean|             0.008082106476008431|                     0.6646475275813956| 1.929049295188366|1.5706992836995868|\n",
      "| stddev|              0.11848045890628368|                     1.7475343894531297|1.6382984972923809|1.6184739593558908|\n",
      "|    min|                               -1|                                     -1|                 1|                -1|\n",
      "|    max|                                2|                                      8|                 7|                 9|\n",
      "+-------+---------------------------------+---------------------------------------+------------------+------------------+\n",
      "\n"
     ]
    },
    {
     "name": "stderr",
     "output_type": "stream",
     "text": [
      "                                                                                \r"
     ]
    },
    {
     "name": "stdout",
     "output_type": "stream",
     "text": [
      "+-------+-----------------------+--------------------------+-------------------+-------------------+\n",
      "|summary|Road_Surface_Conditions|Special_Conditions_at_Site|Carriageway_Hazards|Urban_or_Rural_Area|\n",
      "+-------+-----------------------+--------------------------+-------------------+-------------------+\n",
      "|  count|                 300293|                    300293|             300293|             300293|\n",
      "|   mean|      1.365789412340614|       0.11289640451159368|0.06527957694651557| 1.4051343188152905|\n",
      "| stddev|     0.6173517091471808|        0.7279191007221121| 0.5655496715446241|0.49106126802370986|\n",
      "|    min|                     -1|                        -1|                 -1|                  1|\n",
      "|    max|                      5|                         7|                  7|                  3|\n",
      "+-------+-----------------------+--------------------------+-------------------+-------------------+\n",
      "\n"
     ]
    },
    {
     "name": "stderr",
     "output_type": "stream",
     "text": [
      "                                                                                \r"
     ]
    },
    {
     "name": "stdout",
     "output_type": "stream",
     "text": [
      "+-------+-------------------------------------------+------------------+------------------+------------------+\n",
      "|summary|Did_Police_Officer_Attend_Scene_of_Accident| Vehicle_Reference|Casualty_Reference|    Casualty_Class|\n",
      "+-------+-------------------------------------------+------------------+------------------+------------------+\n",
      "|  count|                                     300293|            300293|            300293|            300293|\n",
      "|   mean|                          1.157509499055922|1.6716606780710839|1.5706226918376385|1.3944880500044956|\n",
      "| stddev|                        0.37032828875674423|1.5156600429402007| 2.521751127337494|0.6141498732417594|\n",
      "|    min|                                         -1|                 1|                 1|                 1|\n",
      "|    max|                                          3|                67|               852|                 3|\n",
      "+-------+-------------------------------------------+------------------+------------------+------------------+\n",
      "\n"
     ]
    },
    {
     "name": "stderr",
     "output_type": "stream",
     "text": [
      "                                                                                \r"
     ]
    },
    {
     "name": "stdout",
     "output_type": "stream",
     "text": [
      "+-------+------------------+------------------+--------------------+-------------------+\n",
      "|summary|   Sex_of_Casualty|   Age_of_Casualty|Age_Band_of_Casualty|  Casualty_Severity|\n",
      "+-------+------------------+------------------+--------------------+-------------------+\n",
      "|  count|            300293|            300293|              300293|             300293|\n",
      "|   mean|1.4207823692193957| 34.89144935113372|   6.103888535530299| 2.8804567539036876|\n",
      "| stddev|0.4952815787281858|18.442088301237582|  2.3495659280119803|0.35354461464633363|\n",
      "|    min|                -1|                -1|                  -1|                  1|\n",
      "|    max|                 2|                99|                  11|                  3|\n",
      "+-------+------------------+------------------+--------------------+-------------------+\n",
      "\n"
     ]
    },
    {
     "name": "stderr",
     "output_type": "stream",
     "text": [
      "                                                                                \r"
     ]
    },
    {
     "name": "stdout",
     "output_type": "stream",
     "text": [
      "+-------+-------------------+-------------------+------------------+----------------------+\n",
      "|summary|Pedestrian_Location|Pedestrian_Movement|     Car_Passenger|Bus_or_Coach_Passenger|\n",
      "+-------+-------------------+-------------------+------------------+----------------------+\n",
      "|  count|             300293|             300293|            300293|                300293|\n",
      "|   mean|0.37798083871418914|  0.273689363388424|0.3035934903577506|   0.07436736787071294|\n",
      "| stddev| 1.5273365922834832|  1.295624853514024|0.6078305973386469|     0.520935014949368|\n",
      "|    min|                  0|                  0|                -1|                    -1|\n",
      "|    max|                 10|                  9|                 2|                     4|\n",
      "+-------+-------------------+-------------------+------------------+----------------------+\n",
      "\n"
     ]
    },
    {
     "name": "stderr",
     "output_type": "stream",
     "text": [
      "                                                                                \r"
     ]
    },
    {
     "name": "stdout",
     "output_type": "stream",
     "text": [
      "+-------+----------------------------------+-----------------+-----------------------+-----------------+\n",
      "|summary|Pedestrian_Road_Maintenance_Worker|    Casualty_Type|Casualty_Home_Area_Type|     Vehicle_Type|\n",
      "+-------+----------------------------------+-----------------+-----------------------+-----------------+\n",
      "|  count|                            300293|           300293|                 300293|           300293|\n",
      "|   mean|               -0.6360055012937365|8.035482012567725|     0.9993239935662835|9.805713086885142|\n",
      "| stddev|                0.5203189010768202|6.996887798397217|     1.0257836208089453|7.936216673449729|\n",
      "|    min|                                -1|                0|                     -1|               -1|\n",
      "|    max|                                 2|               98|                      3|               98|\n",
      "+-------+----------------------------------+-----------------+-----------------------+-----------------+\n",
      "\n"
     ]
    },
    {
     "name": "stderr",
     "output_type": "stream",
     "text": [
      "                                                                                \r"
     ]
    },
    {
     "name": "stdout",
     "output_type": "stream",
     "text": [
      "+-------+-----------------------+------------------+--------------------------------+------------------+\n",
      "|summary|Towing_and_Articulation| Vehicle_Manoeuvre|Vehicle_Location-Restricted_Lane| Junction_Location|\n",
      "+-------+-----------------------+------------------+--------------------------------+------------------+\n",
      "|  count|                 300293|            300293|                          300293|            300293|\n",
      "|   mean|    0.03222519339445142|12.737359845217837|             0.11157103229179502| 2.440692923244964|\n",
      "| stddev|     0.3111638609190019| 6.179778704640832|               0.901296699387277|3.1379408281044543|\n",
      "|    min|                     -1|                -1|                              -1|                -1|\n",
      "|    max|                      5|                18|                               9|                 8|\n",
      "+-------+-----------------------+------------------+--------------------------------+------------------+\n",
      "\n"
     ]
    },
    {
     "name": "stderr",
     "output_type": "stream",
     "text": [
      "                                                                                \r"
     ]
    },
    {
     "name": "stdout",
     "output_type": "stream",
     "text": [
      "+-------+------------------------+-------------------------+---------------------------+--------------------------+\n",
      "|summary|Skidding_and_Overturning|Hit_Object_in_Carriageway|Vehicle_Leaving_Carriageway|Hit_Object_off_Carriageway|\n",
      "+-------+------------------------+-------------------------+---------------------------+--------------------------+\n",
      "|  count|                  300293|                   300293|                     300293|                    300293|\n",
      "|   mean|      0.2268517747666446|       0.3010626288325069|        0.40768516082625966|        0.6090618162927541|\n",
      "| stddev|       0.723789640107202|       1.5939520605809545|         1.4497338141550096|         2.167374561797518|\n",
      "|    min|                      -1|                       -1|                         -1|                        -1|\n",
      "|    max|                       5|                       12|                          8|                        11|\n",
      "+-------+------------------------+-------------------------+---------------------------+--------------------------+\n",
      "\n"
     ]
    },
    {
     "name": "stderr",
     "output_type": "stream",
     "text": [
      "                                                                                \r"
     ]
    },
    {
     "name": "stdout",
     "output_type": "stream",
     "text": [
      "+-------+-------------------+----------------------------+-------------------------+------------------+\n",
      "|summary|1st_Point_of_Impact|Was_Vehicle_Left_Hand_Drive?|Journey_Purpose_of_Driver|     Sex_of_Driver|\n",
      "+-------+-------------------+----------------------------+-------------------------+------------------+\n",
      "|  count|             300293|                      300293|                   300293|            300293|\n",
      "|   mean| 1.7344160536542643|          0.9889507913937388|        8.837645233155618|1.3894696180064137|\n",
      "| stddev| 1.1190713499544918|         0.18852904383972255|        5.980739624197323|0.5807067891130099|\n",
      "|    min|                 -1|                          -1|                       -1|                -1|\n",
      "|    max|                  4|                           2|                       15|                 3|\n",
      "+-------+-------------------+----------------------------+-------------------------+------------------+\n",
      "\n"
     ]
    },
    {
     "name": "stderr",
     "output_type": "stream",
     "text": [
      "                                                                                \r"
     ]
    },
    {
     "name": "stdout",
     "output_type": "stream",
     "text": [
      "+-------+------------------+------------------+--------------------+------------------+\n",
      "|summary|     Age_of_Driver|Age_Band_of_Driver|Engine_Capacity_(CC)|   Propulsion_Code|\n",
      "+-------+------------------+------------------+--------------------+------------------+\n",
      "|  count|            300293|            300293|              300293|            300293|\n",
      "|   mean| 34.95248973502546| 5.968504094334533|    1467.86069272344|0.8100921433400046|\n",
      "| stddev|19.064810411524313| 2.815962035850567|  1678.0161198258568|1.1314741218330875|\n",
      "|    min|                -1|                -1|                  -1|                -1|\n",
      "|    max|                99|                11|               99999|                12|\n",
      "+-------+------------------+------------------+--------------------+------------------+\n",
      "\n"
     ]
    },
    {
     "name": "stderr",
     "output_type": "stream",
     "text": [
      "[Stage 673:>                                                        (0 + 8) / 9]\r"
     ]
    },
    {
     "name": "stdout",
     "output_type": "stream",
     "text": [
      "+-------+-----------------+------------------+---------------------+\n",
      "|summary|   Age_of_Vehicle| Driver_IMD_Decile|Driver_Home_Area_Type|\n",
      "+-------+-----------------+------------------+---------------------+\n",
      "|  count|           300293|            300293|               300293|\n",
      "|   mean|5.011478789049362| 3.630224480757127|   0.9206941220741076|\n",
      "| stddev|5.294180187151661|3.7267864561304447|   1.1077424779630716|\n",
      "|    min|               -1|                -1|                   -1|\n",
      "|    max|              110|                10|                    3|\n",
      "+-------+-----------------+------------------+---------------------+\n",
      "\n"
     ]
    },
    {
     "name": "stderr",
     "output_type": "stream",
     "text": [
      "                                                                                \r"
     ]
    }
   ],
   "execution_count": 24
  },
  {
   "metadata": {},
   "cell_type": "markdown",
   "source": "#### Zobrazenie histogramu pre kategorické atribúty",
   "id": "2bc6f8e9b7ede45f"
  },
  {
   "metadata": {
    "ExecuteTime": {
     "end_time": "2025-04-14T16:20:32.249878Z",
     "start_time": "2025-04-14T16:20:20.051964Z"
    }
   },
   "cell_type": "code",
   "source": "df_train.groupby(\"Local_Authority_(Highway)\").count().orderBy(\"count\", ascending=False).show()",
   "id": "4dd86c96a4215ee7",
   "outputs": [
    {
     "name": "stderr",
     "output_type": "stream",
     "text": [
      "[Stage 690:============>                                            (2 + 7) / 9]\r"
     ]
    },
    {
     "name": "stdout",
     "output_type": "stream",
     "text": [
      "+-------------------------+-----+\n",
      "|Local_Authority_(Highway)|count|\n",
      "+-------------------------+-----+\n",
      "|                E10000016| 9067|\n",
      "|                E10000030| 8536|\n",
      "|                E10000017| 7218|\n",
      "|                E10000012| 6495|\n",
      "|                E10000015| 6219|\n",
      "|                E08000025| 5805|\n",
      "|                E10000014| 5748|\n",
      "|                E10000028| 5051|\n",
      "|                E10000019| 4289|\n",
      "|                E08000035| 4230|\n",
      "|                E10000024| 4218|\n",
      "|                E10000007| 4170|\n",
      "|                E10000020| 3831|\n",
      "|                E10000032| 3822|\n",
      "|                E10000023| 3772|\n",
      "|                E10000008| 3671|\n",
      "|                E10000029| 3628|\n",
      "|                E10000003| 3550|\n",
      "|                E10000025| 3258|\n",
      "|                E08000032| 3116|\n",
      "+-------------------------+-----+\n",
      "only showing top 20 rows\n",
      "\n"
     ]
    },
    {
     "name": "stderr",
     "output_type": "stream",
     "text": [
      "                                                                                \r"
     ]
    }
   ],
   "execution_count": 25
  },
  {
   "metadata": {
    "ExecuteTime": {
     "end_time": "2025-04-14T16:20:45.891307Z",
     "start_time": "2025-04-14T16:20:33.889697Z"
    }
   },
   "cell_type": "code",
   "source": "df_train.groupby(\"LSOA_of_Accident_Location\").count().orderBy(\"count\", ascending=False).show()",
   "id": "6bebabdc67a17bf0",
   "outputs": [
    {
     "name": "stderr",
     "output_type": "stream",
     "text": [
      "[Stage 707:>                                                        (0 + 8) / 9]\r"
     ]
    },
    {
     "name": "stdout",
     "output_type": "stream",
     "text": [
      "[1556.298s][warning][gc,alloc] Executor task launch worker for task 1.0 in stage 707.0 (TID 1833): Retried waiting for GCLocker too often allocating 1048578 words\n",
      "[1556.354s][warning][gc,alloc] Executor task launch worker for task 5.0 in stage 707.0 (TID 1837): Retried waiting for GCLocker too often allocating 1048578 words\n"
     ]
    },
    {
     "name": "stderr",
     "output_type": "stream",
     "text": [
      "[Stage 707:============>                                            (2 + 7) / 9]\r"
     ]
    },
    {
     "name": "stdout",
     "output_type": "stream",
     "text": [
      "+-------------------------+-----+\n",
      "|LSOA_of_Accident_Location|count|\n",
      "+-------------------------+-----+\n",
      "|                     NULL|19875|\n",
      "|                E01024597|  335|\n",
      "|                E01000004|  308|\n",
      "|                E01018648|  252|\n",
      "|                E01023722|  251|\n",
      "|                E01011365|  244|\n",
      "|                E01023584|  211|\n",
      "|                E01030458|  190|\n",
      "|                E01023725|  170|\n",
      "|                E01004736|  164|\n",
      "|                E01005131|  160|\n",
      "|                E01018465|  154|\n",
      "|                E01016481|  153|\n",
      "|                E01002444|  152|\n",
      "|                E01029317|  148|\n",
      "|                E01023732|  135|\n",
      "|                E01018337|  130|\n",
      "|                E01006650|  128|\n",
      "|                E01017620|  128|\n",
      "|                E01008440|  127|\n",
      "+-------------------------+-----+\n",
      "only showing top 20 rows\n",
      "\n"
     ]
    },
    {
     "name": "stderr",
     "output_type": "stream",
     "text": [
      "                                                                                \r"
     ]
    }
   ],
   "execution_count": 26
  },
  {
   "metadata": {},
   "cell_type": "markdown",
   "source": "## Chýbajúce hodnoty",
   "id": "2a5e0892c5c7f990"
  },
  {
   "metadata": {
    "ExecuteTime": {
     "end_time": "2025-04-14T16:21:01.823288Z",
     "start_time": "2025-04-14T16:20:46.690042Z"
    }
   },
   "cell_type": "code",
   "source": "df_train.select([count(when(col(c).isNull(), c)).alias(c) for c in df_train.columns]).show()",
   "id": "c7a34b07419e9a45",
   "outputs": [
    {
     "name": "stderr",
     "output_type": "stream",
     "text": [
      "[Stage 724:=========================>                               (4 + 5) / 9]\r"
     ]
    },
    {
     "name": "stdout",
     "output_type": "stream",
     "text": [
      "+---------------------+----------------------+---------+--------+------------+-----------------+------------------+--------------------+-----------+----+--------------------------+-------------------------+--------------+---------------+---------+-----------+---------------+----------------+--------------+---------------+---------------------------------+---------------------------------------+----------------+------------------+-----------------------+--------------------------+-------------------+-------------------+-------------------------------------------+-------------------------+-----------------+------------------+--------------+---------------+---------------+--------------------+-----------------+-------------------+-------------------+-------------+----------------------+----------------------------------+-------------+-----------------------+------------+-----------------------+-----------------+--------------------------------+-----------------+------------------------+-------------------------+---------------------------+--------------------------+-------------------+----------------------------+-------------------------+-------------+-------------+------------------+--------------------+---------------+--------------+-----------------+---------------------+\n",
      "|Location_Easting_OSGR|Location_Northing_OSGR|Longitude|Latitude|Police_Force|Accident_Severity|Number_of_Vehicles|Number_of_Casualties|Day_of_Week|Time|Local_Authority_(District)|Local_Authority_(Highway)|1st_Road_Class|1st_Road_Number|Road_Type|Speed_limit|Junction_Detail|Junction_Control|2nd_Road_Class|2nd_Road_Number|Pedestrian_Crossing-Human_Control|Pedestrian_Crossing-Physical_Facilities|Light_Conditions|Weather_Conditions|Road_Surface_Conditions|Special_Conditions_at_Site|Carriageway_Hazards|Urban_or_Rural_Area|Did_Police_Officer_Attend_Scene_of_Accident|LSOA_of_Accident_Location|Vehicle_Reference|Casualty_Reference|Casualty_Class|Sex_of_Casualty|Age_of_Casualty|Age_Band_of_Casualty|Casualty_Severity|Pedestrian_Location|Pedestrian_Movement|Car_Passenger|Bus_or_Coach_Passenger|Pedestrian_Road_Maintenance_Worker|Casualty_Type|Casualty_Home_Area_Type|Vehicle_Type|Towing_and_Articulation|Vehicle_Manoeuvre|Vehicle_Location-Restricted_Lane|Junction_Location|Skidding_and_Overturning|Hit_Object_in_Carriageway|Vehicle_Leaving_Carriageway|Hit_Object_off_Carriageway|1st_Point_of_Impact|Was_Vehicle_Left_Hand_Drive?|Journey_Purpose_of_Driver|Sex_of_Driver|Age_of_Driver|Age_Band_of_Driver|Engine_Capacity_(CC)|Propulsion_Code|Age_of_Vehicle|Driver_IMD_Decile|Driver_Home_Area_Type|\n",
      "+---------------------+----------------------+---------+--------+------------+-----------------+------------------+--------------------+-----------+----+--------------------------+-------------------------+--------------+---------------+---------+-----------+---------------+----------------+--------------+---------------+---------------------------------+---------------------------------------+----------------+------------------+-----------------------+--------------------------+-------------------+-------------------+-------------------------------------------+-------------------------+-----------------+------------------+--------------+---------------+---------------+--------------------+-----------------+-------------------+-------------------+-------------+----------------------+----------------------------------+-------------+-----------------------+------------+-----------------------+-----------------+--------------------------------+-----------------+------------------------+-------------------------+---------------------------+--------------------------+-------------------+----------------------------+-------------------------+-------------+-------------+------------------+--------------------+---------------+--------------+-----------------+---------------------+\n",
      "|                   17|                    17|       17|      17|           0|                0|                 0|                   0|          0|  18|                         0|                        0|             0|              0|        0|          0|              0|               0|             0|              0|                                0|                                      0|               0|                 0|                      0|                         0|                  0|                  0|                                          0|                    19875|                0|                 0|             0|              0|              0|                   0|                0|                  0|                  0|            0|                     0|                                 0|            0|                      0|           0|                      0|                0|                               0|                0|                       0|                        0|                          0|                         0|                  0|                           0|                        0|            0|            0|                 0|                   0|              0|             0|                0|                    0|\n",
      "+---------------------+----------------------+---------+--------+------------+-----------------+------------------+--------------------+-----------+----+--------------------------+-------------------------+--------------+---------------+---------+-----------+---------------+----------------+--------------+---------------+---------------------------------+---------------------------------------+----------------+------------------+-----------------------+--------------------------+-------------------+-------------------+-------------------------------------------+-------------------------+-----------------+------------------+--------------+---------------+---------------+--------------------+-----------------+-------------------+-------------------+-------------+----------------------+----------------------------------+-------------+-----------------------+------------+-----------------------+-----------------+--------------------------------+-----------------+------------------------+-------------------------+---------------------------+--------------------------+-------------------+----------------------------+-------------------------+-------------+-------------+------------------+--------------------+---------------+--------------+-----------------+---------------------+\n",
      "\n"
     ]
    },
    {
     "name": "stderr",
     "output_type": "stream",
     "text": [
      "                                                                                \r"
     ]
    }
   ],
   "execution_count": 27
  },
  {
   "metadata": {},
   "cell_type": "markdown",
   "source": "## Odstranenie atribútov",
   "id": "8aef005ebb885616"
  },
  {
   "metadata": {
    "ExecuteTime": {
     "end_time": "2025-04-14T16:21:02.291183Z",
     "start_time": "2025-04-14T16:21:02.256211Z"
    }
   },
   "cell_type": "code",
   "source": [
    "df_train = df_train.drop(\"Accident_Index\", \"Date\", \"Time\", \"Longitude\", \"Latitude\", \"LSOA_of_Accident_Location\")\n",
    "df_test = df_test.drop(\"Accident_Index\",\"Date\", \"Time\", \"Longitude\", \"Latitude\", \"LSOA_of_Accident_Location\")"
   ],
   "id": "4dbe17215be8821d",
   "outputs": [],
   "execution_count": 28
  },
  {
   "metadata": {},
   "cell_type": "markdown",
   "source": "## Nahradenie chýbajúcich hodnôt mediánom",
   "id": "a7f512fabd7150c3"
  },
  {
   "metadata": {
    "ExecuteTime": {
     "end_time": "2025-04-14T16:21:38.058382Z",
     "start_time": "2025-04-14T16:21:02.499887Z"
    }
   },
   "cell_type": "code",
   "source": [
    "def fillna_median(df, include=None):\n",
    "    if include is None:\n",
    "        include = set()\n",
    "    medians = df.agg(*(median(x).alias(x) for x in df.columns if x in include))\n",
    "    return df.fillna(medians.first().asDict())\n",
    "\n",
    "\n",
    "df_train = fillna_median(df_train, ['Location_Easting_OSGR', 'Location_Northing_OSGR'])\n",
    "df_test  = fillna_median(df_test, ['Location_Easting_OSGR', 'Location_Northing_OSGR'])"
   ],
   "id": "4683b61faac2876b",
   "outputs": [
    {
     "name": "stderr",
     "output_type": "stream",
     "text": [
      "                                                                                \r"
     ]
    }
   ],
   "execution_count": 29
  },
  {
   "metadata": {
    "ExecuteTime": {
     "end_time": "2025-04-14T16:21:49.997066Z",
     "start_time": "2025-04-14T16:21:38.106520Z"
    }
   },
   "cell_type": "code",
   "source": "df_train.select([count(when(col(c).isNull(), c)).alias(c) for c in df_train.columns]).show()",
   "id": "3b6de8f2d0f1d6e7",
   "outputs": [
    {
     "name": "stderr",
     "output_type": "stream",
     "text": [
      "[Stage 775:=========================>                               (4 + 5) / 9]\r"
     ]
    },
    {
     "name": "stdout",
     "output_type": "stream",
     "text": [
      "+---------------------+----------------------+------------+-----------------+------------------+--------------------+-----------+--------------------------+-------------------------+--------------+---------------+---------+-----------+---------------+----------------+--------------+---------------+---------------------------------+---------------------------------------+----------------+------------------+-----------------------+--------------------------+-------------------+-------------------+-------------------------------------------+-----------------+------------------+--------------+---------------+---------------+--------------------+-----------------+-------------------+-------------------+-------------+----------------------+----------------------------------+-------------+-----------------------+------------+-----------------------+-----------------+--------------------------------+-----------------+------------------------+-------------------------+---------------------------+--------------------------+-------------------+----------------------------+-------------------------+-------------+-------------+------------------+--------------------+---------------+--------------+-----------------+---------------------+\n",
      "|Location_Easting_OSGR|Location_Northing_OSGR|Police_Force|Accident_Severity|Number_of_Vehicles|Number_of_Casualties|Day_of_Week|Local_Authority_(District)|Local_Authority_(Highway)|1st_Road_Class|1st_Road_Number|Road_Type|Speed_limit|Junction_Detail|Junction_Control|2nd_Road_Class|2nd_Road_Number|Pedestrian_Crossing-Human_Control|Pedestrian_Crossing-Physical_Facilities|Light_Conditions|Weather_Conditions|Road_Surface_Conditions|Special_Conditions_at_Site|Carriageway_Hazards|Urban_or_Rural_Area|Did_Police_Officer_Attend_Scene_of_Accident|Vehicle_Reference|Casualty_Reference|Casualty_Class|Sex_of_Casualty|Age_of_Casualty|Age_Band_of_Casualty|Casualty_Severity|Pedestrian_Location|Pedestrian_Movement|Car_Passenger|Bus_or_Coach_Passenger|Pedestrian_Road_Maintenance_Worker|Casualty_Type|Casualty_Home_Area_Type|Vehicle_Type|Towing_and_Articulation|Vehicle_Manoeuvre|Vehicle_Location-Restricted_Lane|Junction_Location|Skidding_and_Overturning|Hit_Object_in_Carriageway|Vehicle_Leaving_Carriageway|Hit_Object_off_Carriageway|1st_Point_of_Impact|Was_Vehicle_Left_Hand_Drive?|Journey_Purpose_of_Driver|Sex_of_Driver|Age_of_Driver|Age_Band_of_Driver|Engine_Capacity_(CC)|Propulsion_Code|Age_of_Vehicle|Driver_IMD_Decile|Driver_Home_Area_Type|\n",
      "+---------------------+----------------------+------------+-----------------+------------------+--------------------+-----------+--------------------------+-------------------------+--------------+---------------+---------+-----------+---------------+----------------+--------------+---------------+---------------------------------+---------------------------------------+----------------+------------------+-----------------------+--------------------------+-------------------+-------------------+-------------------------------------------+-----------------+------------------+--------------+---------------+---------------+--------------------+-----------------+-------------------+-------------------+-------------+----------------------+----------------------------------+-------------+-----------------------+------------+-----------------------+-----------------+--------------------------------+-----------------+------------------------+-------------------------+---------------------------+--------------------------+-------------------+----------------------------+-------------------------+-------------+-------------+------------------+--------------------+---------------+--------------+-----------------+---------------------+\n",
      "|                    0|                     0|           0|                0|                 0|                   0|          0|                         0|                        0|             0|              0|        0|          0|              0|               0|             0|              0|                                0|                                      0|               0|                 0|                      0|                         0|                  0|                  0|                                          0|                0|                 0|             0|              0|              0|                   0|                0|                  0|                  0|            0|                     0|                                 0|            0|                      0|           0|                      0|                0|                               0|                0|                       0|                        0|                          0|                         0|                  0|                           0|                        0|            0|            0|                 0|                   0|              0|             0|                0|                    0|\n",
      "+---------------------+----------------------+------------+-----------------+------------------+--------------------+-----------+--------------------------+-------------------------+--------------+---------------+---------+-----------+---------------+----------------+--------------+---------------+---------------------------------+---------------------------------------+----------------+------------------+-----------------------+--------------------------+-------------------+-------------------+-------------------------------------------+-----------------+------------------+--------------+---------------+---------------+--------------------+-----------------+-------------------+-------------------+-------------+----------------------+----------------------------------+-------------+-----------------------+------------+-----------------------+-----------------+--------------------------------+-----------------+------------------------+-------------------------+---------------------------+--------------------------+-------------------+----------------------------+-------------------------+-------------+-------------+------------------+--------------------+---------------+--------------+-----------------+---------------------+\n",
      "\n"
     ]
    },
    {
     "name": "stderr",
     "output_type": "stream",
     "text": [
      "                                                                                \r"
     ]
    }
   ],
   "execution_count": 30
  },
  {
   "metadata": {},
   "cell_type": "markdown",
   "source": "## Nominálne na kvantitatívne pomocou One-hot encoding",
   "id": "2c6ac17437ca808a"
  },
  {
   "metadata": {},
   "cell_type": "code",
   "source": [
    "categorical_attributes = [x for x, y in df_train.dtypes if y == 'string']\n",
    "index_output_cols = [x + \"_SI\" for x in categorical_attributes]\n",
    "ohe_output_cols  = [x + \"_OHE\" for x in categorical_attributes]\n",
    "\n",
    "indexer = StringIndexer(inputCols=categorical_attributes , outputCols=index_output_cols, handleInvalid=\"skip\")\n",
    "df_train = indexer.fit(df_train).transform(df_train)\n",
    "\n",
    "ohe = OneHotEncoder(inputCols=index_output_cols ,outputCols =ohe_output_cols)\n",
    "df_train = ohe.fit(df_train).transform(df_train)"
   ],
   "id": "b257e302d7c9c455",
   "outputs": [],
   "execution_count": null
  },
  {
   "metadata": {
    "ExecuteTime": {
     "end_time": "2025-04-14T16:23:56.889282Z",
     "start_time": "2025-04-14T16:23:45.053669Z"
    }
   },
   "cell_type": "code",
   "source": [
    "df_train = df_train.drop(*index_output_cols)\n",
    "df_train = df_train.drop(*categorical_attributes)\n",
    "\n",
    "df_train.show(5)"
   ],
   "id": "70a175242034b65a",
   "outputs": [
    {
     "name": "stderr",
     "output_type": "stream",
     "text": [
      "[Stage 809:>                                                        (0 + 1) / 1]\r"
     ]
    },
    {
     "name": "stdout",
     "output_type": "stream",
     "text": [
      "+---------------------+----------------------+------------+-----------------+------------------+--------------------+-----------+--------------------------+--------------+---------------+---------+-----------+---------------+----------------+--------------+---------------+---------------------------------+---------------------------------------+----------------+------------------+-----------------------+--------------------------+-------------------+-------------------+-------------------------------------------+-----------------+------------------+--------------+---------------+---------------+--------------------+-----------------+-------------------+-------------------+-------------+----------------------+----------------------------------+-------------+-----------------------+------------+-----------------------+-----------------+--------------------------------+-----------------+------------------------+-------------------------+---------------------------+--------------------------+-------------------+----------------------------+-------------------------+-------------+-------------+------------------+--------------------+---------------+--------------+-----------------+---------------------+-----------------------------+\n",
      "|Location_Easting_OSGR|Location_Northing_OSGR|Police_Force|Accident_Severity|Number_of_Vehicles|Number_of_Casualties|Day_of_Week|Local_Authority_(District)|1st_Road_Class|1st_Road_Number|Road_Type|Speed_limit|Junction_Detail|Junction_Control|2nd_Road_Class|2nd_Road_Number|Pedestrian_Crossing-Human_Control|Pedestrian_Crossing-Physical_Facilities|Light_Conditions|Weather_Conditions|Road_Surface_Conditions|Special_Conditions_at_Site|Carriageway_Hazards|Urban_or_Rural_Area|Did_Police_Officer_Attend_Scene_of_Accident|Vehicle_Reference|Casualty_Reference|Casualty_Class|Sex_of_Casualty|Age_of_Casualty|Age_Band_of_Casualty|Casualty_Severity|Pedestrian_Location|Pedestrian_Movement|Car_Passenger|Bus_or_Coach_Passenger|Pedestrian_Road_Maintenance_Worker|Casualty_Type|Casualty_Home_Area_Type|Vehicle_Type|Towing_and_Articulation|Vehicle_Manoeuvre|Vehicle_Location-Restricted_Lane|Junction_Location|Skidding_and_Overturning|Hit_Object_in_Carriageway|Vehicle_Leaving_Carriageway|Hit_Object_off_Carriageway|1st_Point_of_Impact|Was_Vehicle_Left_Hand_Drive?|Journey_Purpose_of_Driver|Sex_of_Driver|Age_of_Driver|Age_Band_of_Driver|Engine_Capacity_(CC)|Propulsion_Code|Age_of_Vehicle|Driver_IMD_Decile|Driver_Home_Area_Type|Local_Authority_(Highway)_OHE|\n",
      "+---------------------+----------------------+------------+-----------------+------------------+--------------------+-----------+--------------------------+--------------+---------------+---------+-----------+---------------+----------------+--------------+---------------+---------------------------------+---------------------------------------+----------------+------------------+-----------------------+--------------------------+-------------------+-------------------+-------------------------------------------+-----------------+------------------+--------------+---------------+---------------+--------------------+-----------------+-------------------+-------------------+-------------+----------------------+----------------------------------+-------------+-----------------------+------------+-----------------------+-----------------+--------------------------------+-----------------+------------------------+-------------------------+---------------------------+--------------------------+-------------------+----------------------------+-------------------------+-------------+-------------+------------------+--------------------+---------------+--------------+-----------------+---------------------+-----------------------------+\n",
      "|               525590|                178860|           1|                3|                 3|                   1|          4|                        12|             3|              4|        3|         30|              3|               2|             5|              0|                                0|                                      5|               1|                 2|                      2|                         0|                  0|                  1|                                          1|                1|                 1|             1|              1|             37|                   7|                3|                  0|                  0|            0|                     0|                                -1|            5|                      1|           9|                      0|                6|                               0|                8|                       0|                        0|                          0|                         0|                  1|                           1|                       15|            2|           41|                 7|                1396|              1|            13|                3|                    1|            (206,[109],[1.0])|\n",
      "|               524940|                178540|           1|                3|                 2|                   1|          4|                        12|             3|              4|        3|         40|              0|              -1|            -1|              0|                                0|                                      0|               1|                 1|                      1|                         0|                  0|                  1|                                          1|                1|                 1|             1|              1|             34|                   6|                3|                  0|                  0|            0|                     0|                                -1|            3|                      1|           9|                      0|               12|                               0|                0|                       0|                        0|                          0|                         0|                  1|                           1|                       15|            1|           -1|                -1|                1998|              1|             4|               -1|                   -1|            (206,[109],[1.0])|\n",
      "|               527870|                178350|           1|                2|                 1|                   1|          5|                        12|             6|              0|        6|         30|              3|               4|             6|              0|                                0|                                      0|               1|                 1|                      1|                         0|                  0|                  1|                                          1|                1|                 1|             3|              2|             54|                   8|                2|                  6|                  9|            0|                     0|                                -1|            0|                      1|           8|                      0|               16|                               0|                1|                       0|                        0|                          0|                         0|                  4|                           1|                        1|            1|           42|                 7|                2664|              2|             5|                8|                    1|            (206,[109],[1.0])|\n",
      "|               527200|                178760|           1|                3|                 3|                   1|          5|                        12|             3|            308|        3|         30|              3|               2|             5|              0|                                0|                                      0|               1|                 1|                      1|                         0|                  0|                  1|                                          1|                1|                 1|             1|              1|             34|                   6|                3|                  0|                  0|            0|                     0|                                -1|            2|                      1|          19|                      0|               16|                               0|                1|                       0|                        0|                          0|                         0|                  1|                           1|                       15|            1|           58|                 9|                2494|              2|             3|                1|                    1|            (206,[109],[1.0])|\n",
      "|               525200|                179360|           1|                3|                 2|                   1|          4|                        12|             3|            315|        3|         30|              0|              -1|            -1|              0|                                0|                                      0|               4|                 1|                      1|                         0|                  0|                  1|                                          1|                2|                 1|             1|              1|             42|                   7|                3|                  0|                  0|            0|                     0|                                -1|            1|                     -1|           9|                      0|               13|                               0|                0|                       0|                        0|                          0|                         0|                  1|                           1|                       15|            3|           -1|                -1|                  -1|             -1|            -1|               -1|                   -1|            (206,[109],[1.0])|\n",
      "+---------------------+----------------------+------------+-----------------+------------------+--------------------+-----------+--------------------------+--------------+---------------+---------+-----------+---------------+----------------+--------------+---------------+---------------------------------+---------------------------------------+----------------+------------------+-----------------------+--------------------------+-------------------+-------------------+-------------------------------------------+-----------------+------------------+--------------+---------------+---------------+--------------------+-----------------+-------------------+-------------------+-------------+----------------------+----------------------------------+-------------+-----------------------+------------+-----------------------+-----------------+--------------------------------+-----------------+------------------------+-------------------------+---------------------------+--------------------------+-------------------+----------------------------+-------------------------+-------------+-------------+------------------+--------------------+---------------+--------------+-----------------+---------------------+-----------------------------+\n",
      "only showing top 5 rows\n",
      "\n"
     ]
    },
    {
     "name": "stderr",
     "output_type": "stream",
     "text": [
      "                                                                                \r"
     ]
    }
   ],
   "execution_count": 33
  },
  {
   "metadata": {},
   "cell_type": "markdown",
   "source": "# TOTO BY MALO BYT AKO POSLEDNE - PASS DO MODELU",
   "id": "e7112484caa7d5cc"
  },
  {
   "metadata": {},
   "cell_type": "code",
   "outputs": [],
   "execution_count": null,
   "source": [
    "assembler = VectorAssembler(inputCols=[\"color_ohe\", \"other_feature1\", \"other_feature2\"], outputCol=\"features\")\n",
    "df_model = assembler.transform(df_encoded)"
   ],
   "id": "43b8b744a2a27b07"
  },
  {
   "metadata": {},
   "cell_type": "markdown",
   "source": [
    "# TODO:\n",
    "- [ ] Informačný zisk - F\n",
    "- [x] Nahradiť chýbajúce hodnoty - M\n",
    "- [ ] Kvantitívne atribúty na nominálne (neviem prečo) - F\n",
    "- [ ] Normalizácia - StandardScaler - F\n",
    "- [x] One-hot encoding - M\n",
    "- [ ] Odstrániť irelevantné atribúty - J"
   ],
   "id": "73d4fc74edf03928"
  }
 ],
 "metadata": {
  "kernelspec": {
   "display_name": "Python 3",
   "language": "python",
   "name": "python3"
  },
  "language_info": {
   "codemirror_mode": {
    "name": "ipython",
    "version": 2
   },
   "file_extension": ".py",
   "mimetype": "text/x-python",
   "name": "python",
   "nbconvert_exporter": "python",
   "pygments_lexer": "ipython2",
   "version": "2.7.6"
  }
 },
 "nbformat": 4,
 "nbformat_minor": 5
}
