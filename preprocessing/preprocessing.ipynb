{
 "cells": [
  {
   "metadata": {},
   "cell_type": "markdown",
   "source": "# Predspracovanie dát",
   "id": "ecadab993fdae237"
  },
  {
   "cell_type": "code",
   "id": "initial_id",
   "metadata": {
    "collapsed": true,
    "ExecuteTime": {
     "end_time": "2025-04-10T09:11:48.263498Z",
     "start_time": "2025-04-10T09:11:48.252346Z"
    }
   },
   "source": [
    "import matplotlib.pyplot as plt\n",
    "import sys\n",
    "import os\n",
    "\n",
    "sys.path.append(os.path.dirname(os.path.dirname(os.path.abspath(\"__file__\"))))\n",
    "\n",
    "from integration.integration import integration\n",
    "from pyspark.sql import SparkSession\n",
    "from collections import Counter"
   ],
   "outputs": [],
   "execution_count": 64
  },
  {
   "metadata": {
    "ExecuteTime": {
     "end_time": "2025-04-10T09:11:48.291128Z",
     "start_time": "2025-04-10T09:11:48.269327Z"
    }
   },
   "cell_type": "code",
   "source": [
    "spark = SparkSession.builder.appName(\"preprocessing\").getOrCreate()\n",
    "spark.sparkContext.setLogLevel(\"ERROR\")"
   ],
   "id": "9942c5b24fa3aa2f",
   "outputs": [],
   "execution_count": 65
  },
  {
   "metadata": {
    "ExecuteTime": {
     "end_time": "2025-04-10T09:11:53.877515Z",
     "start_time": "2025-04-10T09:11:48.307881Z"
    }
   },
   "cell_type": "code",
   "source": [
    "df_train, df_test = integration()\n",
    "df_train = df_train.drop(\"Accident_Index\", \"Date\")\n",
    "df_test = df_test.drop(\"Accident_Index\",\"Date\")"
   ],
   "id": "56d34e2b63d29496",
   "outputs": [
    {
     "name": "stderr",
     "output_type": "stream",
     "text": [
      "                                                                                \r"
     ]
    }
   ],
   "execution_count": 66
  },
  {
   "metadata": {},
   "cell_type": "markdown",
   "source": "#### Zistenie, ktoré stĺpce sú kvantitatívne a kategorické",
   "id": "bc654fb2dc0db681"
  },
  {
   "metadata": {
    "ExecuteTime": {
     "end_time": "2025-04-10T09:11:53.926133Z",
     "start_time": "2025-04-10T09:11:53.923836Z"
    }
   },
   "cell_type": "code",
   "source": [
    "types = df_train.dtypes\n",
    "print(types)"
   ],
   "id": "f5da9e3607bcd637",
   "outputs": [
    {
     "name": "stdout",
     "output_type": "stream",
     "text": [
      "[('Location_Easting_OSGR', 'int'), ('Location_Northing_OSGR', 'int'), ('Longitude', 'double'), ('Latitude', 'double'), ('Police_Force', 'int'), ('Accident_Severity', 'int'), ('Number_of_Vehicles', 'int'), ('Number_of_Casualties', 'int'), ('Day_of_Week', 'int'), ('Time', 'timestamp'), ('Local_Authority_(District)', 'int'), ('Local_Authority_(Highway)', 'string'), ('1st_Road_Class', 'int'), ('1st_Road_Number', 'int'), ('Road_Type', 'int'), ('Speed_limit', 'int'), ('Junction_Detail', 'int'), ('Junction_Control', 'int'), ('2nd_Road_Class', 'int'), ('2nd_Road_Number', 'int'), ('Pedestrian_Crossing-Human_Control', 'int'), ('Pedestrian_Crossing-Physical_Facilities', 'int'), ('Light_Conditions', 'int'), ('Weather_Conditions', 'int'), ('Road_Surface_Conditions', 'int'), ('Special_Conditions_at_Site', 'int'), ('Carriageway_Hazards', 'int'), ('Urban_or_Rural_Area', 'int'), ('Did_Police_Officer_Attend_Scene_of_Accident', 'int'), ('LSOA_of_Accident_Location', 'string'), ('Vehicle_Reference', 'int'), ('Casualty_Reference', 'int'), ('Casualty_Class', 'int'), ('Sex_of_Casualty', 'int'), ('Age_of_Casualty', 'int'), ('Age_Band_of_Casualty', 'int'), ('Casualty_Severity', 'int'), ('Pedestrian_Location', 'int'), ('Pedestrian_Movement', 'int'), ('Car_Passenger', 'int'), ('Bus_or_Coach_Passenger', 'int'), ('Pedestrian_Road_Maintenance_Worker', 'int'), ('Casualty_Type', 'int'), ('Casualty_Home_Area_Type', 'int'), ('Vehicle_Type', 'int'), ('Towing_and_Articulation', 'int'), ('Vehicle_Manoeuvre', 'int'), ('Vehicle_Location-Restricted_Lane', 'int'), ('Junction_Location', 'int'), ('Skidding_and_Overturning', 'int'), ('Hit_Object_in_Carriageway', 'int'), ('Vehicle_Leaving_Carriageway', 'int'), ('Hit_Object_off_Carriageway', 'int'), ('1st_Point_of_Impact', 'int'), ('Was_Vehicle_Left_Hand_Drive?', 'int'), ('Journey_Purpose_of_Driver', 'int'), ('Sex_of_Driver', 'int'), ('Age_of_Driver', 'int'), ('Age_Band_of_Driver', 'int'), ('Engine_Capacity_(CC)', 'int'), ('Propulsion_Code', 'int'), ('Age_of_Vehicle', 'int'), ('Driver_IMD_Decile', 'int'), ('Driver_Home_Area_Type', 'int')]\n"
     ]
    }
   ],
   "execution_count": 67
  },
  {
   "metadata": {
    "ExecuteTime": {
     "end_time": "2025-04-10T09:11:53.953351Z",
     "start_time": "2025-04-10T09:11:53.948798Z"
    }
   },
   "cell_type": "code",
   "source": [
    "counts = Counter()\n",
    "\n",
    "for dtype in types:\n",
    "    counts[dtype[1]] += 1\n",
    "\n",
    "print(counts)"
   ],
   "id": "b70fc1d4c7b90c08",
   "outputs": [
    {
     "name": "stdout",
     "output_type": "stream",
     "text": [
      "Counter({'int': 59, 'double': 2, 'string': 2, 'timestamp': 1})\n"
     ]
    }
   ],
   "execution_count": 68
  },
  {
   "metadata": {},
   "cell_type": "markdown",
   "source": "#### Vypočítanie základných štatistík pre kvantitatívne stĺpce",
   "id": "dafe45440e848f14"
  },
  {
   "metadata": {
    "ExecuteTime": {
     "end_time": "2025-04-10T09:11:53.974220Z",
     "start_time": "2025-04-10T09:11:53.971653Z"
    }
   },
   "cell_type": "code",
   "source": [
    "def get_int(df):\n",
    "    int_columns = []\n",
    "\n",
    "    for column, data_type in df.dtypes:\n",
    "        if data_type == \"int\":\n",
    "            int_columns.append(column)\n",
    "    return int_columns"
   ],
   "id": "f7ad9ec3b9a4201c",
   "outputs": [],
   "execution_count": 69
  },
  {
   "metadata": {
    "ExecuteTime": {
     "end_time": "2025-04-10T09:14:43.062140Z",
     "start_time": "2025-04-10T09:11:54.020486Z"
    }
   },
   "cell_type": "code",
   "source": [
    "def show_stats(df, columns, batch_size=4):\n",
    "    for i in range(0, len(columns), batch_size):\n",
    "        df.describe(columns[i:i+batch_size]).show()\n",
    "\n",
    "show_stats(df_train, get_int(df_train))"
   ],
   "id": "6692c2640ac8733e",
   "outputs": [
    {
     "name": "stderr",
     "output_type": "stream",
     "text": [
      "[Stage 930:>                                                        (0 + 8) / 9]\r"
     ]
    },
    {
     "name": "stdout",
     "output_type": "stream",
     "text": [
      "[4464.958s][warning][gc,alloc] Executor task launch worker for task 2.0 in stage 930.0 (TID 2364): Retried waiting for GCLocker too often allocating 1048578 words\n"
     ]
    },
    {
     "name": "stderr",
     "output_type": "stream",
     "text": [
      "                                                                                \r"
     ]
    },
    {
     "name": "stdout",
     "output_type": "stream",
     "text": [
      "+-------+---------------------+----------------------+------------------+------------------+\n",
      "|summary|Location_Easting_OSGR|Location_Northing_OSGR|      Police_Force| Accident_Severity|\n",
      "+-------+---------------------+----------------------+------------------+------------------+\n",
      "|  count|               300276|                300276|            300293|            300293|\n",
      "|   mean|      438255.11356885|    300105.18741757586| 30.78688480916971|2.8231294102759636|\n",
      "| stddev|    94748.83907367043|    157397.67714086492|24.743146328252084|0.4288013609691326|\n",
      "|    min|                65860|                 10560|                 1|                 1|\n",
      "|    max|               655370|               1191500|                98|                 3|\n",
      "+-------+---------------------+----------------------+------------------+------------------+\n",
      "\n"
     ]
    },
    {
     "name": "stderr",
     "output_type": "stream",
     "text": [
      "                                                                                \r"
     ]
    },
    {
     "name": "stdout",
     "output_type": "stream",
     "text": [
      "+-------+------------------+--------------------+------------------+--------------------------+\n",
      "|summary|Number_of_Vehicles|Number_of_Casualties|       Day_of_Week|Local_Authority_(District)|\n",
      "+-------+------------------+--------------------+------------------+--------------------------+\n",
      "|  count|            300293|              300293|            300293|                    300293|\n",
      "|   mean|2.3571978034786025|   2.121068423173367| 4.110751832377045|          355.383961664108|\n",
      "| stddev|  2.50916130396624|  3.2845832805738686|1.9431281459177299|        252.13048697950327|\n",
      "|    min|                 1|                   1|                 1|                         1|\n",
      "|    max|                67|                  93|                 7|                       941|\n",
      "+-------+------------------+--------------------+------------------+--------------------------+\n",
      "\n"
     ]
    },
    {
     "name": "stderr",
     "output_type": "stream",
     "text": [
      "                                                                                \r"
     ]
    },
    {
     "name": "stdout",
     "output_type": "stream",
     "text": [
      "+-------+------------------+------------------+------------------+------------------+\n",
      "|summary|    1st_Road_Class|   1st_Road_Number|         Road_Type|       Speed_limit|\n",
      "+-------+------------------+------------------+------------------+------------------+\n",
      "|  count|            300293|            300293|            300293|            300293|\n",
      "|   mean| 3.912422200983706| 998.2143373305405|5.0935453040863425| 41.09957608069452|\n",
      "| stddev|1.4508332728073978|1808.0544016265796| 1.647924197132397|15.104004572455908|\n",
      "|    min|                 1|                -1|                 1|                10|\n",
      "|    max|                 6|              9999|                 9|                70|\n",
      "+-------+------------------+------------------+------------------+------------------+\n",
      "\n"
     ]
    },
    {
     "name": "stderr",
     "output_type": "stream",
     "text": [
      "                                                                                \r"
     ]
    },
    {
     "name": "stdout",
     "output_type": "stream",
     "text": [
      "+-------+------------------+------------------+-----------------+------------------+\n",
      "|summary|   Junction_Detail|  Junction_Control|   2nd_Road_Class|   2nd_Road_Number|\n",
      "+-------+------------------+------------------+-----------------+------------------+\n",
      "|  count|            300293|            300293|           300293|            300293|\n",
      "|   mean|2.3728924750160676|1.7908076445338386|2.622718478286207| 386.6823202672057|\n",
      "| stddev|2.6134518815478947| 2.303394959580854|3.211294477117478|1312.3022275267308|\n",
      "|    min|                -1|                -1|               -1|                -1|\n",
      "|    max|                 9|                 4|                6|              9999|\n",
      "+-------+------------------+------------------+-----------------+------------------+\n",
      "\n"
     ]
    },
    {
     "name": "stderr",
     "output_type": "stream",
     "text": [
      "                                                                                \r"
     ]
    },
    {
     "name": "stdout",
     "output_type": "stream",
     "text": [
      "+-------+---------------------------------+---------------------------------------+------------------+------------------+\n",
      "|summary|Pedestrian_Crossing-Human_Control|Pedestrian_Crossing-Physical_Facilities|  Light_Conditions|Weather_Conditions|\n",
      "+-------+---------------------------------+---------------------------------------+------------------+------------------+\n",
      "|  count|                           300293|                                 300293|            300293|            300293|\n",
      "|   mean|             0.008082106476008431|                     0.6646475275813956| 1.929049295188366|1.5706992836995868|\n",
      "| stddev|              0.11848045890628368|                     1.7475343894531297|1.6382984972923809|1.6184739593558908|\n",
      "|    min|                               -1|                                     -1|                 1|                -1|\n",
      "|    max|                                2|                                      8|                 7|                 9|\n",
      "+-------+---------------------------------+---------------------------------------+------------------+------------------+\n",
      "\n"
     ]
    },
    {
     "name": "stderr",
     "output_type": "stream",
     "text": [
      "                                                                                \r"
     ]
    },
    {
     "name": "stdout",
     "output_type": "stream",
     "text": [
      "+-------+-----------------------+--------------------------+-------------------+-------------------+\n",
      "|summary|Road_Surface_Conditions|Special_Conditions_at_Site|Carriageway_Hazards|Urban_or_Rural_Area|\n",
      "+-------+-----------------------+--------------------------+-------------------+-------------------+\n",
      "|  count|                 300293|                    300293|             300293|             300293|\n",
      "|   mean|      1.365789412340614|       0.11289640451159368|0.06527957694651557| 1.4051343188152905|\n",
      "| stddev|     0.6173517091471808|        0.7279191007221121| 0.5655496715446241|0.49106126802370986|\n",
      "|    min|                     -1|                        -1|                 -1|                  1|\n",
      "|    max|                      5|                         7|                  7|                  3|\n",
      "+-------+-----------------------+--------------------------+-------------------+-------------------+\n",
      "\n"
     ]
    },
    {
     "name": "stderr",
     "output_type": "stream",
     "text": [
      "                                                                                \r"
     ]
    },
    {
     "name": "stdout",
     "output_type": "stream",
     "text": [
      "+-------+-------------------------------------------+------------------+------------------+------------------+\n",
      "|summary|Did_Police_Officer_Attend_Scene_of_Accident| Vehicle_Reference|Casualty_Reference|    Casualty_Class|\n",
      "+-------+-------------------------------------------+------------------+------------------+------------------+\n",
      "|  count|                                     300293|            300293|            300293|            300293|\n",
      "|   mean|                          1.157509499055922|1.6716573479901295|1.5706226918376385|1.3944880500044956|\n",
      "| stddev|                        0.37032828875674423|1.5156538287134875|2.5217511273374944|0.6141498732417594|\n",
      "|    min|                                         -1|                 1|                 1|                 1|\n",
      "|    max|                                          3|                67|               852|                 3|\n",
      "+-------+-------------------------------------------+------------------+------------------+------------------+\n",
      "\n"
     ]
    },
    {
     "name": "stderr",
     "output_type": "stream",
     "text": [
      "[Stage 1049:>                                                       (0 + 8) / 9]\r"
     ]
    },
    {
     "name": "stdout",
     "output_type": "stream",
     "text": [
      "[4538.883s][warning][gc,alloc] Executor task launch worker for task 0.0 in stage 1049.0 (TID 2663): Retried waiting for GCLocker too often allocating 1048578 words\n"
     ]
    },
    {
     "name": "stderr",
     "output_type": "stream",
     "text": [
      "                                                                                \r"
     ]
    },
    {
     "name": "stdout",
     "output_type": "stream",
     "text": [
      "+-------+------------------+------------------+--------------------+-------------------+\n",
      "|summary|   Sex_of_Casualty|   Age_of_Casualty|Age_Band_of_Casualty|  Casualty_Severity|\n",
      "+-------+------------------+------------------+--------------------+-------------------+\n",
      "|  count|            300293|            300293|              300293|             300293|\n",
      "|   mean|1.4207823692193957|  34.8913860795956|   6.103878545287436| 2.8804567539036876|\n",
      "| stddev|0.4952815787281858|18.442104992588508|  2.3495684957032936|0.35354461464633363|\n",
      "|    min|                -1|                -1|                  -1|                  1|\n",
      "|    max|                 2|                99|                  11|                  3|\n",
      "+-------+------------------+------------------+--------------------+-------------------+\n",
      "\n"
     ]
    },
    {
     "name": "stderr",
     "output_type": "stream",
     "text": [
      "[Stage 1066:>                                                       (0 + 8) / 9]\r"
     ]
    },
    {
     "name": "stdout",
     "output_type": "stream",
     "text": [
      "[4553.054s][warning][gc,alloc] Executor task launch worker for task 5.0 in stage 1066.0 (TID 2711): Retried waiting for GCLocker too often allocating 1048578 words\n"
     ]
    },
    {
     "name": "stderr",
     "output_type": "stream",
     "text": [
      "                                                                                \r"
     ]
    },
    {
     "name": "stdout",
     "output_type": "stream",
     "text": [
      "+-------+-------------------+-------------------+------------------+----------------------+\n",
      "|summary|Pedestrian_Location|Pedestrian_Movement|     Car_Passenger|Bus_or_Coach_Passenger|\n",
      "+-------+-------------------+-------------------+------------------+----------------------+\n",
      "|  count|             300293|             300293|            300293|                300293|\n",
      "|   mean|0.37798083871418914|  0.273689363388424|0.3035934903577506|   0.07436736787071294|\n",
      "| stddev| 1.5273365922834832|  1.295624853514024|0.6078305973386469|     0.520935014949368|\n",
      "|    min|                  0|                  0|                -1|                    -1|\n",
      "|    max|                 10|                  9|                 2|                     4|\n",
      "+-------+-------------------+-------------------+------------------+----------------------+\n",
      "\n"
     ]
    },
    {
     "name": "stderr",
     "output_type": "stream",
     "text": [
      "                                                                                \r"
     ]
    },
    {
     "name": "stdout",
     "output_type": "stream",
     "text": [
      "+-------+----------------------------------+------------------+-----------------------+-----------------+\n",
      "|summary|Pedestrian_Road_Maintenance_Worker|     Casualty_Type|Casualty_Home_Area_Type|     Vehicle_Type|\n",
      "+-------+----------------------------------+------------------+-----------------------+-----------------+\n",
      "|  count|                            300293|            300293|                 300293|           300293|\n",
      "|   mean|               -0.6360055012937365| 8.035475352405816|     0.9993106732424665|9.805713086885142|\n",
      "| stddev|                0.5203189010768202|6.9968859284121985|     1.0257836119441408|7.936216673449729|\n",
      "|    min|                                -1|                 0|                     -1|               -1|\n",
      "|    max|                                 2|                98|                      3|               98|\n",
      "+-------+----------------------------------+------------------+-----------------------+-----------------+\n",
      "\n"
     ]
    },
    {
     "name": "stderr",
     "output_type": "stream",
     "text": [
      "                                                                                \r"
     ]
    },
    {
     "name": "stdout",
     "output_type": "stream",
     "text": [
      "+-------+-----------------------+------------------+--------------------------------+------------------+\n",
      "|summary|Towing_and_Articulation| Vehicle_Manoeuvre|Vehicle_Location-Restricted_Lane| Junction_Location|\n",
      "+-------+-----------------------+------------------+--------------------------------+------------------+\n",
      "|  count|                 300293|            300293|                          300293|            300293|\n",
      "|   mean|    0.03222519339445142|12.737359845217837|             0.11157103229179502| 2.440692923244964|\n",
      "| stddev|     0.3111638609190019| 6.179778704640832|               0.901296699387277|3.1379408281044543|\n",
      "|    min|                     -1|                -1|                              -1|                -1|\n",
      "|    max|                      5|                18|                               9|                 8|\n",
      "+-------+-----------------------+------------------+--------------------------------+------------------+\n",
      "\n"
     ]
    },
    {
     "name": "stderr",
     "output_type": "stream",
     "text": [
      "[Stage 1117:>                                                       (0 + 8) / 9]\r"
     ]
    },
    {
     "name": "stdout",
     "output_type": "stream",
     "text": [
      "[4582.482s][warning][gc,alloc] Executor task launch worker for task 0.0 in stage 1117.0 (TID 2835): Retried waiting for GCLocker too often allocating 1048578 words\n",
      "[4582.523s][warning][gc,alloc] Executor task launch worker for task 2.0 in stage 1117.0 (TID 2837): Retried waiting for GCLocker too often allocating 1048578 words\n"
     ]
    },
    {
     "name": "stderr",
     "output_type": "stream",
     "text": [
      "                                                                                \r"
     ]
    },
    {
     "name": "stdout",
     "output_type": "stream",
     "text": [
      "+-------+------------------------+-------------------------+---------------------------+--------------------------+\n",
      "|summary|Skidding_and_Overturning|Hit_Object_in_Carriageway|Vehicle_Leaving_Carriageway|Hit_Object_off_Carriageway|\n",
      "+-------+------------------------+-------------------------+---------------------------+--------------------------+\n",
      "|  count|                  300293|                   300293|                     300293|                    300293|\n",
      "|   mean|      0.2268517747666446|       0.3010626288325069|        0.40768516082625966|        0.6090618162927541|\n",
      "| stddev|       0.723789640107202|       1.5939520605809545|         1.4497338141550096|         2.167374561797518|\n",
      "|    min|                      -1|                       -1|                         -1|                        -1|\n",
      "|    max|                       5|                       12|                          8|                        11|\n",
      "+-------+------------------------+-------------------------+---------------------------+--------------------------+\n",
      "\n"
     ]
    },
    {
     "name": "stderr",
     "output_type": "stream",
     "text": [
      "[Stage 1134:>                                                       (0 + 8) / 9]\r"
     ]
    },
    {
     "name": "stdout",
     "output_type": "stream",
     "text": [
      "[4597.985s][warning][gc,alloc] Executor task launch worker for task 1.0 in stage 1134.0 (TID 2879): Retried waiting for GCLocker too often allocating 1048578 words\n"
     ]
    },
    {
     "name": "stderr",
     "output_type": "stream",
     "text": [
      "                                                                                \r"
     ]
    },
    {
     "name": "stdout",
     "output_type": "stream",
     "text": [
      "+-------+-------------------+----------------------------+-------------------------+------------------+\n",
      "|summary|1st_Point_of_Impact|Was_Vehicle_Left_Hand_Drive?|Journey_Purpose_of_Driver|     Sex_of_Driver|\n",
      "+-------+-------------------+----------------------------+-------------------------+------------------+\n",
      "|  count|             300293|                      300293|                   300293|            300293|\n",
      "|   mean| 1.7344160536542643|          0.9889507913937388|        8.837645233155618|1.3894696180064137|\n",
      "| stddev| 1.1190713499544918|         0.18852904383972255|        5.980739624197323|0.5807067891130099|\n",
      "|    min|                 -1|                          -1|                       -1|                -1|\n",
      "|    max|                  4|                           2|                       15|                 3|\n",
      "+-------+-------------------+----------------------------+-------------------------+------------------+\n",
      "\n"
     ]
    },
    {
     "name": "stderr",
     "output_type": "stream",
     "text": [
      "                                                                                \r"
     ]
    },
    {
     "name": "stdout",
     "output_type": "stream",
     "text": [
      "+-------+------------------+------------------+--------------------+------------------+\n",
      "|summary|     Age_of_Driver|Age_Band_of_Driver|Engine_Capacity_(CC)|   Propulsion_Code|\n",
      "+-------+------------------+------------------+--------------------+------------------+\n",
      "|  count|            300293|            300293|              300293|            300293|\n",
      "|   mean| 34.95248973502546| 5.968504094334533|    1467.86069272344|0.8100921433400046|\n",
      "| stddev|19.064810411524313| 2.815962035850567|  1678.0161198258568|1.1314741218330875|\n",
      "|    min|                -1|                -1|                  -1|                -1|\n",
      "|    max|                99|                11|               99999|                12|\n",
      "+-------+------------------+------------------+--------------------+------------------+\n",
      "\n"
     ]
    },
    {
     "name": "stderr",
     "output_type": "stream",
     "text": [
      "[Stage 1168:>                                                       (0 + 8) / 9]\r"
     ]
    },
    {
     "name": "stdout",
     "output_type": "stream",
     "text": [
      "+-------+-----------------+------------------+---------------------+\n",
      "|summary|   Age_of_Vehicle| Driver_IMD_Decile|Driver_Home_Area_Type|\n",
      "+-------+-----------------+------------------+---------------------+\n",
      "|  count|           300293|            300293|               300293|\n",
      "|   mean|5.011478789049362| 3.630224480757127|   0.9206941220741076|\n",
      "| stddev|5.294180187151661|3.7267864561304447|   1.1077424779630716|\n",
      "|    min|               -1|                -1|                   -1|\n",
      "|    max|              110|                10|                    3|\n",
      "+-------+-----------------+------------------+---------------------+\n",
      "\n"
     ]
    },
    {
     "name": "stderr",
     "output_type": "stream",
     "text": [
      "                                                                                \r"
     ]
    }
   ],
   "execution_count": 70
  },
  {
   "metadata": {
    "ExecuteTime": {
     "end_time": "2025-04-10T09:16:47.271826Z",
     "start_time": "2025-04-10T09:16:47.261376Z"
    }
   },
   "cell_type": "code",
   "source": [
    "def get_categorical(df):\n",
    "    categorical_columns = []\n",
    "\n",
    "    for column, data_type in df.dtypes:\n",
    "        if data_type == \"string\":\n",
    "            categorical_columns.append(column)\n",
    "    return categorical_columns"
   ],
   "id": "6a01f05b131069b0",
   "outputs": [],
   "execution_count": 74
  },
  {
   "metadata": {
    "ExecuteTime": {
     "end_time": "2025-04-10T09:18:49.565105Z",
     "start_time": "2025-04-10T09:18:49.549719Z"
    }
   },
   "cell_type": "code",
   "source": [
    "def histogram(df, col, bins=10, xname=None, yname=None):\n",
    "\n",
    "\n",
    "    # Calculating histogram in Spark\n",
    "    vals = df.select(col).rdd.flatMap(lambda x: x).histogram(bins)\n",
    "\n",
    "    # Preprocessing histogram points and locations\n",
    "    width = vals[0][1] - vals[0][0]\n",
    "    loc = [vals[0][0] + (i+1) * width for i in range(len(vals[1]))]\n",
    "\n",
    "    # Making a bar plot\n",
    "    plt.bar(loc, vals[1], width=width)\n",
    "    plt.xlabel(col)\n",
    "    plt.ylabel(yname)\n",
    "    plt.show()"
   ],
   "id": "1750060bd49d5b7d",
   "outputs": [],
   "execution_count": 75
  },
  {
   "metadata": {
    "ExecuteTime": {
     "end_time": "2025-04-10T09:19:05.282748Z",
     "start_time": "2025-04-10T09:18:51.165909Z"
    }
   },
   "cell_type": "code",
   "source": "histogram(df_train, 'LSOA_of_Accident_Location', bins=15, yname='Number of countries')",
   "id": "503c3adac898457d",
   "outputs": [
    {
     "name": "stderr",
     "output_type": "stream",
     "text": [
      "                                                                                \r"
     ]
    },
    {
     "ename": "TypeError",
     "evalue": "Can not generate buckets with non-number in RDD",
     "output_type": "error",
     "traceback": [
      "\u001B[31m---------------------------------------------------------------------------\u001B[39m",
      "\u001B[31mTypeError\u001B[39m                                 Traceback (most recent call last)",
      "\u001B[36mFile \u001B[39m\u001B[32m~/miniconda3/envs/tsvd/lib/python3.13/site-packages/pyspark/rdd.py:2432\u001B[39m, in \u001B[36mRDD.histogram\u001B[39m\u001B[34m(self, buckets)\u001B[39m\n\u001B[32m   2431\u001B[39m \u001B[38;5;28;01mtry\u001B[39;00m:\n\u001B[32m-> \u001B[39m\u001B[32m2432\u001B[39m     inc = (\u001B[43mmaxv\u001B[49m\u001B[43m \u001B[49m\u001B[43m-\u001B[49m\u001B[43m \u001B[49m\u001B[43mminv\u001B[49m) / buckets  \u001B[38;5;66;03m# type: ignore[operator]\u001B[39;00m\n\u001B[32m   2433\u001B[39m \u001B[38;5;28;01mexcept\u001B[39;00m \u001B[38;5;167;01mTypeError\u001B[39;00m:\n",
      "\u001B[31mTypeError\u001B[39m: unsupported operand type(s) for -: 'str' and 'str'",
      "\nDuring handling of the above exception, another exception occurred:\n",
      "\u001B[31mTypeError\u001B[39m                                 Traceback (most recent call last)",
      "\u001B[36mCell\u001B[39m\u001B[36m \u001B[39m\u001B[32mIn[76]\u001B[39m\u001B[32m, line 1\u001B[39m\n\u001B[32m----> \u001B[39m\u001B[32m1\u001B[39m \u001B[43mhistogram\u001B[49m\u001B[43m(\u001B[49m\u001B[43mdf_train\u001B[49m\u001B[43m,\u001B[49m\u001B[43m \u001B[49m\u001B[33;43m'\u001B[39;49m\u001B[33;43mLSOA_of_Accident_Location\u001B[39;49m\u001B[33;43m'\u001B[39;49m\u001B[43m,\u001B[49m\u001B[43m \u001B[49m\u001B[43mbins\u001B[49m\u001B[43m=\u001B[49m\u001B[32;43m15\u001B[39;49m\u001B[43m,\u001B[49m\u001B[43m \u001B[49m\u001B[43myname\u001B[49m\u001B[43m=\u001B[49m\u001B[33;43m'\u001B[39;49m\u001B[33;43mNumber of countries\u001B[39;49m\u001B[33;43m'\u001B[39;49m\u001B[43m)\u001B[49m\n",
      "\u001B[36mCell\u001B[39m\u001B[36m \u001B[39m\u001B[32mIn[75]\u001B[39m\u001B[32m, line 5\u001B[39m, in \u001B[36mhistogram\u001B[39m\u001B[34m(df, col, bins, xname, yname)\u001B[39m\n\u001B[32m      1\u001B[39m \u001B[38;5;28;01mdef\u001B[39;00m\u001B[38;5;250m \u001B[39m\u001B[34mhistogram\u001B[39m(df, col, bins=\u001B[32m10\u001B[39m, xname=\u001B[38;5;28;01mNone\u001B[39;00m, yname=\u001B[38;5;28;01mNone\u001B[39;00m):\n\u001B[32m      2\u001B[39m \n\u001B[32m      3\u001B[39m \n\u001B[32m      4\u001B[39m     \u001B[38;5;66;03m# Calculating histogram in Spark\u001B[39;00m\n\u001B[32m----> \u001B[39m\u001B[32m5\u001B[39m     vals = \u001B[43mdf\u001B[49m\u001B[43m.\u001B[49m\u001B[43mselect\u001B[49m\u001B[43m(\u001B[49m\u001B[43mcol\u001B[49m\u001B[43m)\u001B[49m\u001B[43m.\u001B[49m\u001B[43mrdd\u001B[49m\u001B[43m.\u001B[49m\u001B[43mflatMap\u001B[49m\u001B[43m(\u001B[49m\u001B[38;5;28;43;01mlambda\u001B[39;49;00m\u001B[43m \u001B[49m\u001B[43mx\u001B[49m\u001B[43m:\u001B[49m\u001B[43m \u001B[49m\u001B[43mx\u001B[49m\u001B[43m)\u001B[49m\u001B[43m.\u001B[49m\u001B[43mhistogram\u001B[49m\u001B[43m(\u001B[49m\u001B[43mbins\u001B[49m\u001B[43m)\u001B[49m\n\u001B[32m      7\u001B[39m     \u001B[38;5;66;03m# Preprocessing histogram points and locations\u001B[39;00m\n\u001B[32m      8\u001B[39m     width = vals[\u001B[32m0\u001B[39m][\u001B[32m1\u001B[39m] - vals[\u001B[32m0\u001B[39m][\u001B[32m0\u001B[39m]\n",
      "\u001B[36mFile \u001B[39m\u001B[32m~/miniconda3/envs/tsvd/lib/python3.13/site-packages/pyspark/rdd.py:2434\u001B[39m, in \u001B[36mRDD.histogram\u001B[39m\u001B[34m(self, buckets)\u001B[39m\n\u001B[32m   2432\u001B[39m     inc = (maxv - minv) / buckets  \u001B[38;5;66;03m# type: ignore[operator]\u001B[39;00m\n\u001B[32m   2433\u001B[39m \u001B[38;5;28;01mexcept\u001B[39;00m \u001B[38;5;167;01mTypeError\u001B[39;00m:\n\u001B[32m-> \u001B[39m\u001B[32m2434\u001B[39m     \u001B[38;5;28;01mraise\u001B[39;00m \u001B[38;5;167;01mTypeError\u001B[39;00m(\u001B[33m\"\u001B[39m\u001B[33mCan not generate buckets with non-number in RDD\u001B[39m\u001B[33m\"\u001B[39m)\n\u001B[32m   2436\u001B[39m \u001B[38;5;28;01mif\u001B[39;00m isinf(inc):\n\u001B[32m   2437\u001B[39m     \u001B[38;5;28;01mraise\u001B[39;00m \u001B[38;5;167;01mValueError\u001B[39;00m(\u001B[33m\"\u001B[39m\u001B[33mCan not generate buckets with infinite value\u001B[39m\u001B[33m\"\u001B[39m)\n",
      "\u001B[31mTypeError\u001B[39m: Can not generate buckets with non-number in RDD"
     ]
    }
   ],
   "execution_count": 76
  }
 ],
 "metadata": {
  "kernelspec": {
   "display_name": "Python 3",
   "language": "python",
   "name": "python3"
  },
  "language_info": {
   "codemirror_mode": {
    "name": "ipython",
    "version": 2
   },
   "file_extension": ".py",
   "mimetype": "text/x-python",
   "name": "python",
   "nbconvert_exporter": "python",
   "pygments_lexer": "ipython2",
   "version": "2.7.6"
  }
 },
 "nbformat": 4,
 "nbformat_minor": 5
}
