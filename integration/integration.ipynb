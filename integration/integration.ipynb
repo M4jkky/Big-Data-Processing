{
 "cells": [
  {
   "metadata": {},
   "cell_type": "markdown",
   "source": "# Integrácia dát",
   "id": "f445490ded143646"
  },
  {
   "cell_type": "code",
   "id": "initial_id",
   "metadata": {
    "collapsed": true,
    "ExecuteTime": {
     "end_time": "2025-04-08T18:32:29.353377Z",
     "start_time": "2025-04-08T18:32:29.345469Z"
    }
   },
   "source": "from pyspark.sql import SparkSession",
   "outputs": [],
   "execution_count": 8
  },
  {
   "metadata": {},
   "cell_type": "markdown",
   "source": "#### Vytvorenie SparkSession",
   "id": "df700fcf991ab318"
  },
  {
   "metadata": {
    "ExecuteTime": {
     "end_time": "2025-04-08T18:32:29.388818Z",
     "start_time": "2025-04-08T18:32:29.370800Z"
    }
   },
   "cell_type": "code",
   "source": [
    "spark = SparkSession.builder.appName(\"car_accidents\").getOrCreate()\n",
    "sc = spark.sparkContext\n",
    "spark.sparkContext.setLogLevel(\"ERROR\")"
   ],
   "id": "defaaf4230daa807",
   "outputs": [],
   "execution_count": 9
  },
  {
   "metadata": {},
   "cell_type": "markdown",
   "source": "#### Načítanie dát",
   "id": "7cb1f454ff39c2a5"
  },
  {
   "metadata": {
    "ExecuteTime": {
     "end_time": "2025-04-08T18:32:33.998051Z",
     "start_time": "2025-04-08T18:32:29.392748Z"
    }
   },
   "cell_type": "code",
   "source": [
    "df_accidents = spark.read.csv(\"/Users/m4/Desktop/school/4/TSVD/assignment/Big-Data-Processing/data.tmp/CarAccidents/Accidents.csv\", header=True, inferSchema=True)\n",
    "df_casualties = spark.read.csv(\"/Users/m4/Desktop/school/4/TSVD/assignment/Big-Data-Processing/data.tmp/CarAccidents/Casualties.csv\", header=True, inferSchema=True)\n",
    "df_vehicles = spark.read.csv(\"/Users/m4/Desktop/school/4/TSVD/assignment/Big-Data-Processing/data.tmp/CarAccidents/Vehicles.csv\", header=True, inferSchema=True)\n",
    "\n",
    "df_weather = spark.read.csv(\"/Users/m4/Desktop/school/4/TSVD/assignment/Big-Data-Processing/data.tmp/AirTraffic/airport_weather_2019.csv\", header=True, inferSchema=True)\n",
    "\n",
    "df_accidents.show(5)"
   ],
   "id": "fc02d09ac01195a6",
   "outputs": [
    {
     "name": "stderr",
     "output_type": "stream",
     "text": [
      "                                                                                \r"
     ]
    },
    {
     "name": "stdout",
     "output_type": "stream",
     "text": [
      "+--------------+---------------------+----------------------+---------+---------+------------+-----------------+------------------+--------------------+----------+-----------+-------------------+--------------------------+-------------------------+--------------+---------------+---------+-----------+---------------+----------------+--------------+---------------+---------------------------------+---------------------------------------+----------------+------------------+-----------------------+--------------------------+-------------------+-------------------+-------------------------------------------+-------------------------+\n",
      "|Accident_Index|Location_Easting_OSGR|Location_Northing_OSGR|Longitude| Latitude|Police_Force|Accident_Severity|Number_of_Vehicles|Number_of_Casualties|      Date|Day_of_Week|               Time|Local_Authority_(District)|Local_Authority_(Highway)|1st_Road_Class|1st_Road_Number|Road_Type|Speed_limit|Junction_Detail|Junction_Control|2nd_Road_Class|2nd_Road_Number|Pedestrian_Crossing-Human_Control|Pedestrian_Crossing-Physical_Facilities|Light_Conditions|Weather_Conditions|Road_Surface_Conditions|Special_Conditions_at_Site|Carriageway_Hazards|Urban_or_Rural_Area|Did_Police_Officer_Attend_Scene_of_Accident|LSOA_of_Accident_Location|\n",
      "+--------------+---------------------+----------------------+---------+---------+------------+-----------------+------------------+--------------------+----------+-----------+-------------------+--------------------------+-------------------------+--------------+---------------+---------+-----------+---------------+----------------+--------------+---------------+---------------------------------+---------------------------------------+----------------+------------------+-----------------------+--------------------------+-------------------+-------------------+-------------------------------------------+-------------------------+\n",
      "| 200501BS00001|               525680|                178240| -0.19117|51.489096|           1|                2|                 1|                   1|04/01/2005|          3|2025-04-08 17:42:00|                        12|                E09000020|             3|           3218|        6|         30|              0|              -1|            -1|              0|                                0|                                      1|               1|                 2|                      2|                         0|                  0|                  1|                                          1|                E01002849|\n",
      "| 200501BS00002|               524170|                181650|-0.211708|51.520075|           1|                3|                 1|                   1|05/01/2005|          4|2025-04-08 17:36:00|                        12|                E09000020|             4|            450|        3|         30|              6|               2|             5|              0|                                0|                                      5|               4|                 1|                      1|                         0|                  0|                  1|                                          1|                E01002909|\n",
      "| 200501BS00003|               524520|                182240|-0.206458|51.525301|           1|                3|                 2|                   1|06/01/2005|          5|2025-04-08 00:15:00|                        12|                E09000020|             5|              0|        6|         30|              0|              -1|            -1|              0|                                0|                                      0|               4|                 1|                      1|                         0|                  0|                  1|                                          1|                E01002857|\n",
      "| 200501BS00004|               526900|                177530|-0.173862|51.482442|           1|                3|                 1|                   1|07/01/2005|          6|2025-04-08 10:35:00|                        12|                E09000020|             3|           3220|        6|         30|              0|              -1|            -1|              0|                                0|                                      0|               1|                 1|                      1|                         0|                  0|                  1|                                          1|                E01002840|\n",
      "| 200501BS00005|               528060|                179040|-0.156618|51.495752|           1|                3|                 1|                   1|10/01/2005|          2|2025-04-08 21:13:00|                        12|                E09000020|             6|              0|        6|         30|              0|              -1|            -1|              0|                                0|                                      0|               7|                 1|                      2|                         0|                  0|                  1|                                          1|                E01002863|\n",
      "+--------------+---------------------+----------------------+---------+---------+------------+-----------------+------------------+--------------------+----------+-----------+-------------------+--------------------------+-------------------------+--------------+---------------+---------+-----------+---------------+----------------+--------------+---------------+---------------------------------+---------------------------------------+----------------+------------------+-----------------------+--------------------------+-------------------+-------------------+-------------------------------------------+-------------------------+\n",
      "only showing top 5 rows\n",
      "\n"
     ]
    }
   ],
   "execution_count": 10
  },
  {
   "metadata": {},
   "cell_type": "markdown",
   "source": "#### Spojenie dát podľa Accident_Index",
   "id": "c3177b6b20c2053e"
  },
  {
   "metadata": {
    "ExecuteTime": {
     "end_time": "2025-04-08T18:32:41.438689Z",
     "start_time": "2025-04-08T18:32:34.041364Z"
    }
   },
   "cell_type": "code",
   "source": [
    "df = df_accidents.join(df_casualties, df_accidents[\"Accident_Index\"] == df_casualties[\"Accident_Index\"], \"full\")\n",
    "df = df.join(df_vehicles, df_accidents[\"Accident_Index\"] == df_vehicles[\"Accident_Index\"], \"full\")\n",
    "df.show(5)"
   ],
   "id": "761190c4f5c47cba",
   "outputs": [
    {
     "name": "stderr",
     "output_type": "stream",
     "text": [
      "[Stage 102:===============================>                         (5 + 4) / 9]\r"
     ]
    },
    {
     "name": "stdout",
     "output_type": "stream",
     "text": [
      "+--------------+---------------------+----------------------+---------+---------+------------+-----------------+------------------+--------------------+----------+-----------+-------------------+--------------------------+-------------------------+--------------+---------------+---------+-----------+---------------+----------------+--------------+---------------+---------------------------------+---------------------------------------+----------------+------------------+-----------------------+--------------------------+-------------------+-------------------+-------------------------------------------+-------------------------+--------------+-----------------+------------------+--------------+---------------+---------------+--------------------+-----------------+-------------------+-------------------+-------------+----------------------+----------------------------------+-------------+-----------------------+--------------+-----------------+------------+-----------------------+-----------------+--------------------------------+-----------------+------------------------+-------------------------+---------------------------+--------------------------+-------------------+----------------------------+-------------------------+-------------+-------------+------------------+--------------------+---------------+--------------+-----------------+---------------------+\n",
      "|Accident_Index|Location_Easting_OSGR|Location_Northing_OSGR|Longitude| Latitude|Police_Force|Accident_Severity|Number_of_Vehicles|Number_of_Casualties|      Date|Day_of_Week|               Time|Local_Authority_(District)|Local_Authority_(Highway)|1st_Road_Class|1st_Road_Number|Road_Type|Speed_limit|Junction_Detail|Junction_Control|2nd_Road_Class|2nd_Road_Number|Pedestrian_Crossing-Human_Control|Pedestrian_Crossing-Physical_Facilities|Light_Conditions|Weather_Conditions|Road_Surface_Conditions|Special_Conditions_at_Site|Carriageway_Hazards|Urban_or_Rural_Area|Did_Police_Officer_Attend_Scene_of_Accident|LSOA_of_Accident_Location|Accident_Index|Vehicle_Reference|Casualty_Reference|Casualty_Class|Sex_of_Casualty|Age_of_Casualty|Age_Band_of_Casualty|Casualty_Severity|Pedestrian_Location|Pedestrian_Movement|Car_Passenger|Bus_or_Coach_Passenger|Pedestrian_Road_Maintenance_Worker|Casualty_Type|Casualty_Home_Area_Type|Accident_Index|Vehicle_Reference|Vehicle_Type|Towing_and_Articulation|Vehicle_Manoeuvre|Vehicle_Location-Restricted_Lane|Junction_Location|Skidding_and_Overturning|Hit_Object_in_Carriageway|Vehicle_Leaving_Carriageway|Hit_Object_off_Carriageway|1st_Point_of_Impact|Was_Vehicle_Left_Hand_Drive?|Journey_Purpose_of_Driver|Sex_of_Driver|Age_of_Driver|Age_Band_of_Driver|Engine_Capacity_(CC)|Propulsion_Code|Age_of_Vehicle|Driver_IMD_Decile|Driver_Home_Area_Type|\n",
      "+--------------+---------------------+----------------------+---------+---------+------------+-----------------+------------------+--------------------+----------+-----------+-------------------+--------------------------+-------------------------+--------------+---------------+---------+-----------+---------------+----------------+--------------+---------------+---------------------------------+---------------------------------------+----------------+------------------+-----------------------+--------------------------+-------------------+-------------------+-------------------------------------------+-------------------------+--------------+-----------------+------------------+--------------+---------------+---------------+--------------------+-----------------+-------------------+-------------------+-------------+----------------------+----------------------------------+-------------+-----------------------+--------------+-----------------+------------+-----------------------+-----------------+--------------------------------+-----------------+------------------------+-------------------------+---------------------------+--------------------------+-------------------+----------------------------+-------------------------+-------------+-------------+------------------+--------------------+---------------+--------------+-----------------+---------------------+\n",
      "| 200501BS00007|               524220|                180830|-0.211277|51.512695|           1|                3|                 2|                   1|13/01/2005|          5|2025-04-08 20:40:00|                        12|                E09000020|             5|              0|        6|         30|              3|               4|             6|              0|                                0|                                      0|               4|                 1|                      1|                         0|                  0|                  1|                                          1|                E01002875| 200501BS00007|                1|                 1|             1|              1|             31|                   6|                3|                  0|                  0|            0|                     0|                                -1|            3|                     -1| 200501BS00007|                1|           3|                      0|               18|                               0|                1|                       0|                        4|                          0|                         0|                  1|                           1|                       15|            1|           31|                 6|                  -1|             -1|            -1|               -1|                   -1|\n",
      "| 200501BS00007|               524220|                180830|-0.211277|51.512695|           1|                3|                 2|                   1|13/01/2005|          5|2025-04-08 20:40:00|                        12|                E09000020|             5|              0|        6|         30|              3|               4|             6|              0|                                0|                                      0|               4|                 1|                      1|                         0|                  0|                  1|                                          1|                E01002875| 200501BS00007|                1|                 1|             1|              1|             31|                   6|                3|                  0|                  0|            0|                     0|                                -1|            3|                     -1| 200501BS00007|                2|           9|                      0|                2|                               0|                1|                       0|                        0|                          0|                         0|                  2|                           1|                       15|            1|           41|                 7|                4266|              1|             4|                6|                    1|\n",
      "| 200501BS00015|               525590|                178520|-0.192366|51.491632|           1|                3|                 1|                   1|11/01/2005|          3|2025-04-08 12:55:00|                        12|                E09000020|             6|              0|        2|         30|              3|               4|             3|           3220|                                0|                                      1|               1|                 2|                      2|                         0|                  0|                  1|                                          1|                E01002849| 200501BS00015|                1|                 1|             3|              2|             75|                  10|                3|                  1|                  1|            0|                     0|                                -1|            0|                     -1| 200501BS00015|                1|           9|                      0|                9|                               0|                3|                       0|                        0|                          0|                         0|                  1|                           1|                       15|            2|           47|                 8|                1360|              1|             2|                3|                    1|\n",
      "| 200501BS00024|               524700|                180880|-0.204346|51.513039|           1|                3|                 2|                   1|24/01/2005|          2|2025-04-08 17:05:00|                        12|                E09000020|             4|            415|        6|         30|              3|               4|             5|              0|                                0|                                      0|               4|                 1|                      1|                         0|                  0|                  1|                                          2|                E01002882| 200501BS00024|                2|                 1|             1|              2|             25|                   5|                3|                  0|                  0|            0|                     0|                                -1|            1|                      1| 200501BS00024|                1|           9|                      0|                7|                               0|                8|                       0|                        0|                          0|                         0|                  1|                           1|                       15|            2|           37|                 7|                2792|              1|             6|                9|                    1|\n",
      "| 200501BS00024|               524700|                180880|-0.204346|51.513039|           1|                3|                 2|                   1|24/01/2005|          2|2025-04-08 17:05:00|                        12|                E09000020|             4|            415|        6|         30|              3|               4|             5|              0|                                0|                                      0|               4|                 1|                      1|                         0|                  0|                  1|                                          2|                E01002882| 200501BS00024|                2|                 1|             1|              2|             25|                   5|                3|                  0|                  0|            0|                     0|                                -1|            1|                      1| 200501BS00024|                2|           1|                      0|               17|                               0|                8|                       0|                        0|                          0|                         0|                  3|                           1|                       15|            2|           25|                 5|                  -1|             -1|            -1|                7|                    1|\n",
      "+--------------+---------------------+----------------------+---------+---------+------------+-----------------+------------------+--------------------+----------+-----------+-------------------+--------------------------+-------------------------+--------------+---------------+---------+-----------+---------------+----------------+--------------+---------------+---------------------------------+---------------------------------------+----------------+------------------+-----------------------+--------------------------+-------------------+-------------------+-------------------------------------------+-------------------------+--------------+-----------------+------------------+--------------+---------------+---------------+--------------------+-----------------+-------------------+-------------------+-------------+----------------------+----------------------------------+-------------+-----------------------+--------------+-----------------+------------+-----------------------+-----------------+--------------------------------+-----------------+------------------------+-------------------------+---------------------------+--------------------------+-------------------+----------------------------+-------------------------+-------------+-------------+------------------+--------------------+---------------+--------------+-----------------+---------------------+\n",
      "only showing top 5 rows\n",
      "\n"
     ]
    },
    {
     "name": "stderr",
     "output_type": "stream",
     "text": [
      "                                                                                \r"
     ]
    }
   ],
   "execution_count": 11
  },
  {
   "metadata": {},
   "cell_type": "markdown",
   "source": "#### Vytvorenie vzorky 10% dát stratifikovane",
   "id": "bac5b4b5b89648b5"
  },
  {
   "metadata": {
    "ExecuteTime": {
     "end_time": "2025-04-08T18:32:41.511129Z",
     "start_time": "2025-04-08T18:32:41.476796Z"
    }
   },
   "cell_type": "code",
   "source": "df_sampled = df.sampleBy(\"Accident_Severity\", fractions={1: 0.1, 2: 0.1, 3: 0.1}, seed=1234)",
   "id": "e07ce947b1390503",
   "outputs": [],
   "execution_count": 12
  },
  {
   "metadata": {
    "ExecuteTime": {
     "end_time": "2025-04-08T18:32:49.326747Z",
     "start_time": "2025-04-08T18:32:41.573648Z"
    }
   },
   "cell_type": "code",
   "source": [
    "df.groupBy(\"Accident_Severity\").count().orderBy(\"Accident_Severity\").show()\n",
    "df_sampled.groupBy(\"Accident_Severity\").count().orderBy(\"Accident_Severity\").show()"
   ],
   "id": "a89a052046017f95",
   "outputs": [
    {
     "name": "stderr",
     "output_type": "stream",
     "text": [
      "                                                                                \r"
     ]
    },
    {
     "name": "stdout",
     "output_type": "stream",
     "text": [
      "+-----------------+-------+\n",
      "|Accident_Severity|  count|\n",
      "+-----------------+-------+\n",
      "|                1|  83607|\n",
      "|                2| 596571|\n",
      "|                3|3607415|\n",
      "+-----------------+-------+\n",
      "\n"
     ]
    },
    {
     "name": "stderr",
     "output_type": "stream",
     "text": [
      "[Stage 130:=====================>                                   (3 + 5) / 8]\r"
     ]
    },
    {
     "name": "stdout",
     "output_type": "stream",
     "text": [
      "+-----------------+------+\n",
      "|Accident_Severity| count|\n",
      "+-----------------+------+\n",
      "|                1|  8145|\n",
      "|                2| 59787|\n",
      "|                3|360841|\n",
      "+-----------------+------+\n",
      "\n"
     ]
    },
    {
     "name": "stderr",
     "output_type": "stream",
     "text": [
      "                                                                                \r"
     ]
    }
   ],
   "execution_count": 13
  },
  {
   "metadata": {},
   "cell_type": "markdown",
   "source": "#### Rozdelenie dát na trénovaciu a testovaciu množinu",
   "id": "9b8ebfdbcfe7e791"
  },
  {
   "metadata": {
    "ExecuteTime": {
     "end_time": "2025-04-08T18:33:07.539414Z",
     "start_time": "2025-04-08T18:32:49.377104Z"
    }
   },
   "cell_type": "code",
   "source": [
    "df_train, df_test = df_sampled.randomSplit([0.70, 0.30], seed=1234)\n",
    "\n",
    "df_train.groupBy(\"Accident_Severity\").count().orderBy(\"Accident_Severity\").show()\n",
    "df_test.groupBy(\"Accident_Severity\").count().orderBy(\"Accident_Severity\").show()"
   ],
   "id": "b7754f586c4980d8",
   "outputs": [
    {
     "name": "stderr",
     "output_type": "stream",
     "text": [
      "                                                                                \r"
     ]
    },
    {
     "name": "stdout",
     "output_type": "stream",
     "text": [
      "+-----------------+------+\n",
      "|Accident_Severity| count|\n",
      "+-----------------+------+\n",
      "|                1|  5729|\n",
      "|                2| 41756|\n",
      "|                3|252817|\n",
      "+-----------------+------+\n",
      "\n"
     ]
    },
    {
     "name": "stderr",
     "output_type": "stream",
     "text": [
      "[Stage 169:>                                                        (0 + 8) / 9]\r"
     ]
    },
    {
     "name": "stdout",
     "output_type": "stream",
     "text": [
      "+-----------------+------+\n",
      "|Accident_Severity| count|\n",
      "+-----------------+------+\n",
      "|                1|  2494|\n",
      "|                2| 17814|\n",
      "|                3|107973|\n",
      "+-----------------+------+\n",
      "\n"
     ]
    },
    {
     "name": "stderr",
     "output_type": "stream",
     "text": [
      "                                                                                \r"
     ]
    }
   ],
   "execution_count": 14
  }
 ],
 "metadata": {
  "kernelspec": {
   "display_name": "Python 3",
   "language": "python",
   "name": "python3"
  },
  "language_info": {
   "codemirror_mode": {
    "name": "ipython",
    "version": 2
   },
   "file_extension": ".py",
   "mimetype": "text/x-python",
   "name": "python",
   "nbconvert_exporter": "python",
   "pygments_lexer": "ipython2",
   "version": "2.7.6"
  }
 },
 "nbformat": 4,
 "nbformat_minor": 5
}
