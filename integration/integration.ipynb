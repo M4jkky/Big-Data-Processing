{
 "cells": [
  {
   "cell_type": "markdown",
   "id": "f445490ded143646",
   "metadata": {},
   "source": [
    "# Integrácia dát"
   ]
  },
  {
   "cell_type": "code",
   "execution_count": 7,
   "id": "initial_id",
   "metadata": {
    "ExecuteTime": {
     "end_time": "2025-04-09T10:58:32.693543Z",
     "start_time": "2025-04-09T10:58:32.680389Z"
    },
    "collapsed": true
   },
   "outputs": [],
   "source": [
    "from pyspark.sql import SparkSession"
   ]
  },
  {
   "cell_type": "markdown",
   "id": "df700fcf991ab318",
   "metadata": {},
   "source": [
    "#### Vytvorenie SparkSession"
   ]
  },
  {
   "cell_type": "code",
   "execution_count": 8,
   "id": "defaaf4230daa807",
   "metadata": {
    "ExecuteTime": {
     "end_time": "2025-04-09T10:58:32.759038Z",
     "start_time": "2025-04-09T10:58:32.724364Z"
    }
   },
   "outputs": [],
   "source": [
    "spark = SparkSession.builder.appName(\"car_accidents\").getOrCreate()\n",
    "sc = spark.sparkContext\n",
    "spark.sparkContext.setLogLevel(\"ERROR\")"
   ]
  },
  {
   "cell_type": "markdown",
   "id": "7cb1f454ff39c2a5",
   "metadata": {},
   "source": [
    "#### Načítanie dát"
   ]
  },
  {
   "cell_type": "code",
   "execution_count": null,
   "id": "fc02d09ac01195a6",
   "metadata": {
    "ExecuteTime": {
     "end_time": "2025-04-09T10:58:39.965313Z",
     "start_time": "2025-04-09T10:58:32.762638Z"
    }
   },
   "outputs": [
    {
     "ename": "AnalysisException",
     "evalue": "[PATH_NOT_FOUND] Path does not exist: file:/c:/Users/jakub/Desktop/4LS/TSVD/BDP_Zadanie/Big-Data-Processing/data/CarAccidents/Accidents.csv.",
     "output_type": "error",
     "traceback": [
      "\u001b[1;31m---------------------------------------------------------------------------\u001b[0m",
      "\u001b[1;31mAnalysisException\u001b[0m                         Traceback (most recent call last)",
      "Cell \u001b[1;32mIn[9], line 1\u001b[0m\n\u001b[1;32m----> 1\u001b[0m df_accidents \u001b[38;5;241m=\u001b[39m \u001b[43mspark\u001b[49m\u001b[38;5;241;43m.\u001b[39;49m\u001b[43mread\u001b[49m\u001b[38;5;241;43m.\u001b[39;49m\u001b[43mcsv\u001b[49m\u001b[43m(\u001b[49m\u001b[38;5;124;43m\"\u001b[39;49m\u001b[38;5;124;43m../data/CarAccidents/Accidents.csv\u001b[39;49m\u001b[38;5;124;43m\"\u001b[39;49m\u001b[43m,\u001b[49m\u001b[43m \u001b[49m\u001b[43mheader\u001b[49m\u001b[38;5;241;43m=\u001b[39;49m\u001b[38;5;28;43;01mTrue\u001b[39;49;00m\u001b[43m,\u001b[49m\u001b[43m \u001b[49m\u001b[43minferSchema\u001b[49m\u001b[38;5;241;43m=\u001b[39;49m\u001b[38;5;28;43;01mTrue\u001b[39;49;00m\u001b[43m)\u001b[49m\n\u001b[0;32m      2\u001b[0m df_casualties \u001b[38;5;241m=\u001b[39m spark\u001b[38;5;241m.\u001b[39mread\u001b[38;5;241m.\u001b[39mcsv(\u001b[38;5;124m\"\u001b[39m\u001b[38;5;124m../data/CarAccidents/Casualties.csv\u001b[39m\u001b[38;5;124m\"\u001b[39m, header\u001b[38;5;241m=\u001b[39m\u001b[38;5;28;01mTrue\u001b[39;00m, inferSchema\u001b[38;5;241m=\u001b[39m\u001b[38;5;28;01mTrue\u001b[39;00m)\n\u001b[0;32m      3\u001b[0m df_vehicles \u001b[38;5;241m=\u001b[39m spark\u001b[38;5;241m.\u001b[39mread\u001b[38;5;241m.\u001b[39mcsv(\u001b[38;5;124m\"\u001b[39m\u001b[38;5;124m../data/CarAccidents/Vehicles.csv\u001b[39m\u001b[38;5;124m\"\u001b[39m, header\u001b[38;5;241m=\u001b[39m\u001b[38;5;28;01mTrue\u001b[39;00m, inferSchema\u001b[38;5;241m=\u001b[39m\u001b[38;5;28;01mTrue\u001b[39;00m)\n",
      "File \u001b[1;32mc:\\Users\\jakub\\AppData\\Local\\Programs\\Python\\Python312\\Lib\\site-packages\\pyspark\\sql\\readwriter.py:740\u001b[0m, in \u001b[0;36mDataFrameReader.csv\u001b[1;34m(self, path, schema, sep, encoding, quote, escape, comment, header, inferSchema, ignoreLeadingWhiteSpace, ignoreTrailingWhiteSpace, nullValue, nanValue, positiveInf, negativeInf, dateFormat, timestampFormat, maxColumns, maxCharsPerColumn, maxMalformedLogPerPartition, mode, columnNameOfCorruptRecord, multiLine, charToEscapeQuoteEscaping, samplingRatio, enforceSchema, emptyValue, locale, lineSep, pathGlobFilter, recursiveFileLookup, modifiedBefore, modifiedAfter, unescapedQuoteHandling)\u001b[0m\n\u001b[0;32m    738\u001b[0m \u001b[38;5;28;01mif\u001b[39;00m \u001b[38;5;28mtype\u001b[39m(path) \u001b[38;5;241m==\u001b[39m \u001b[38;5;28mlist\u001b[39m:\n\u001b[0;32m    739\u001b[0m     \u001b[38;5;28;01massert\u001b[39;00m \u001b[38;5;28mself\u001b[39m\u001b[38;5;241m.\u001b[39m_spark\u001b[38;5;241m.\u001b[39m_sc\u001b[38;5;241m.\u001b[39m_jvm \u001b[38;5;129;01mis\u001b[39;00m \u001b[38;5;129;01mnot\u001b[39;00m \u001b[38;5;28;01mNone\u001b[39;00m\n\u001b[1;32m--> 740\u001b[0m     \u001b[38;5;28;01mreturn\u001b[39;00m \u001b[38;5;28mself\u001b[39m\u001b[38;5;241m.\u001b[39m_df(\u001b[38;5;28;43mself\u001b[39;49m\u001b[38;5;241;43m.\u001b[39;49m\u001b[43m_jreader\u001b[49m\u001b[38;5;241;43m.\u001b[39;49m\u001b[43mcsv\u001b[49m\u001b[43m(\u001b[49m\u001b[38;5;28;43mself\u001b[39;49m\u001b[38;5;241;43m.\u001b[39;49m\u001b[43m_spark\u001b[49m\u001b[38;5;241;43m.\u001b[39;49m\u001b[43m_sc\u001b[49m\u001b[38;5;241;43m.\u001b[39;49m\u001b[43m_jvm\u001b[49m\u001b[38;5;241;43m.\u001b[39;49m\u001b[43mPythonUtils\u001b[49m\u001b[38;5;241;43m.\u001b[39;49m\u001b[43mtoSeq\u001b[49m\u001b[43m(\u001b[49m\u001b[43mpath\u001b[49m\u001b[43m)\u001b[49m\u001b[43m)\u001b[49m)\n\u001b[0;32m    741\u001b[0m \u001b[38;5;28;01melif\u001b[39;00m \u001b[38;5;28misinstance\u001b[39m(path, RDD):\n\u001b[0;32m    743\u001b[0m     \u001b[38;5;28;01mdef\u001b[39;00m \u001b[38;5;21mfunc\u001b[39m(iterator):\n",
      "File \u001b[1;32mc:\\Users\\jakub\\AppData\\Local\\Programs\\Python\\Python312\\Lib\\site-packages\\py4j\\java_gateway.py:1322\u001b[0m, in \u001b[0;36mJavaMember.__call__\u001b[1;34m(self, *args)\u001b[0m\n\u001b[0;32m   1316\u001b[0m command \u001b[38;5;241m=\u001b[39m proto\u001b[38;5;241m.\u001b[39mCALL_COMMAND_NAME \u001b[38;5;241m+\u001b[39m\\\n\u001b[0;32m   1317\u001b[0m     \u001b[38;5;28mself\u001b[39m\u001b[38;5;241m.\u001b[39mcommand_header \u001b[38;5;241m+\u001b[39m\\\n\u001b[0;32m   1318\u001b[0m     args_command \u001b[38;5;241m+\u001b[39m\\\n\u001b[0;32m   1319\u001b[0m     proto\u001b[38;5;241m.\u001b[39mEND_COMMAND_PART\n\u001b[0;32m   1321\u001b[0m answer \u001b[38;5;241m=\u001b[39m \u001b[38;5;28mself\u001b[39m\u001b[38;5;241m.\u001b[39mgateway_client\u001b[38;5;241m.\u001b[39msend_command(command)\n\u001b[1;32m-> 1322\u001b[0m return_value \u001b[38;5;241m=\u001b[39m \u001b[43mget_return_value\u001b[49m\u001b[43m(\u001b[49m\n\u001b[0;32m   1323\u001b[0m \u001b[43m    \u001b[49m\u001b[43manswer\u001b[49m\u001b[43m,\u001b[49m\u001b[43m \u001b[49m\u001b[38;5;28;43mself\u001b[39;49m\u001b[38;5;241;43m.\u001b[39;49m\u001b[43mgateway_client\u001b[49m\u001b[43m,\u001b[49m\u001b[43m \u001b[49m\u001b[38;5;28;43mself\u001b[39;49m\u001b[38;5;241;43m.\u001b[39;49m\u001b[43mtarget_id\u001b[49m\u001b[43m,\u001b[49m\u001b[43m \u001b[49m\u001b[38;5;28;43mself\u001b[39;49m\u001b[38;5;241;43m.\u001b[39;49m\u001b[43mname\u001b[49m\u001b[43m)\u001b[49m\n\u001b[0;32m   1325\u001b[0m \u001b[38;5;28;01mfor\u001b[39;00m temp_arg \u001b[38;5;129;01min\u001b[39;00m temp_args:\n\u001b[0;32m   1326\u001b[0m     \u001b[38;5;28;01mif\u001b[39;00m \u001b[38;5;28mhasattr\u001b[39m(temp_arg, \u001b[38;5;124m\"\u001b[39m\u001b[38;5;124m_detach\u001b[39m\u001b[38;5;124m\"\u001b[39m):\n",
      "File \u001b[1;32mc:\\Users\\jakub\\AppData\\Local\\Programs\\Python\\Python312\\Lib\\site-packages\\pyspark\\errors\\exceptions\\captured.py:185\u001b[0m, in \u001b[0;36mcapture_sql_exception.<locals>.deco\u001b[1;34m(*a, **kw)\u001b[0m\n\u001b[0;32m    181\u001b[0m converted \u001b[38;5;241m=\u001b[39m convert_exception(e\u001b[38;5;241m.\u001b[39mjava_exception)\n\u001b[0;32m    182\u001b[0m \u001b[38;5;28;01mif\u001b[39;00m \u001b[38;5;129;01mnot\u001b[39;00m \u001b[38;5;28misinstance\u001b[39m(converted, UnknownException):\n\u001b[0;32m    183\u001b[0m     \u001b[38;5;66;03m# Hide where the exception came from that shows a non-Pythonic\u001b[39;00m\n\u001b[0;32m    184\u001b[0m     \u001b[38;5;66;03m# JVM exception message.\u001b[39;00m\n\u001b[1;32m--> 185\u001b[0m     \u001b[38;5;28;01mraise\u001b[39;00m converted \u001b[38;5;28;01mfrom\u001b[39;00m \u001b[38;5;28;01mNone\u001b[39;00m\n\u001b[0;32m    186\u001b[0m \u001b[38;5;28;01melse\u001b[39;00m:\n\u001b[0;32m    187\u001b[0m     \u001b[38;5;28;01mraise\u001b[39;00m\n",
      "\u001b[1;31mAnalysisException\u001b[0m: [PATH_NOT_FOUND] Path does not exist: file:/c:/Users/jakub/Desktop/4LS/TSVD/BDP_Zadanie/Big-Data-Processing/data/CarAccidents/Accidents.csv."
     ]
    }
   ],
   "source": [
    "df_accidents = spark.read.csv(\"../data.tmp/CarAccidents/Accidents.csv\", header=True, inferSchema=True)\n",
    "df_casualties = spark.read.csv(\"../data.tmp/CarAccidents/Casualties.csv\", header=True, inferSchema=True)\n",
    "df_vehicles = spark.read.csv(\"../data.tmp/CarAccidents/Vehicles.csv\", header=True, inferSchema=True)\n",
    "df_vehicles = df_vehicles.drop(\"Vehicle_Reference\")\n",
    "\n",
    "df_accidents.show(5)"
   ]
  },
  {
   "cell_type": "markdown",
   "id": "c3177b6b20c2053e",
   "metadata": {},
   "source": [
    "#### Spojenie dát podľa Accident_Index"
   ]
  },
  {
   "cell_type": "code",
   "execution_count": null,
   "id": "761190c4f5c47cba",
   "metadata": {
    "ExecuteTime": {
     "end_time": "2025-04-09T10:58:51.825899Z",
     "start_time": "2025-04-09T10:58:40.026118Z"
    }
   },
   "outputs": [
    {
     "name": "stderr",
     "output_type": "stream",
     "text": [
      "[Stage 727:============================================>            (7 + 2) / 9]\r"
     ]
    },
    {
     "name": "stdout",
     "output_type": "stream",
     "text": [
      "+--------------+---------------------+----------------------+---------+---------+------------+-----------------+------------------+--------------------+----------+-----------+-------------------+--------------------------+-------------------------+--------------+---------------+---------+-----------+---------------+----------------+--------------+---------------+---------------------------------+---------------------------------------+----------------+------------------+-----------------------+--------------------------+-------------------+-------------------+-------------------------------------------+-------------------------+-----------------+------------------+--------------+---------------+---------------+--------------------+-----------------+-------------------+-------------------+-------------+----------------------+----------------------------------+-------------+-----------------------+------------+-----------------------+-----------------+--------------------------------+-----------------+------------------------+-------------------------+---------------------------+--------------------------+-------------------+----------------------------+-------------------------+-------------+-------------+------------------+--------------------+---------------+--------------+-----------------+---------------------+\n",
      "|Accident_Index|Location_Easting_OSGR|Location_Northing_OSGR|Longitude| Latitude|Police_Force|Accident_Severity|Number_of_Vehicles|Number_of_Casualties|      Date|Day_of_Week|               Time|Local_Authority_(District)|Local_Authority_(Highway)|1st_Road_Class|1st_Road_Number|Road_Type|Speed_limit|Junction_Detail|Junction_Control|2nd_Road_Class|2nd_Road_Number|Pedestrian_Crossing-Human_Control|Pedestrian_Crossing-Physical_Facilities|Light_Conditions|Weather_Conditions|Road_Surface_Conditions|Special_Conditions_at_Site|Carriageway_Hazards|Urban_or_Rural_Area|Did_Police_Officer_Attend_Scene_of_Accident|LSOA_of_Accident_Location|Vehicle_Reference|Casualty_Reference|Casualty_Class|Sex_of_Casualty|Age_of_Casualty|Age_Band_of_Casualty|Casualty_Severity|Pedestrian_Location|Pedestrian_Movement|Car_Passenger|Bus_or_Coach_Passenger|Pedestrian_Road_Maintenance_Worker|Casualty_Type|Casualty_Home_Area_Type|Vehicle_Type|Towing_and_Articulation|Vehicle_Manoeuvre|Vehicle_Location-Restricted_Lane|Junction_Location|Skidding_and_Overturning|Hit_Object_in_Carriageway|Vehicle_Leaving_Carriageway|Hit_Object_off_Carriageway|1st_Point_of_Impact|Was_Vehicle_Left_Hand_Drive?|Journey_Purpose_of_Driver|Sex_of_Driver|Age_of_Driver|Age_Band_of_Driver|Engine_Capacity_(CC)|Propulsion_Code|Age_of_Vehicle|Driver_IMD_Decile|Driver_Home_Area_Type|\n",
      "+--------------+---------------------+----------------------+---------+---------+------------+-----------------+------------------+--------------------+----------+-----------+-------------------+--------------------------+-------------------------+--------------+---------------+---------+-----------+---------------+----------------+--------------+---------------+---------------------------------+---------------------------------------+----------------+------------------+-----------------------+--------------------------+-------------------+-------------------+-------------------------------------------+-------------------------+-----------------+------------------+--------------+---------------+---------------+--------------------+-----------------+-------------------+-------------------+-------------+----------------------+----------------------------------+-------------+-----------------------+------------+-----------------------+-----------------+--------------------------------+-----------------+------------------------+-------------------------+---------------------------+--------------------------+-------------------+----------------------------+-------------------------+-------------+-------------+------------------+--------------------+---------------+--------------+-----------------+---------------------+\n",
      "| 200501BS00007|               524220|                180830|-0.211277|51.512695|           1|                3|                 2|                   1|13/01/2005|          5|2025-04-09 20:40:00|                        12|                E09000020|             5|              0|        6|         30|              3|               4|             6|              0|                                0|                                      0|               4|                 1|                      1|                         0|                  0|                  1|                                          1|                E01002875|                1|                 1|             1|              1|             31|                   6|                3|                  0|                  0|            0|                     0|                                -1|            3|                     -1|           3|                      0|               18|                               0|                1|                       0|                        4|                          0|                         0|                  1|                           1|                       15|            1|           31|                 6|                  -1|             -1|            -1|               -1|                   -1|\n",
      "| 200501BS00007|               524220|                180830|-0.211277|51.512695|           1|                3|                 2|                   1|13/01/2005|          5|2025-04-09 20:40:00|                        12|                E09000020|             5|              0|        6|         30|              3|               4|             6|              0|                                0|                                      0|               4|                 1|                      1|                         0|                  0|                  1|                                          1|                E01002875|                1|                 1|             1|              1|             31|                   6|                3|                  0|                  0|            0|                     0|                                -1|            3|                     -1|           9|                      0|                2|                               0|                1|                       0|                        0|                          0|                         0|                  2|                           1|                       15|            1|           41|                 7|                4266|              1|             4|                6|                    1|\n",
      "| 200501BS00015|               525590|                178520|-0.192366|51.491632|           1|                3|                 1|                   1|11/01/2005|          3|2025-04-09 12:55:00|                        12|                E09000020|             6|              0|        2|         30|              3|               4|             3|           3220|                                0|                                      1|               1|                 2|                      2|                         0|                  0|                  1|                                          1|                E01002849|                1|                 1|             3|              2|             75|                  10|                3|                  1|                  1|            0|                     0|                                -1|            0|                     -1|           9|                      0|                9|                               0|                3|                       0|                        0|                          0|                         0|                  1|                           1|                       15|            2|           47|                 8|                1360|              1|             2|                3|                    1|\n",
      "| 200501BS00024|               524700|                180880|-0.204346|51.513039|           1|                3|                 2|                   1|24/01/2005|          2|2025-04-09 17:05:00|                        12|                E09000020|             4|            415|        6|         30|              3|               4|             5|              0|                                0|                                      0|               4|                 1|                      1|                         0|                  0|                  1|                                          2|                E01002882|                2|                 1|             1|              2|             25|                   5|                3|                  0|                  0|            0|                     0|                                -1|            1|                      1|           9|                      0|                7|                               0|                8|                       0|                        0|                          0|                         0|                  1|                           1|                       15|            2|           37|                 7|                2792|              1|             6|                9|                    1|\n",
      "| 200501BS00024|               524700|                180880|-0.204346|51.513039|           1|                3|                 2|                   1|24/01/2005|          2|2025-04-09 17:05:00|                        12|                E09000020|             4|            415|        6|         30|              3|               4|             5|              0|                                0|                                      0|               4|                 1|                      1|                         0|                  0|                  1|                                          2|                E01002882|                2|                 1|             1|              2|             25|                   5|                3|                  0|                  0|            0|                     0|                                -1|            1|                      1|           1|                      0|               17|                               0|                8|                       0|                        0|                          0|                         0|                  3|                           1|                       15|            2|           25|                 5|                  -1|             -1|            -1|                7|                    1|\n",
      "+--------------+---------------------+----------------------+---------+---------+------------+-----------------+------------------+--------------------+----------+-----------+-------------------+--------------------------+-------------------------+--------------+---------------+---------+-----------+---------------+----------------+--------------+---------------+---------------------------------+---------------------------------------+----------------+------------------+-----------------------+--------------------------+-------------------+-------------------+-------------------------------------------+-------------------------+-----------------+------------------+--------------+---------------+---------------+--------------------+-----------------+-------------------+-------------------+-------------+----------------------+----------------------------------+-------------+-----------------------+------------+-----------------------+-----------------+--------------------------------+-----------------+------------------------+-------------------------+---------------------------+--------------------------+-------------------+----------------------------+-------------------------+-------------+-------------+------------------+--------------------+---------------+--------------+-----------------+---------------------+\n",
      "only showing top 5 rows\n",
      "\n"
     ]
    },
    {
     "name": "stderr",
     "output_type": "stream",
     "text": [
      "                                                                                \r"
     ]
    }
   ],
   "source": [
    "df = df_accidents.join(df_casualties, [\"Accident_Index\"], \"full\")\n",
    "df = df.join(df_vehicles, [\"Accident_Index\"], \"full\")\n",
    "df.show(5)"
   ]
  },
  {
   "cell_type": "markdown",
   "id": "bac5b4b5b89648b5",
   "metadata": {},
   "source": [
    "#### Vytvorenie vzorky 10% dát stratifikovane"
   ]
  },
  {
   "cell_type": "code",
   "execution_count": null,
   "id": "e07ce947b1390503",
   "metadata": {
    "ExecuteTime": {
     "end_time": "2025-04-09T10:58:51.910220Z",
     "start_time": "2025-04-09T10:58:51.841088Z"
    }
   },
   "outputs": [],
   "source": [
    "df_sampled = df.sampleBy(\"Accident_Severity\", fractions={1: 0.1, 2: 0.1, 3: 0.1}, seed=1234)"
   ]
  },
  {
   "cell_type": "code",
   "execution_count": null,
   "id": "a89a052046017f95",
   "metadata": {
    "ExecuteTime": {
     "end_time": "2025-04-09T10:59:02.129741Z",
     "start_time": "2025-04-09T10:58:52.037840Z"
    }
   },
   "outputs": [
    {
     "name": "stderr",
     "output_type": "stream",
     "text": [
      "                                                                                \r"
     ]
    },
    {
     "name": "stdout",
     "output_type": "stream",
     "text": [
      "+-----------------+-------+\n",
      "|Accident_Severity|  count|\n",
      "+-----------------+-------+\n",
      "|                1|  83607|\n",
      "|                2| 596571|\n",
      "|                3|3607415|\n",
      "+-----------------+-------+\n",
      "\n"
     ]
    },
    {
     "name": "stderr",
     "output_type": "stream",
     "text": [
      "[Stage 755:==============>                                          (2 + 6) / 8]\r"
     ]
    },
    {
     "name": "stdout",
     "output_type": "stream",
     "text": [
      "+-----------------+------+\n",
      "|Accident_Severity| count|\n",
      "+-----------------+------+\n",
      "|                1|  8145|\n",
      "|                2| 59787|\n",
      "|                3|360841|\n",
      "+-----------------+------+\n",
      "\n"
     ]
    },
    {
     "name": "stderr",
     "output_type": "stream",
     "text": [
      "                                                                                \r"
     ]
    }
   ],
   "source": [
    "df.groupBy(\"Accident_Severity\").count().orderBy(\"Accident_Severity\").show()\n",
    "df_sampled.groupBy(\"Accident_Severity\").count().orderBy(\"Accident_Severity\").show()"
   ]
  },
  {
   "cell_type": "markdown",
   "id": "9b8ebfdbcfe7e791",
   "metadata": {},
   "source": [
    "#### Rozdelenie dát na trénovaciu a testovaciu množinu"
   ]
  },
  {
   "cell_type": "code",
   "execution_count": null,
   "id": "b7754f586c4980d8",
   "metadata": {
    "ExecuteTime": {
     "end_time": "2025-04-09T10:59:02.194337Z",
     "start_time": "2025-04-09T10:59:02.175127Z"
    }
   },
   "outputs": [],
   "source": [
    "df_train, df_test = df_sampled.randomSplit([0.70, 0.30], seed=1234)"
   ]
  },
  {
   "cell_type": "code",
   "execution_count": null,
   "id": "670716b853537174",
   "metadata": {
    "ExecuteTime": {
     "end_time": "2025-04-09T10:59:25.048882Z",
     "start_time": "2025-04-09T10:59:02.283813Z"
    }
   },
   "outputs": [
    {
     "name": "stderr",
     "output_type": "stream",
     "text": [
      "[Stage 777:>                                                        (0 + 8) / 9]\r"
     ]
    },
    {
     "name": "stdout",
     "output_type": "stream",
     "text": [
      "[6360.969s][warning][gc,alloc] Executor task launch worker for task 3.0 in stage 777.0 (TID 2246): Retried waiting for GCLocker too often allocating 1048578 words\n"
     ]
    },
    {
     "name": "stderr",
     "output_type": "stream",
     "text": [
      "                                                                                \r"
     ]
    },
    {
     "name": "stdout",
     "output_type": "stream",
     "text": [
      "+-----------------+------+\n",
      "|Accident_Severity| count|\n",
      "+-----------------+------+\n",
      "|                1|  5748|\n",
      "|                2| 41617|\n",
      "|                3|252928|\n",
      "+-----------------+------+\n",
      "\n"
     ]
    },
    {
     "name": "stderr",
     "output_type": "stream",
     "text": [
      "[Stage 794:>                                                        (0 + 8) / 9]\r"
     ]
    },
    {
     "name": "stdout",
     "output_type": "stream",
     "text": [
      "+-----------------+------+\n",
      "|Accident_Severity| count|\n",
      "+-----------------+------+\n",
      "|                1|  2508|\n",
      "|                2| 17952|\n",
      "|                3|107855|\n",
      "+-----------------+------+\n",
      "\n"
     ]
    },
    {
     "name": "stderr",
     "output_type": "stream",
     "text": [
      "                                                                                \r"
     ]
    }
   ],
   "source": [
    "df_train.groupBy(\"Accident_Severity\").count().orderBy(\"Accident_Severity\").show()\n",
    "df_test.groupBy(\"Accident_Severity\").count().orderBy(\"Accident_Severity\").show()"
   ]
  }
 ],
 "metadata": {
  "kernelspec": {
   "display_name": "Python 3",
   "language": "python",
   "name": "python3"
  },
  "language_info": {
   "codemirror_mode": {
    "name": "ipython",
    "version": 3
   },
   "file_extension": ".py",
   "mimetype": "text/x-python",
   "name": "python",
   "nbconvert_exporter": "python",
   "pygments_lexer": "ipython3",
   "version": "3.12.1"
  }
 },
 "nbformat": 4,
 "nbformat_minor": 5
}
