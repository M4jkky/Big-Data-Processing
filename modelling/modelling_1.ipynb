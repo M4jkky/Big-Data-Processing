{
 "cells": [
  {
   "cell_type": "code",
   "id": "initial_id",
   "metadata": {
    "collapsed": true,
    "ExecuteTime": {
     "end_time": "2025-05-06T14:31:24.509296Z",
     "start_time": "2025-05-06T14:31:20.890641Z"
    }
   },
   "source": [
    "import sys\n",
    "\n",
    "import os\n",
    "\n",
    "sys.path.append(os.path.dirname(os.path.dirname(os.path.abspath(\"__file__\"))))\n",
    "\n",
    "from pyspark.sql import SparkSession\n",
    "from pyspark.ml.classification import DecisionTreeClassifier, LinearSVC, OneVsRest, NaiveBayes, RandomForestClassifier\n",
    "from preprocessing.preprocessing import preprocess_data\n",
    "from pyspark.mllib.evaluation import MulticlassMetrics\n",
    "from pyspark.ml.feature import StringIndexer\n",
    "import numpy as np\n",
    "import matplotlib.pyplot as plt\n",
    "from pyspark.ml.linalg import Vectors, VectorUDT\n",
    "from pyspark.sql.functions import udf\n",
    "\n",
    "# Vytvorenie SparkSession\n",
    "spark = SparkSession.builder.appName(\"modelling_2\").getOrCreate()\n",
    "\n",
    "# Nastavenie úrovne logovania\n",
    "spark.sparkContext.setLogLevel(\"ERROR\")\n"
   ],
   "outputs": [
    {
     "name": "stderr",
     "output_type": "stream",
     "text": [
      "Setting default log level to \"WARN\".\n",
      "To adjust logging level use sc.setLogLevel(newLevel). For SparkR, use setLogLevel(newLevel).\n",
      "25/05/06 16:31:22 WARN NativeCodeLoader: Unable to load native-hadoop library for your platform... using builtin-java classes where applicable\n"
     ]
    }
   ],
   "execution_count": 1
  },
  {
   "cell_type": "code",
   "id": "347bac31d39a54d0",
   "metadata": {
    "ExecuteTime": {
     "end_time": "2025-05-06T14:33:01.140303Z",
     "start_time": "2025-05-06T14:31:28.286376Z"
    }
   },
   "source": [
    "df_train, df_test = preprocess_data()\n",
    "df_train.select(\"features\", \"Accident_Severity\").show(5, truncate=False)"
   ],
   "outputs": [
    {
     "name": "stderr",
     "output_type": "stream",
     "text": [
      "[Stage 84:>                                                         (0 + 8) / 9]\r"
     ]
    },
    {
     "name": "stdout",
     "output_type": "stream",
     "text": [
      "[87.295s][warning][gc,alloc] Executor task launch worker for task 1.0 in stage 84.0 (TID 233): Retried waiting for GCLocker too often allocating 1048578 words\n"
     ]
    },
    {
     "name": "stderr",
     "output_type": "stream",
     "text": [
      "[Stage 96:======================================>                   (6 + 3) / 9]\r"
     ]
    },
    {
     "name": "stdout",
     "output_type": "stream",
     "text": [
      "+--------------------------------------------------------------------------------------------------------------+-----------------+\n",
      "|features                                                                                                      |Accident_Severity|\n",
      "+--------------------------------------------------------------------------------------------------------------+-----------------+\n",
      "|[525590.0,178860.0,1.0,3.0,1.0,12.0,4.0,30.0,3.0,2.0,5.0,0.0,1.0,1.0,1.0,1.0,3.0,5.0,6.0,8.0,0.0,1.0,8.0]     |3                |\n",
      "|[524940.0,178540.0,1.0,2.0,1.0,12.0,4.0,40.0,0.0,-1.0,-1.0,0.0,1.0,1.0,1.0,1.0,3.0,3.0,12.0,0.0,0.0,1.0,8.0]  |3                |\n",
      "|[527870.0,178350.0,1.0,1.0,1.0,12.0,0.0,30.0,3.0,4.0,6.0,0.0,1.0,1.0,1.0,1.0,2.0,0.0,16.0,1.0,0.0,4.0,7.0]    |2                |\n",
      "|[527200.0,178760.0,1.0,3.0,1.0,12.0,308.0,30.0,3.0,2.0,5.0,0.0,1.0,1.0,1.0,1.0,3.0,2.0,16.0,1.0,0.0,1.0,14.0] |3                |\n",
      "|[525200.0,179360.0,1.0,2.0,1.0,12.0,315.0,30.0,0.0,-1.0,-1.0,0.0,1.0,1.0,2.0,1.0,3.0,1.0,13.0,0.0,0.0,1.0,8.0]|3                |\n",
      "+--------------------------------------------------------------------------------------------------------------+-----------------+\n",
      "only showing top 5 rows\n",
      "\n"
     ]
    },
    {
     "name": "stderr",
     "output_type": "stream",
     "text": [
      "                                                                                \r"
     ]
    }
   ],
   "execution_count": 2
  },
  {
   "cell_type": "code",
   "id": "4c4e6eda74b343fd",
   "metadata": {
    "ExecuteTime": {
     "end_time": "2025-05-06T14:33:15.511152Z",
     "start_time": "2025-05-06T14:33:01.489320Z"
    }
   },
   "source": [
    "if 'label' in df_train.columns:\n",
    "    df_train = df_train.drop('label')\n",
    "if 'label' in df_test.columns:\n",
    "    df_test = df_test.drop('label')\n",
    "\n",
    "labelIndexer = StringIndexer(inputCol=\"Accident_Severity\", outputCol=\"label\")\n",
    "fitted_indexer = labelIndexer.fit(df_train)\n",
    "df_train = fitted_indexer.transform(df_train)\n",
    "df_test = fitted_indexer.transform(df_test)"
   ],
   "outputs": [
    {
     "name": "stderr",
     "output_type": "stream",
     "text": [
      "                                                                                \r"
     ]
    }
   ],
   "execution_count": 3
  },
  {
   "cell_type": "code",
   "id": "4168b4fb82633453",
   "metadata": {
    "ExecuteTime": {
     "end_time": "2025-05-06T14:33:15.570888Z",
     "start_time": "2025-05-06T14:33:15.560274Z"
    }
   },
   "source": [
    "def evaluate_model(model, data, model_name):\n",
    "    predictions = model.transform(data)\n",
    "\n",
    "    predictionAndLabels = predictions.select(\"prediction\", \"label\").rdd.map(lambda x: (float(x[0]), float(x[1])))\n",
    "\n",
    "    metrics = MulticlassMetrics(predictionAndLabels)\n",
    "\n",
    "    labels = [float(l) for l in metrics._java_model.labels()]\n",
    "    confusion_matrix = metrics.confusionMatrix().toArray()\n",
    "\n",
    "    print(f\"\\n--- {model_name} Confusion Matrix ---\")\n",
    "\n",
    "    header = \"True \\\\ Predicted\"\n",
    "    for l in labels:\n",
    "        header += f\"\\t{int(l)}\"\n",
    "    print(header)\n",
    "\n",
    "    for i, l in enumerate(labels):\n",
    "        row = f\"{int(l)}\"\n",
    "        for j in range(len(labels)):\n",
    "            row += f\"\\t{int(confusion_matrix[i][j])}\"\n",
    "        print(row)\n",
    "\n",
    "    precisions = [metrics.precision(label) for label in labels]\n",
    "    recalls = [metrics.recall(label) for label in labels]\n",
    "    f1Scores = [metrics.fMeasure(label) for label in labels]\n",
    "\n",
    "    precision = sum(precisions) / len(precisions)\n",
    "    recall = sum(recalls) / len(recalls)\n",
    "    f1Score = sum(f1Scores) / len(f1Scores)\n",
    "\n",
    "    n_classes = len(labels)\n",
    "    confusion_sum = confusion_matrix.sum()\n",
    "\n",
    "    cov_xy = 0\n",
    "    cov_xx = 0\n",
    "    cov_yy = 0\n",
    "\n",
    "    for i in range(n_classes):\n",
    "        row_sum = sum(confusion_matrix[i])\n",
    "        col_sum = sum(confusion_matrix[:, i])\n",
    "\n",
    "        cov_xy += row_sum * col_sum\n",
    "        cov_xx += row_sum * row_sum\n",
    "        cov_yy += col_sum * col_sum\n",
    "\n",
    "    mcc_numerator = 0\n",
    "    for i in range(n_classes):\n",
    "        for j in range(n_classes):\n",
    "            mcc_numerator += confusion_matrix[i][j] * (confusion_matrix.sum() * confusion_matrix[i][j] -\n",
    "                                                     sum(confusion_matrix[i]) * sum(confusion_matrix[:, j]))\n",
    "\n",
    "    mcc_denominator = np.sqrt((confusion_sum**2 - cov_xx) * (confusion_sum**2 - cov_yy))\n",
    "    mcc = mcc_numerator / mcc_denominator if mcc_denominator != 0 else 0\n",
    "\n",
    "    print(f\"\\n--- {model_name} Evaluation Metrics ---\")\n",
    "    print(f\"Precision: {precision:.4f}\")\n",
    "    print(f\"Recall: {recall:.4f}\")\n",
    "    print(f\"F1 Score: {f1Score:.4f}\")\n",
    "    print(f\"MCC: {mcc:.4f}\\n\")\n",
    "\n",
    "    return {\n",
    "        \"precision\": precision,\n",
    "        \"recall\": recall,\n",
    "        \"f1\": f1Score,\n",
    "        \"mcc\": mcc,\n",
    "        \"confusion_matrix\": confusion_matrix\n",
    "    }"
   ],
   "outputs": [],
   "execution_count": 4
  },
  {
   "cell_type": "code",
   "id": "65b656475399183a",
   "metadata": {},
   "source": [
    "dt = DecisionTreeClassifier(labelCol=\"label\", featuresCol=\"features\", maxDepth=5)\n",
    "dt_model = dt.fit(df_train)\n",
    "dt_metrics = evaluate_model(dt_model, df_test, \"Decision Tree\")\n",
    "\n",
    "base_classifier = LinearSVC(maxIter=10, regParam=0.1, featuresCol=\"features\")\n",
    "lsvc = OneVsRest(classifier=base_classifier, labelCol=\"label\")\n",
    "lsvc_model = lsvc.fit(df_train)\n",
    "lsvc_metrics = evaluate_model(lsvc_model, df_test, \"Linear SVM\")"
   ],
   "outputs": [],
   "execution_count": null
  },
  {
   "cell_type": "code",
   "id": "58cc08673fe5994e",
   "metadata": {},
   "source": [
    "plt.figure(figsize=(8, 6))\n",
    "plt.imshow(dt_metrics[\"confusion_matrix\"], interpolation='nearest', cmap=plt.cm.Blues)\n",
    "plt.title(\"Decision Tree Confusion Matrix\")\n",
    "plt.colorbar()\n",
    "\n",
    "thresh = dt_metrics[\"confusion_matrix\"].max() / 2\n",
    "for i in range(dt_metrics[\"confusion_matrix\"].shape[0]):\n",
    "    for j in range(dt_metrics[\"confusion_matrix\"].shape[1]):\n",
    "        plt.text(j, i, format(int(dt_metrics[\"confusion_matrix\"][i, j]), 'd'),\n",
    "                horizontalalignment=\"center\",\n",
    "                color=\"white\" if dt_metrics[\"confusion_matrix\"][i, j] > thresh else \"black\")\n",
    "\n",
    "plt.figure(figsize=(8, 6))\n",
    "plt.imshow(lsvc_metrics[\"confusion_matrix\"], interpolation='nearest', cmap=plt.cm.Blues)\n",
    "plt.title(\"Linear SVM Confusion Matrix\")\n",
    "plt.colorbar()\n",
    "\n",
    "# Add numbers to the cells\n",
    "thresh = lsvc_metrics[\"confusion_matrix\"].max() / 2\n",
    "for i in range(lsvc_metrics[\"confusion_matrix\"].shape[0]):\n",
    "    for j in range(lsvc_metrics[\"confusion_matrix\"].shape[1]):\n",
    "        plt.text(j, i, format(int(lsvc_metrics[\"confusion_matrix\"][i, j]), 'd'),\n",
    "                horizontalalignment=\"center\",\n",
    "                color=\"white\" if lsvc_metrics[\"confusion_matrix\"][i, j] > thresh else \"black\")\n",
    "\n",
    "plt.ylabel('True label')\n",
    "plt.xlabel('Predicted label')\n",
    "plt.tight_layout()"
   ],
   "outputs": [],
   "execution_count": null
  },
  {
   "cell_type": "code",
   "id": "35547c2a",
   "metadata": {
    "ExecuteTime": {
     "end_time": "2025-05-06T14:34:09.319617Z",
     "start_time": "2025-05-06T14:33:15.615315Z"
    }
   },
   "source": [
    "# --- Zistenie minimálnej hodnoty vo features ---\n",
    "min_feature_value = df_train.select(\"features\").rdd.map(lambda row: float(min(row[\"features\"]))).min()\n",
    "print(f\">>> Minimálna hodnota vo features: {min_feature_value}\")\n",
    "\n",
    "# --- Posun, ak sú hodnoty záporné ---\n",
    "if min_feature_value < 0:\n",
    "    shift_value = abs(min_feature_value) + 1.0\n",
    "    print(f\">>> Posúvam všetky hodnoty o: {shift_value}\")\n",
    "\n",
    "    def shift_vector(vec):\n",
    "        return Vectors.dense([x + shift_value for x in vec])\n",
    "\n",
    "    shift_udf = udf(shift_vector, VectorUDT())\n",
    "\n",
    "    df_train = df_train.withColumn(\"features\", shift_udf(\"features\"))\n",
    "    df_test = df_test.withColumn(\"features\", shift_udf(\"features\"))\n",
    "    print(\">>> Shift hotový.\")\n",
    "else:\n",
    "    print(\">>> Všetky hodnoty sú nezáporné, shift netreba.\")\n",
    "\n",
    "# --- Trénovanie Naive Bayes ---\n",
    "nb = NaiveBayes(labelCol=\"label\", featuresCol=\"features\", smoothing=1.0, modelType=\"multinomial\")\n",
    "nb_model = nb.fit(df_train)\n",
    "print(\">>> Naive Bayes model natrenovaný.\")\n",
    "\n",
    "# --- Vyhodnotenie ---\n",
    "nb_metrics = evaluate_model(nb_model, df_test, \"Naive Bayes\")\n"
   ],
   "outputs": [
    {
     "name": "stderr",
     "output_type": "stream",
     "text": [
      "[Stage 129:>                                                        (0 + 8) / 9]\r"
     ]
    },
    {
     "name": "stdout",
     "output_type": "stream",
     "text": [
      "[123.043s][warning][gc,alloc] stdout writer for python3: Retried waiting for GCLocker too often allocating 1048578 words\n"
     ]
    },
    {
     "name": "stderr",
     "output_type": "stream",
     "text": [
      "                                                                                \r"
     ]
    },
    {
     "name": "stdout",
     "output_type": "stream",
     "text": [
      ">>> Minimálna hodnota vo features: -1.0\n",
      ">>> Posúvam všetky hodnoty o: 2.0\n",
      ">>> Shift hotový.\n"
     ]
    },
    {
     "name": "stderr",
     "output_type": "stream",
     "text": [
      "                                                                                \r"
     ]
    },
    {
     "name": "stdout",
     "output_type": "stream",
     "text": [
      ">>> Naive Bayes model natrenovaný.\n"
     ]
    },
    {
     "name": "stderr",
     "output_type": "stream",
     "text": [
      "/Users/m4/miniconda3/envs/tsvd/lib/python3.13/site-packages/pyspark/sql/context.py:158: FutureWarning: Deprecated in 3.0.0. Use SparkSession.builder.getOrCreate() instead.\n",
      "  warnings.warn(\n",
      "Exception ignored in: <_io.BufferedWriter name=5>                               \n",
      "Traceback (most recent call last):\n",
      "  File \"/Users/m4/miniconda3/envs/tsvd/lib/python3.13/site-packages/pyspark/python/lib/pyspark.zip/pyspark/daemon.py\", line 193, in manager\n",
      "BrokenPipeError: [Errno 32] Broken pipe\n",
      "[Stage 168:==================================================>      (8 + 1) / 9]\r"
     ]
    },
    {
     "name": "stdout",
     "output_type": "stream",
     "text": [
      "\n",
      "--- Naive Bayes Confusion Matrix ---\n",
      "True \\ Predicted\t0\t1\t2\n",
      "0\t58997\t4305\t44553\n",
      "1\t9527\t646\t7779\n",
      "2\t1313\t85\t1110\n",
      "\n",
      "--- Naive Bayes Evaluation Metrics ---\n",
      "Precision: 0.3313\n",
      "Recall: 0.3419\n",
      "F1 Score: 0.2533\n",
      "MCC: 28.0155\n",
      "\n"
     ]
    },
    {
     "name": "stderr",
     "output_type": "stream",
     "text": [
      "                                                                                \r"
     ]
    }
   ],
   "execution_count": 5
  },
  {
   "cell_type": "code",
   "id": "4874ceb2",
   "metadata": {
    "ExecuteTime": {
     "end_time": "2025-05-06T14:35:09.804494Z",
     "start_time": "2025-05-06T14:34:09.429631Z"
    }
   },
   "source": [
    "# Random Forest\n",
    "rf = RandomForestClassifier(labelCol=\"label\", featuresCol=\"features\", numTrees=100, maxDepth=5)\n",
    "rf_model = rf.fit(df_train)\n",
    "rf_metrics = evaluate_model(rf_model, df_test, \"Random Forest\")\n",
    "\n",
    "plt.figure(figsize=(8, 6))\n",
    "plt.imshow(rf_metrics[\"confusion_matrix\"], interpolation='nearest', cmap=plt.cm.Blues)\n",
    "plt.title(\"Random Forest Confusion Matrix\")\n",
    "plt.colorbar()\n",
    "thresh = rf_metrics[\"confusion_matrix\"].max() / 2\n",
    "for i in range(rf_metrics[\"confusion_matrix\"].shape[0]):\n",
    "    for j in range(rf_metrics[\"confusion_matrix\"].shape[1]):\n",
    "        plt.text(j, i, format(int(rf_metrics[\"confusion_matrix\"][i, j]), 'd'),\n",
    "                 horizontalalignment=\"center\",\n",
    "                 color=\"white\" if rf_metrics[\"confusion_matrix\"][i, j] > thresh else \"black\")"
   ],
   "outputs": [
    {
     "name": "stderr",
     "output_type": "stream",
     "text": [
      "Exception ignored in: <_io.BufferedWriter name=5>                               \n",
      "Traceback (most recent call last):\n",
      "  File \"/Users/m4/miniconda3/envs/tsvd/lib/python3.13/site-packages/pyspark/python/lib/pyspark.zip/pyspark/daemon.py\", line 193, in manager\n",
      "BrokenPipeError: [Errno 32] Broken pipe\n",
      "/Users/m4/miniconda3/envs/tsvd/lib/python3.13/site-packages/pyspark/sql/context.py:158: FutureWarning: Deprecated in 3.0.0. Use SparkSession.builder.getOrCreate() instead.\n",
      "  warnings.warn(\n",
      "Exception ignored in: <_io.BufferedWriter name=5>                               \n",
      "Traceback (most recent call last):\n",
      "  File \"/Users/m4/miniconda3/envs/tsvd/lib/python3.13/site-packages/pyspark/python/lib/pyspark.zip/pyspark/daemon.py\", line 193, in manager\n",
      "BrokenPipeError: [Errno 32] Broken pipe\n",
      "                                                                                \r"
     ]
    },
    {
     "name": "stdout",
     "output_type": "stream",
     "text": [
      "\n",
      "--- Random Forest Confusion Matrix ---\n",
      "True \\ Predicted\t0\t1\t2\n",
      "0\t107855\t0\t0\n",
      "1\t5201\t12751\t0\n",
      "2\t790\t1652\t66\n",
      "\n",
      "--- Random Forest Evaluation Metrics ---\n",
      "Precision: 0.9442\n",
      "Recall: 0.5789\n",
      "F1 Score: 0.6042\n",
      "MCC: 46423.2593\n",
      "\n"
     ]
    },
    {
     "data": {
      "text/plain": [
       "<Figure size 800x600 with 2 Axes>"
      ],
      "image/png": "[encoded data removed]"
     },
     "metadata": {},
     "output_type": "display_data"
    }
   ],
   "execution_count": 6
  }
 ],
 "metadata": {
  "kernelspec": {
   "display_name": "Python 3",
   "language": "python",
   "name": "python3"
  },
  "language_info": {
   "codemirror_mode": {
    "name": "ipython",
    "version": 3
   },
   "file_extension": ".py",
   "mimetype": "text/x-python",
   "name": "python",
   "nbconvert_exporter": "python",
   "pygments_lexer": "ipython3",
   "version": "3.10.0"
  }
 },
 "nbformat": 4,
 "nbformat_minor": 5
}
